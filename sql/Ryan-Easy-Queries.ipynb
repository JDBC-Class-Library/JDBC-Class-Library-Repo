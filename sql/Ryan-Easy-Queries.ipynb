{
    "metadata": {
        "kernelspec": {
            "name": "SQL",
            "display_name": "SQL",
            "language": "sql"
        },
        "language_info": {
            "name": "sql",
            "version": ""
        }
    },
    "nbformat_minor": 2,
    "nbformat": 4,
    "cells": [
        {
            "cell_type": "markdown",
            "source": [
                "# Simple queries have (up to) 2 tables joined. Table or view."
            ],
            "metadata": {
                "azdata_cell_guid": "1ad05f22-ba1d-44ab-8a17-4d690bbb2fbb"
            },
            "attachments": {}
        },
        {
            "cell_type": "markdown",
            "source": [
                "## AdventureWorks 2017\n",
                "\n",
                "Proposition: **Return the 100 fastest fully completed work orders.**"
            ],
            "metadata": {
                "azdata_cell_guid": "e7effb34-a76a-4625-87ad-96b910867567"
            },
            "attachments": {}
        },
        {
            "cell_type": "code",
            "source": [
                "use AdventureWorks2017\n",
                "\n",
                "select top 100 WorkOrderID as workorderid,\n",
                "    datediff(day, StartDate, EndDate) as dayselapsed\n",
                "from Production.[WorkOrder]\n",
                "where OrderQty = StockedQty\n",
                "order by daysElapsed asc, workorderid asc"
            ],
            "metadata": {
                "azdata_cell_guid": "977405ec-33d6-4b23-a7ee-ce70ece1431d",
                "language": "sql",
                "tags": []
            },
            "outputs": [
                {
                    "output_type": "display_data",
                    "data": {
                        "text/html": "(100 rows affected)"
                    },
                    "metadata": {}
                },
                {
                    "output_type": "display_data",
                    "data": {
                        "text/html": "Total execution time: 00:00:00.056"
                    },
                    "metadata": {}
                },
                {
                    "output_type": "execute_result",
                    "execution_count": 15,
                    "data": {
                        "application/vnd.dataresource+json": {
                            "schema": {
                                "fields": [
                                    {
                                        "name": "workorderid"
                                    },
                                    {
                                        "name": "dayselapsed"
                                    }
                                ]
                            },
                            "data": [
                                {
                                    "0": "1",
                                    "1": "10"
                                },
                                {
                                    "0": "2",
                                    "1": "10"
                                },
                                {
                                    "0": "3",
                                    "1": "10"
                                },
                                {
                                    "0": "4",
                                    "1": "10"
                                },
                                {
                                    "0": "5",
                                    "1": "10"
                                },
                                {
                                    "0": "6",
                                    "1": "10"
                                },
                                {
                                    "0": "7",
                                    "1": "10"
                                },
                                {
                                    "0": "8",
                                    "1": "10"
                                },
                                {
                                    "0": "9",
                                    "1": "10"
                                },
                                {
                                    "0": "10",
                                    "1": "10"
                                },
                                {
                                    "0": "11",
                                    "1": "10"
                                },
                                {
                                    "0": "12",
                                    "1": "10"
                                },
                                {
                                    "0": "43",
                                    "1": "10"
                                },
                                {
                                    "0": "44",
                                    "1": "10"
                                },
                                {
                                    "0": "45",
                                    "1": "10"
                                },
                                {
                                    "0": "46",
                                    "1": "10"
                                },
                                {
                                    "0": "47",
                                    "1": "10"
                                },
                                {
                                    "0": "48",
                                    "1": "10"
                                },
                                {
                                    "0": "49",
                                    "1": "10"
                                },
                                {
                                    "0": "50",
                                    "1": "10"
                                },
                                {
                                    "0": "51",
                                    "1": "10"
                                },
                                {
                                    "0": "52",
                                    "1": "10"
                                },
                                {
                                    "0": "53",
                                    "1": "10"
                                },
                                {
                                    "0": "54",
                                    "1": "10"
                                },
                                {
                                    "0": "55",
                                    "1": "10"
                                },
                                {
                                    "0": "56",
                                    "1": "10"
                                },
                                {
                                    "0": "57",
                                    "1": "10"
                                },
                                {
                                    "0": "58",
                                    "1": "10"
                                },
                                {
                                    "0": "59",
                                    "1": "10"
                                },
                                {
                                    "0": "60",
                                    "1": "10"
                                },
                                {
                                    "0": "61",
                                    "1": "10"
                                },
                                {
                                    "0": "62",
                                    "1": "10"
                                },
                                {
                                    "0": "63",
                                    "1": "10"
                                },
                                {
                                    "0": "64",
                                    "1": "10"
                                },
                                {
                                    "0": "88",
                                    "1": "10"
                                },
                                {
                                    "0": "89",
                                    "1": "10"
                                },
                                {
                                    "0": "90",
                                    "1": "10"
                                },
                                {
                                    "0": "92",
                                    "1": "10"
                                },
                                {
                                    "0": "93",
                                    "1": "10"
                                },
                                {
                                    "0": "94",
                                    "1": "10"
                                },
                                {
                                    "0": "95",
                                    "1": "10"
                                },
                                {
                                    "0": "96",
                                    "1": "10"
                                },
                                {
                                    "0": "97",
                                    "1": "10"
                                },
                                {
                                    "0": "98",
                                    "1": "10"
                                },
                                {
                                    "0": "99",
                                    "1": "10"
                                },
                                {
                                    "0": "100",
                                    "1": "10"
                                },
                                {
                                    "0": "104",
                                    "1": "10"
                                },
                                {
                                    "0": "105",
                                    "1": "10"
                                },
                                {
                                    "0": "106",
                                    "1": "10"
                                },
                                {
                                    "0": "107",
                                    "1": "10"
                                },
                                {
                                    "0": "114",
                                    "1": "10"
                                },
                                {
                                    "0": "115",
                                    "1": "10"
                                },
                                {
                                    "0": "116",
                                    "1": "10"
                                },
                                {
                                    "0": "129",
                                    "1": "10"
                                },
                                {
                                    "0": "130",
                                    "1": "10"
                                },
                                {
                                    "0": "131",
                                    "1": "10"
                                },
                                {
                                    "0": "132",
                                    "1": "10"
                                },
                                {
                                    "0": "133",
                                    "1": "10"
                                },
                                {
                                    "0": "134",
                                    "1": "10"
                                },
                                {
                                    "0": "135",
                                    "1": "10"
                                },
                                {
                                    "0": "136",
                                    "1": "10"
                                },
                                {
                                    "0": "137",
                                    "1": "10"
                                },
                                {
                                    "0": "138",
                                    "1": "10"
                                },
                                {
                                    "0": "139",
                                    "1": "10"
                                },
                                {
                                    "0": "140",
                                    "1": "10"
                                },
                                {
                                    "0": "142",
                                    "1": "10"
                                },
                                {
                                    "0": "143",
                                    "1": "10"
                                },
                                {
                                    "0": "144",
                                    "1": "10"
                                },
                                {
                                    "0": "145",
                                    "1": "10"
                                },
                                {
                                    "0": "152",
                                    "1": "10"
                                },
                                {
                                    "0": "153",
                                    "1": "10"
                                },
                                {
                                    "0": "154",
                                    "1": "10"
                                },
                                {
                                    "0": "155",
                                    "1": "10"
                                },
                                {
                                    "0": "170",
                                    "1": "10"
                                },
                                {
                                    "0": "171",
                                    "1": "10"
                                },
                                {
                                    "0": "172",
                                    "1": "10"
                                },
                                {
                                    "0": "173",
                                    "1": "10"
                                },
                                {
                                    "0": "174",
                                    "1": "10"
                                },
                                {
                                    "0": "175",
                                    "1": "10"
                                },
                                {
                                    "0": "176",
                                    "1": "10"
                                },
                                {
                                    "0": "177",
                                    "1": "10"
                                },
                                {
                                    "0": "178",
                                    "1": "10"
                                },
                                {
                                    "0": "179",
                                    "1": "10"
                                },
                                {
                                    "0": "180",
                                    "1": "10"
                                },
                                {
                                    "0": "181",
                                    "1": "10"
                                },
                                {
                                    "0": "184",
                                    "1": "10"
                                },
                                {
                                    "0": "185",
                                    "1": "10"
                                },
                                {
                                    "0": "186",
                                    "1": "10"
                                },
                                {
                                    "0": "187",
                                    "1": "10"
                                },
                                {
                                    "0": "191",
                                    "1": "10"
                                },
                                {
                                    "0": "192",
                                    "1": "10"
                                },
                                {
                                    "0": "201",
                                    "1": "10"
                                },
                                {
                                    "0": "202",
                                    "1": "10"
                                },
                                {
                                    "0": "203",
                                    "1": "10"
                                },
                                {
                                    "0": "204",
                                    "1": "10"
                                },
                                {
                                    "0": "205",
                                    "1": "10"
                                },
                                {
                                    "0": "206",
                                    "1": "10"
                                },
                                {
                                    "0": "207",
                                    "1": "10"
                                },
                                {
                                    "0": "208",
                                    "1": "10"
                                },
                                {
                                    "0": "209",
                                    "1": "10"
                                }
                            ]
                        },
                        "text/html": "<table><tr><th>workorderid</th><th>dayselapsed</th></tr><tr><td>1</td><td>10</td></tr><tr><td>2</td><td>10</td></tr><tr><td>3</td><td>10</td></tr><tr><td>4</td><td>10</td></tr><tr><td>5</td><td>10</td></tr><tr><td>6</td><td>10</td></tr><tr><td>7</td><td>10</td></tr><tr><td>8</td><td>10</td></tr><tr><td>9</td><td>10</td></tr><tr><td>10</td><td>10</td></tr><tr><td>11</td><td>10</td></tr><tr><td>12</td><td>10</td></tr><tr><td>43</td><td>10</td></tr><tr><td>44</td><td>10</td></tr><tr><td>45</td><td>10</td></tr><tr><td>46</td><td>10</td></tr><tr><td>47</td><td>10</td></tr><tr><td>48</td><td>10</td></tr><tr><td>49</td><td>10</td></tr><tr><td>50</td><td>10</td></tr><tr><td>51</td><td>10</td></tr><tr><td>52</td><td>10</td></tr><tr><td>53</td><td>10</td></tr><tr><td>54</td><td>10</td></tr><tr><td>55</td><td>10</td></tr><tr><td>56</td><td>10</td></tr><tr><td>57</td><td>10</td></tr><tr><td>58</td><td>10</td></tr><tr><td>59</td><td>10</td></tr><tr><td>60</td><td>10</td></tr><tr><td>61</td><td>10</td></tr><tr><td>62</td><td>10</td></tr><tr><td>63</td><td>10</td></tr><tr><td>64</td><td>10</td></tr><tr><td>88</td><td>10</td></tr><tr><td>89</td><td>10</td></tr><tr><td>90</td><td>10</td></tr><tr><td>92</td><td>10</td></tr><tr><td>93</td><td>10</td></tr><tr><td>94</td><td>10</td></tr><tr><td>95</td><td>10</td></tr><tr><td>96</td><td>10</td></tr><tr><td>97</td><td>10</td></tr><tr><td>98</td><td>10</td></tr><tr><td>99</td><td>10</td></tr><tr><td>100</td><td>10</td></tr><tr><td>104</td><td>10</td></tr><tr><td>105</td><td>10</td></tr><tr><td>106</td><td>10</td></tr><tr><td>107</td><td>10</td></tr><tr><td>114</td><td>10</td></tr><tr><td>115</td><td>10</td></tr><tr><td>116</td><td>10</td></tr><tr><td>129</td><td>10</td></tr><tr><td>130</td><td>10</td></tr><tr><td>131</td><td>10</td></tr><tr><td>132</td><td>10</td></tr><tr><td>133</td><td>10</td></tr><tr><td>134</td><td>10</td></tr><tr><td>135</td><td>10</td></tr><tr><td>136</td><td>10</td></tr><tr><td>137</td><td>10</td></tr><tr><td>138</td><td>10</td></tr><tr><td>139</td><td>10</td></tr><tr><td>140</td><td>10</td></tr><tr><td>142</td><td>10</td></tr><tr><td>143</td><td>10</td></tr><tr><td>144</td><td>10</td></tr><tr><td>145</td><td>10</td></tr><tr><td>152</td><td>10</td></tr><tr><td>153</td><td>10</td></tr><tr><td>154</td><td>10</td></tr><tr><td>155</td><td>10</td></tr><tr><td>170</td><td>10</td></tr><tr><td>171</td><td>10</td></tr><tr><td>172</td><td>10</td></tr><tr><td>173</td><td>10</td></tr><tr><td>174</td><td>10</td></tr><tr><td>175</td><td>10</td></tr><tr><td>176</td><td>10</td></tr><tr><td>177</td><td>10</td></tr><tr><td>178</td><td>10</td></tr><tr><td>179</td><td>10</td></tr><tr><td>180</td><td>10</td></tr><tr><td>181</td><td>10</td></tr><tr><td>184</td><td>10</td></tr><tr><td>185</td><td>10</td></tr><tr><td>186</td><td>10</td></tr><tr><td>187</td><td>10</td></tr><tr><td>191</td><td>10</td></tr><tr><td>192</td><td>10</td></tr><tr><td>201</td><td>10</td></tr><tr><td>202</td><td>10</td></tr><tr><td>203</td><td>10</td></tr><tr><td>204</td><td>10</td></tr><tr><td>205</td><td>10</td></tr><tr><td>206</td><td>10</td></tr><tr><td>207</td><td>10</td></tr><tr><td>208</td><td>10</td></tr><tr><td>209</td><td>10</td></tr></table>"
                    },
                    "metadata": {}
                }
            ],
            "execution_count": 15
        },
        {
            "cell_type": "markdown",
            "source": [
                "## AdventureWorksDW2017\n",
                "\n",
                "Proposition: **Return the alternate key and product name of unique products sold in internet sales.**"
            ],
            "metadata": {
                "azdata_cell_guid": "b1859510-6900-49f5-810e-43224d3e6caf"
            },
            "attachments": {}
        },
        {
            "cell_type": "code",
            "source": [
                "use AdventureWorksDW2017\n",
                "\n",
                "select distinct I.ProductKey as productkey,\n",
                "    P.ProductAlternateKey as alternatekey,\n",
                "    P.EnglishProductName as productname\n",
                "from dbo.[FactInternetSales] as I\n",
                "    inner join \n",
                "    dbo.[DimProduct] as P\n",
                "    on I.ProductKey = P.ProductKey\n",
                "order by productkey asc"
            ],
            "metadata": {
                "azdata_cell_guid": "f440a7da-9e86-41f8-97b4-2d5e4db7a7c5",
                "language": "sql"
            },
            "outputs": [
                {
                    "output_type": "display_data",
                    "data": {
                        "text/html": "(158 rows affected)"
                    },
                    "metadata": {}
                },
                {
                    "output_type": "display_data",
                    "data": {
                        "text/html": "Total execution time: 00:00:00.068"
                    },
                    "metadata": {}
                },
                {
                    "output_type": "execute_result",
                    "execution_count": 24,
                    "data": {
                        "application/vnd.dataresource+json": {
                            "schema": {
                                "fields": [
                                    {
                                        "name": "productkey"
                                    },
                                    {
                                        "name": "alternatekey"
                                    },
                                    {
                                        "name": "productname"
                                    }
                                ]
                            },
                            "data": [
                                {
                                    "0": "214",
                                    "1": "HL-U509-R",
                                    "2": "Sport-100 Helmet, Red"
                                },
                                {
                                    "0": "217",
                                    "1": "HL-U509",
                                    "2": "Sport-100 Helmet, Black"
                                },
                                {
                                    "0": "222",
                                    "1": "HL-U509-B",
                                    "2": "Sport-100 Helmet, Blue"
                                },
                                {
                                    "0": "225",
                                    "1": "CA-1098",
                                    "2": "AWC Logo Cap"
                                },
                                {
                                    "0": "228",
                                    "1": "LJ-0192-S",
                                    "2": "Long-Sleeve Logo Jersey, S"
                                },
                                {
                                    "0": "231",
                                    "1": "LJ-0192-M",
                                    "2": "Long-Sleeve Logo Jersey, M"
                                },
                                {
                                    "0": "234",
                                    "1": "LJ-0192-L",
                                    "2": "Long-Sleeve Logo Jersey, L"
                                },
                                {
                                    "0": "237",
                                    "1": "LJ-0192-X",
                                    "2": "Long-Sleeve Logo Jersey, XL"
                                },
                                {
                                    "0": "310",
                                    "1": "BK-R93R-62",
                                    "2": "Road-150 Red, 62"
                                },
                                {
                                    "0": "311",
                                    "1": "BK-R93R-44",
                                    "2": "Road-150 Red, 44"
                                },
                                {
                                    "0": "312",
                                    "1": "BK-R93R-48",
                                    "2": "Road-150 Red, 48"
                                },
                                {
                                    "0": "313",
                                    "1": "BK-R93R-52",
                                    "2": "Road-150 Red, 52"
                                },
                                {
                                    "0": "314",
                                    "1": "BK-R93R-56",
                                    "2": "Road-150 Red, 56"
                                },
                                {
                                    "0": "320",
                                    "1": "BK-R50R-58",
                                    "2": "Road-650 Red, 58"
                                },
                                {
                                    "0": "321",
                                    "1": "BK-R50R-58",
                                    "2": "Road-650 Red, 58"
                                },
                                {
                                    "0": "322",
                                    "1": "BK-R50R-60",
                                    "2": "Road-650 Red, 60"
                                },
                                {
                                    "0": "323",
                                    "1": "BK-R50R-60",
                                    "2": "Road-650 Red, 60"
                                },
                                {
                                    "0": "324",
                                    "1": "BK-R50R-62",
                                    "2": "Road-650 Red, 62"
                                },
                                {
                                    "0": "325",
                                    "1": "BK-R50R-62",
                                    "2": "Road-650 Red, 62"
                                },
                                {
                                    "0": "326",
                                    "1": "BK-R50R-44",
                                    "2": "Road-650 Red, 44"
                                },
                                {
                                    "0": "327",
                                    "1": "BK-R50R-44",
                                    "2": "Road-650 Red, 44"
                                },
                                {
                                    "0": "328",
                                    "1": "BK-R50R-48",
                                    "2": "Road-650 Red, 48"
                                },
                                {
                                    "0": "329",
                                    "1": "BK-R50R-48",
                                    "2": "Road-650 Red, 48"
                                },
                                {
                                    "0": "330",
                                    "1": "BK-R50R-52",
                                    "2": "Road-650 Red, 52"
                                },
                                {
                                    "0": "331",
                                    "1": "BK-R50R-52",
                                    "2": "Road-650 Red, 52"
                                },
                                {
                                    "0": "332",
                                    "1": "BK-R50B-58",
                                    "2": "Road-650 Black, 58"
                                },
                                {
                                    "0": "333",
                                    "1": "BK-R50B-58",
                                    "2": "Road-650 Black, 58"
                                },
                                {
                                    "0": "334",
                                    "1": "BK-R50B-60",
                                    "2": "Road-650 Black, 60"
                                },
                                {
                                    "0": "335",
                                    "1": "BK-R50B-60",
                                    "2": "Road-650 Black, 60"
                                },
                                {
                                    "0": "336",
                                    "1": "BK-R50B-62",
                                    "2": "Road-650 Black, 62"
                                },
                                {
                                    "0": "337",
                                    "1": "BK-R50B-62",
                                    "2": "Road-650 Black, 62"
                                },
                                {
                                    "0": "338",
                                    "1": "BK-R50B-44",
                                    "2": "Road-650 Black, 44"
                                },
                                {
                                    "0": "339",
                                    "1": "BK-R50B-44",
                                    "2": "Road-650 Black, 44"
                                },
                                {
                                    "0": "340",
                                    "1": "BK-R50B-48",
                                    "2": "Road-650 Black, 48"
                                },
                                {
                                    "0": "341",
                                    "1": "BK-R50B-48",
                                    "2": "Road-650 Black, 48"
                                },
                                {
                                    "0": "342",
                                    "1": "BK-R50B-52",
                                    "2": "Road-650 Black, 52"
                                },
                                {
                                    "0": "343",
                                    "1": "BK-R50B-52",
                                    "2": "Road-650 Black, 52"
                                },
                                {
                                    "0": "344",
                                    "1": "BK-M82S-38",
                                    "2": "Mountain-100 Silver, 38"
                                },
                                {
                                    "0": "345",
                                    "1": "BK-M82S-42",
                                    "2": "Mountain-100 Silver, 42"
                                },
                                {
                                    "0": "346",
                                    "1": "BK-M82S-44",
                                    "2": "Mountain-100 Silver, 44"
                                },
                                {
                                    "0": "347",
                                    "1": "BK-M82S-48",
                                    "2": "Mountain-100 Silver, 48"
                                },
                                {
                                    "0": "348",
                                    "1": "BK-M82B-38",
                                    "2": "Mountain-100 Black, 38"
                                },
                                {
                                    "0": "349",
                                    "1": "BK-M82B-42",
                                    "2": "Mountain-100 Black, 42"
                                },
                                {
                                    "0": "350",
                                    "1": "BK-M82B-44",
                                    "2": "Mountain-100 Black, 44"
                                },
                                {
                                    "0": "351",
                                    "1": "BK-M82B-48",
                                    "2": "Mountain-100 Black, 48"
                                },
                                {
                                    "0": "352",
                                    "1": "BK-M68S-38",
                                    "2": "Mountain-200 Silver, 38"
                                },
                                {
                                    "0": "353",
                                    "1": "BK-M68S-38",
                                    "2": "Mountain-200 Silver, 38"
                                },
                                {
                                    "0": "354",
                                    "1": "BK-M68S-42",
                                    "2": "Mountain-200 Silver, 42"
                                },
                                {
                                    "0": "355",
                                    "1": "BK-M68S-42",
                                    "2": "Mountain-200 Silver, 42"
                                },
                                {
                                    "0": "356",
                                    "1": "BK-M68S-46",
                                    "2": "Mountain-200 Silver, 46"
                                },
                                {
                                    "0": "357",
                                    "1": "BK-M68S-46",
                                    "2": "Mountain-200 Silver, 46"
                                },
                                {
                                    "0": "358",
                                    "1": "BK-M68B-38",
                                    "2": "Mountain-200 Black, 38"
                                },
                                {
                                    "0": "359",
                                    "1": "BK-M68B-38",
                                    "2": "Mountain-200 Black, 38"
                                },
                                {
                                    "0": "360",
                                    "1": "BK-M68B-42",
                                    "2": "Mountain-200 Black, 42"
                                },
                                {
                                    "0": "361",
                                    "1": "BK-M68B-42",
                                    "2": "Mountain-200 Black, 42"
                                },
                                {
                                    "0": "362",
                                    "1": "BK-M68B-46",
                                    "2": "Mountain-200 Black, 46"
                                },
                                {
                                    "0": "363",
                                    "1": "BK-M68B-46",
                                    "2": "Mountain-200 Black, 46"
                                },
                                {
                                    "0": "368",
                                    "1": "BK-R89R-44",
                                    "2": "Road-250 Red, 44"
                                },
                                {
                                    "0": "369",
                                    "1": "BK-R89R-48",
                                    "2": "Road-250 Red, 48"
                                },
                                {
                                    "0": "370",
                                    "1": "BK-R89R-52",
                                    "2": "Road-250 Red, 52"
                                },
                                {
                                    "0": "371",
                                    "1": "BK-R89R-58",
                                    "2": "Road-250 Red, 58"
                                },
                                {
                                    "0": "372",
                                    "1": "BK-R89R-58",
                                    "2": "Road-250 Red, 58"
                                },
                                {
                                    "0": "373",
                                    "1": "BK-R89B-44",
                                    "2": "Road-250 Black, 44"
                                },
                                {
                                    "0": "374",
                                    "1": "BK-R89B-44",
                                    "2": "Road-250 Black, 44"
                                },
                                {
                                    "0": "375",
                                    "1": "BK-R89B-48",
                                    "2": "Road-250 Black, 48"
                                },
                                {
                                    "0": "376",
                                    "1": "BK-R89B-48",
                                    "2": "Road-250 Black, 48"
                                },
                                {
                                    "0": "377",
                                    "1": "BK-R89B-52",
                                    "2": "Road-250 Black, 52"
                                },
                                {
                                    "0": "378",
                                    "1": "BK-R89B-52",
                                    "2": "Road-250 Black, 52"
                                },
                                {
                                    "0": "379",
                                    "1": "BK-R89B-58",
                                    "2": "Road-250 Black, 58"
                                },
                                {
                                    "0": "380",
                                    "1": "BK-R89B-58",
                                    "2": "Road-250 Black, 58"
                                },
                                {
                                    "0": "381",
                                    "1": "BK-R64Y-38",
                                    "2": "Road-550-W Yellow, 38"
                                },
                                {
                                    "0": "382",
                                    "1": "BK-R64Y-38",
                                    "2": "Road-550-W Yellow, 38"
                                },
                                {
                                    "0": "383",
                                    "1": "BK-R64Y-40",
                                    "2": "Road-550-W Yellow, 40"
                                },
                                {
                                    "0": "384",
                                    "1": "BK-R64Y-40",
                                    "2": "Road-550-W Yellow, 40"
                                },
                                {
                                    "0": "385",
                                    "1": "BK-R64Y-42",
                                    "2": "Road-550-W Yellow, 42"
                                },
                                {
                                    "0": "386",
                                    "1": "BK-R64Y-42",
                                    "2": "Road-550-W Yellow, 42"
                                },
                                {
                                    "0": "387",
                                    "1": "BK-R64Y-44",
                                    "2": "Road-550-W Yellow, 44"
                                },
                                {
                                    "0": "388",
                                    "1": "BK-R64Y-44",
                                    "2": "Road-550-W Yellow, 44"
                                },
                                {
                                    "0": "389",
                                    "1": "BK-R64Y-48",
                                    "2": "Road-550-W Yellow, 48"
                                },
                                {
                                    "0": "390",
                                    "1": "BK-R64Y-48",
                                    "2": "Road-550-W Yellow, 48"
                                },
                                {
                                    "0": "463",
                                    "1": "GL-H102-S",
                                    "2": "Half-Finger Gloves, S"
                                },
                                {
                                    "0": "465",
                                    "1": "GL-H102-M",
                                    "2": "Half-Finger Gloves, M"
                                },
                                {
                                    "0": "467",
                                    "1": "GL-H102-L",
                                    "2": "Half-Finger Gloves, L"
                                },
                                {
                                    "0": "471",
                                    "1": "VE-C304-S",
                                    "2": "Classic Vest, S"
                                },
                                {
                                    "0": "472",
                                    "1": "VE-C304-M",
                                    "2": "Classic Vest, M"
                                },
                                {
                                    "0": "473",
                                    "1": "VE-C304-L",
                                    "2": "Classic Vest, L"
                                },
                                {
                                    "0": "474",
                                    "1": "SH-W890-S",
                                    "2": "Women's Mountain Shorts, S"
                                },
                                {
                                    "0": "475",
                                    "1": "SH-W890-M",
                                    "2": "Women's Mountain Shorts, M"
                                },
                                {
                                    "0": "476",
                                    "1": "SH-W890-L",
                                    "2": "Women's Mountain Shorts, L"
                                },
                                {
                                    "0": "477",
                                    "1": "WB-H098",
                                    "2": "Water Bottle - 30 oz."
                                },
                                {
                                    "0": "478",
                                    "1": "BC-M005",
                                    "2": "Mountain Bottle Cage"
                                },
                                {
                                    "0": "479",
                                    "1": "BC-R205",
                                    "2": "Road Bottle Cage"
                                },
                                {
                                    "0": "480",
                                    "1": "PK-7098",
                                    "2": "Patch Kit/8 Patches"
                                },
                                {
                                    "0": "481",
                                    "1": "SO-R809-M",
                                    "2": "Racing Socks, M"
                                },
                                {
                                    "0": "482",
                                    "1": "SO-R809-L",
                                    "2": "Racing Socks, L"
                                },
                                {
                                    "0": "483",
                                    "1": "RA-H123",
                                    "2": "Hitch Rack - 4-Bike"
                                },
                                {
                                    "0": "484",
                                    "1": "CL-9009",
                                    "2": "Bike Wash - Dissolver"
                                },
                                {
                                    "0": "485",
                                    "1": "FE-6654",
                                    "2": "Fender Set - Mountain"
                                },
                                {
                                    "0": "486",
                                    "1": "ST-1401",
                                    "2": "All-Purpose Bike Stand"
                                },
                                {
                                    "0": "487",
                                    "1": "HY-1023-70",
                                    "2": "Hydration Pack - 70 oz."
                                },
                                {
                                    "0": "488",
                                    "1": "SJ-0194-S",
                                    "2": "Short-Sleeve Classic Jersey, S"
                                },
                                {
                                    "0": "489",
                                    "1": "SJ-0194-M",
                                    "2": "Short-Sleeve Classic Jersey, M"
                                },
                                {
                                    "0": "490",
                                    "1": "SJ-0194-L",
                                    "2": "Short-Sleeve Classic Jersey, L"
                                },
                                {
                                    "0": "491",
                                    "1": "SJ-0194-X",
                                    "2": "Short-Sleeve Classic Jersey, XL"
                                },
                                {
                                    "0": "528",
                                    "1": "TT-M928",
                                    "2": "Mountain Tire Tube"
                                },
                                {
                                    "0": "529",
                                    "1": "TT-R982",
                                    "2": "Road Tire Tube"
                                },
                                {
                                    "0": "530",
                                    "1": "TT-T092",
                                    "2": "Touring Tire Tube"
                                },
                                {
                                    "0": "535",
                                    "1": "TI-M267",
                                    "2": "LL Mountain Tire"
                                },
                                {
                                    "0": "536",
                                    "1": "TI-M602",
                                    "2": "ML Mountain Tire"
                                },
                                {
                                    "0": "537",
                                    "1": "TI-M823",
                                    "2": "HL Mountain Tire"
                                },
                                {
                                    "0": "538",
                                    "1": "TI-R092",
                                    "2": "LL Road Tire"
                                },
                                {
                                    "0": "539",
                                    "1": "TI-R628",
                                    "2": "ML Road Tire"
                                },
                                {
                                    "0": "540",
                                    "1": "TI-R982",
                                    "2": "HL Road Tire"
                                },
                                {
                                    "0": "541",
                                    "1": "TI-T723",
                                    "2": "Touring Tire"
                                },
                                {
                                    "0": "560",
                                    "1": "BK-T44U-60",
                                    "2": "Touring-2000 Blue, 60"
                                },
                                {
                                    "0": "561",
                                    "1": "BK-T79Y-46",
                                    "2": "Touring-1000 Yellow, 46"
                                },
                                {
                                    "0": "562",
                                    "1": "BK-T79Y-50",
                                    "2": "Touring-1000 Yellow, 50"
                                },
                                {
                                    "0": "563",
                                    "1": "BK-T79Y-54",
                                    "2": "Touring-1000 Yellow, 54"
                                },
                                {
                                    "0": "564",
                                    "1": "BK-T79Y-60",
                                    "2": "Touring-1000 Yellow, 60"
                                },
                                {
                                    "0": "565",
                                    "1": "BK-T18U-54",
                                    "2": "Touring-3000 Blue, 54"
                                },
                                {
                                    "0": "566",
                                    "1": "BK-T18U-58",
                                    "2": "Touring-3000 Blue, 58"
                                },
                                {
                                    "0": "567",
                                    "1": "BK-T18U-62",
                                    "2": "Touring-3000 Blue, 62"
                                },
                                {
                                    "0": "568",
                                    "1": "BK-T18Y-44",
                                    "2": "Touring-3000 Yellow, 44"
                                },
                                {
                                    "0": "569",
                                    "1": "BK-T18Y-50",
                                    "2": "Touring-3000 Yellow, 50"
                                },
                                {
                                    "0": "570",
                                    "1": "BK-T18Y-54",
                                    "2": "Touring-3000 Yellow, 54"
                                },
                                {
                                    "0": "571",
                                    "1": "BK-T18Y-58",
                                    "2": "Touring-3000 Yellow, 58"
                                },
                                {
                                    "0": "572",
                                    "1": "BK-T18Y-62",
                                    "2": "Touring-3000 Yellow, 62"
                                },
                                {
                                    "0": "573",
                                    "1": "BK-T79U-46",
                                    "2": "Touring-1000 Blue, 46"
                                },
                                {
                                    "0": "574",
                                    "1": "BK-T79U-50",
                                    "2": "Touring-1000 Blue, 50"
                                },
                                {
                                    "0": "575",
                                    "1": "BK-T79U-54",
                                    "2": "Touring-1000 Blue, 54"
                                },
                                {
                                    "0": "576",
                                    "1": "BK-T79U-60",
                                    "2": "Touring-1000 Blue, 60"
                                },
                                {
                                    "0": "577",
                                    "1": "BK-T44U-46",
                                    "2": "Touring-2000 Blue, 46"
                                },
                                {
                                    "0": "578",
                                    "1": "BK-T44U-50",
                                    "2": "Touring-2000 Blue, 50"
                                },
                                {
                                    "0": "579",
                                    "1": "BK-T44U-54",
                                    "2": "Touring-2000 Blue, 54"
                                },
                                {
                                    "0": "580",
                                    "1": "BK-R79Y-40",
                                    "2": "Road-350-W Yellow, 40"
                                },
                                {
                                    "0": "581",
                                    "1": "BK-R79Y-42",
                                    "2": "Road-350-W Yellow, 42"
                                },
                                {
                                    "0": "582",
                                    "1": "BK-R79Y-44",
                                    "2": "Road-350-W Yellow, 44"
                                },
                                {
                                    "0": "583",
                                    "1": "BK-R79Y-48",
                                    "2": "Road-350-W Yellow, 48"
                                },
                                {
                                    "0": "584",
                                    "1": "BK-R19B-58",
                                    "2": "Road-750 Black, 58"
                                },
                                {
                                    "0": "585",
                                    "1": "BK-T18U-44",
                                    "2": "Touring-3000 Blue, 44"
                                },
                                {
                                    "0": "586",
                                    "1": "BK-T18U-50",
                                    "2": "Touring-3000 Blue, 50"
                                },
                                {
                                    "0": "587",
                                    "1": "BK-M38S-38",
                                    "2": "Mountain-400-W Silver, 38"
                                },
                                {
                                    "0": "588",
                                    "1": "BK-M38S-40",
                                    "2": "Mountain-400-W Silver, 40"
                                },
                                {
                                    "0": "589",
                                    "1": "BK-M38S-42",
                                    "2": "Mountain-400-W Silver, 42"
                                },
                                {
                                    "0": "590",
                                    "1": "BK-M38S-46",
                                    "2": "Mountain-400-W Silver, 46"
                                },
                                {
                                    "0": "591",
                                    "1": "BK-M18S-40",
                                    "2": "Mountain-500 Silver, 40"
                                },
                                {
                                    "0": "592",
                                    "1": "BK-M18S-42",
                                    "2": "Mountain-500 Silver, 42"
                                },
                                {
                                    "0": "593",
                                    "1": "BK-M18S-44",
                                    "2": "Mountain-500 Silver, 44"
                                },
                                {
                                    "0": "594",
                                    "1": "BK-M18S-48",
                                    "2": "Mountain-500 Silver, 48"
                                },
                                {
                                    "0": "595",
                                    "1": "BK-M18S-52",
                                    "2": "Mountain-500 Silver, 52"
                                },
                                {
                                    "0": "596",
                                    "1": "BK-M18B-40",
                                    "2": "Mountain-500 Black, 40"
                                },
                                {
                                    "0": "597",
                                    "1": "BK-M18B-42",
                                    "2": "Mountain-500 Black, 42"
                                },
                                {
                                    "0": "598",
                                    "1": "BK-M18B-44",
                                    "2": "Mountain-500 Black, 44"
                                },
                                {
                                    "0": "599",
                                    "1": "BK-M18B-48",
                                    "2": "Mountain-500 Black, 48"
                                },
                                {
                                    "0": "600",
                                    "1": "BK-M18B-52",
                                    "2": "Mountain-500 Black, 52"
                                },
                                {
                                    "0": "604",
                                    "1": "BK-R19B-44",
                                    "2": "Road-750 Black, 44"
                                },
                                {
                                    "0": "605",
                                    "1": "BK-R19B-48",
                                    "2": "Road-750 Black, 48"
                                },
                                {
                                    "0": "606",
                                    "1": "BK-R19B-52",
                                    "2": "Road-750 Black, 52"
                                }
                            ]
                        },
                        "text/html": "<table><tr><th>productkey</th><th>alternatekey</th><th>productname</th></tr><tr><td>214</td><td>HL-U509-R</td><td>Sport-100 Helmet, Red</td></tr><tr><td>217</td><td>HL-U509</td><td>Sport-100 Helmet, Black</td></tr><tr><td>222</td><td>HL-U509-B</td><td>Sport-100 Helmet, Blue</td></tr><tr><td>225</td><td>CA-1098</td><td>AWC Logo Cap</td></tr><tr><td>228</td><td>LJ-0192-S</td><td>Long-Sleeve Logo Jersey, S</td></tr><tr><td>231</td><td>LJ-0192-M</td><td>Long-Sleeve Logo Jersey, M</td></tr><tr><td>234</td><td>LJ-0192-L</td><td>Long-Sleeve Logo Jersey, L</td></tr><tr><td>237</td><td>LJ-0192-X</td><td>Long-Sleeve Logo Jersey, XL</td></tr><tr><td>310</td><td>BK-R93R-62</td><td>Road-150 Red, 62</td></tr><tr><td>311</td><td>BK-R93R-44</td><td>Road-150 Red, 44</td></tr><tr><td>312</td><td>BK-R93R-48</td><td>Road-150 Red, 48</td></tr><tr><td>313</td><td>BK-R93R-52</td><td>Road-150 Red, 52</td></tr><tr><td>314</td><td>BK-R93R-56</td><td>Road-150 Red, 56</td></tr><tr><td>320</td><td>BK-R50R-58</td><td>Road-650 Red, 58</td></tr><tr><td>321</td><td>BK-R50R-58</td><td>Road-650 Red, 58</td></tr><tr><td>322</td><td>BK-R50R-60</td><td>Road-650 Red, 60</td></tr><tr><td>323</td><td>BK-R50R-60</td><td>Road-650 Red, 60</td></tr><tr><td>324</td><td>BK-R50R-62</td><td>Road-650 Red, 62</td></tr><tr><td>325</td><td>BK-R50R-62</td><td>Road-650 Red, 62</td></tr><tr><td>326</td><td>BK-R50R-44</td><td>Road-650 Red, 44</td></tr><tr><td>327</td><td>BK-R50R-44</td><td>Road-650 Red, 44</td></tr><tr><td>328</td><td>BK-R50R-48</td><td>Road-650 Red, 48</td></tr><tr><td>329</td><td>BK-R50R-48</td><td>Road-650 Red, 48</td></tr><tr><td>330</td><td>BK-R50R-52</td><td>Road-650 Red, 52</td></tr><tr><td>331</td><td>BK-R50R-52</td><td>Road-650 Red, 52</td></tr><tr><td>332</td><td>BK-R50B-58</td><td>Road-650 Black, 58</td></tr><tr><td>333</td><td>BK-R50B-58</td><td>Road-650 Black, 58</td></tr><tr><td>334</td><td>BK-R50B-60</td><td>Road-650 Black, 60</td></tr><tr><td>335</td><td>BK-R50B-60</td><td>Road-650 Black, 60</td></tr><tr><td>336</td><td>BK-R50B-62</td><td>Road-650 Black, 62</td></tr><tr><td>337</td><td>BK-R50B-62</td><td>Road-650 Black, 62</td></tr><tr><td>338</td><td>BK-R50B-44</td><td>Road-650 Black, 44</td></tr><tr><td>339</td><td>BK-R50B-44</td><td>Road-650 Black, 44</td></tr><tr><td>340</td><td>BK-R50B-48</td><td>Road-650 Black, 48</td></tr><tr><td>341</td><td>BK-R50B-48</td><td>Road-650 Black, 48</td></tr><tr><td>342</td><td>BK-R50B-52</td><td>Road-650 Black, 52</td></tr><tr><td>343</td><td>BK-R50B-52</td><td>Road-650 Black, 52</td></tr><tr><td>344</td><td>BK-M82S-38</td><td>Mountain-100 Silver, 38</td></tr><tr><td>345</td><td>BK-M82S-42</td><td>Mountain-100 Silver, 42</td></tr><tr><td>346</td><td>BK-M82S-44</td><td>Mountain-100 Silver, 44</td></tr><tr><td>347</td><td>BK-M82S-48</td><td>Mountain-100 Silver, 48</td></tr><tr><td>348</td><td>BK-M82B-38</td><td>Mountain-100 Black, 38</td></tr><tr><td>349</td><td>BK-M82B-42</td><td>Mountain-100 Black, 42</td></tr><tr><td>350</td><td>BK-M82B-44</td><td>Mountain-100 Black, 44</td></tr><tr><td>351</td><td>BK-M82B-48</td><td>Mountain-100 Black, 48</td></tr><tr><td>352</td><td>BK-M68S-38</td><td>Mountain-200 Silver, 38</td></tr><tr><td>353</td><td>BK-M68S-38</td><td>Mountain-200 Silver, 38</td></tr><tr><td>354</td><td>BK-M68S-42</td><td>Mountain-200 Silver, 42</td></tr><tr><td>355</td><td>BK-M68S-42</td><td>Mountain-200 Silver, 42</td></tr><tr><td>356</td><td>BK-M68S-46</td><td>Mountain-200 Silver, 46</td></tr><tr><td>357</td><td>BK-M68S-46</td><td>Mountain-200 Silver, 46</td></tr><tr><td>358</td><td>BK-M68B-38</td><td>Mountain-200 Black, 38</td></tr><tr><td>359</td><td>BK-M68B-38</td><td>Mountain-200 Black, 38</td></tr><tr><td>360</td><td>BK-M68B-42</td><td>Mountain-200 Black, 42</td></tr><tr><td>361</td><td>BK-M68B-42</td><td>Mountain-200 Black, 42</td></tr><tr><td>362</td><td>BK-M68B-46</td><td>Mountain-200 Black, 46</td></tr><tr><td>363</td><td>BK-M68B-46</td><td>Mountain-200 Black, 46</td></tr><tr><td>368</td><td>BK-R89R-44</td><td>Road-250 Red, 44</td></tr><tr><td>369</td><td>BK-R89R-48</td><td>Road-250 Red, 48</td></tr><tr><td>370</td><td>BK-R89R-52</td><td>Road-250 Red, 52</td></tr><tr><td>371</td><td>BK-R89R-58</td><td>Road-250 Red, 58</td></tr><tr><td>372</td><td>BK-R89R-58</td><td>Road-250 Red, 58</td></tr><tr><td>373</td><td>BK-R89B-44</td><td>Road-250 Black, 44</td></tr><tr><td>374</td><td>BK-R89B-44</td><td>Road-250 Black, 44</td></tr><tr><td>375</td><td>BK-R89B-48</td><td>Road-250 Black, 48</td></tr><tr><td>376</td><td>BK-R89B-48</td><td>Road-250 Black, 48</td></tr><tr><td>377</td><td>BK-R89B-52</td><td>Road-250 Black, 52</td></tr><tr><td>378</td><td>BK-R89B-52</td><td>Road-250 Black, 52</td></tr><tr><td>379</td><td>BK-R89B-58</td><td>Road-250 Black, 58</td></tr><tr><td>380</td><td>BK-R89B-58</td><td>Road-250 Black, 58</td></tr><tr><td>381</td><td>BK-R64Y-38</td><td>Road-550-W Yellow, 38</td></tr><tr><td>382</td><td>BK-R64Y-38</td><td>Road-550-W Yellow, 38</td></tr><tr><td>383</td><td>BK-R64Y-40</td><td>Road-550-W Yellow, 40</td></tr><tr><td>384</td><td>BK-R64Y-40</td><td>Road-550-W Yellow, 40</td></tr><tr><td>385</td><td>BK-R64Y-42</td><td>Road-550-W Yellow, 42</td></tr><tr><td>386</td><td>BK-R64Y-42</td><td>Road-550-W Yellow, 42</td></tr><tr><td>387</td><td>BK-R64Y-44</td><td>Road-550-W Yellow, 44</td></tr><tr><td>388</td><td>BK-R64Y-44</td><td>Road-550-W Yellow, 44</td></tr><tr><td>389</td><td>BK-R64Y-48</td><td>Road-550-W Yellow, 48</td></tr><tr><td>390</td><td>BK-R64Y-48</td><td>Road-550-W Yellow, 48</td></tr><tr><td>463</td><td>GL-H102-S</td><td>Half-Finger Gloves, S</td></tr><tr><td>465</td><td>GL-H102-M</td><td>Half-Finger Gloves, M</td></tr><tr><td>467</td><td>GL-H102-L</td><td>Half-Finger Gloves, L</td></tr><tr><td>471</td><td>VE-C304-S</td><td>Classic Vest, S</td></tr><tr><td>472</td><td>VE-C304-M</td><td>Classic Vest, M</td></tr><tr><td>473</td><td>VE-C304-L</td><td>Classic Vest, L</td></tr><tr><td>474</td><td>SH-W890-S</td><td>Women's Mountain Shorts, S</td></tr><tr><td>475</td><td>SH-W890-M</td><td>Women's Mountain Shorts, M</td></tr><tr><td>476</td><td>SH-W890-L</td><td>Women's Mountain Shorts, L</td></tr><tr><td>477</td><td>WB-H098</td><td>Water Bottle - 30 oz.</td></tr><tr><td>478</td><td>BC-M005</td><td>Mountain Bottle Cage</td></tr><tr><td>479</td><td>BC-R205</td><td>Road Bottle Cage</td></tr><tr><td>480</td><td>PK-7098</td><td>Patch Kit/8 Patches</td></tr><tr><td>481</td><td>SO-R809-M</td><td>Racing Socks, M</td></tr><tr><td>482</td><td>SO-R809-L</td><td>Racing Socks, L</td></tr><tr><td>483</td><td>RA-H123</td><td>Hitch Rack - 4-Bike</td></tr><tr><td>484</td><td>CL-9009</td><td>Bike Wash - Dissolver</td></tr><tr><td>485</td><td>FE-6654</td><td>Fender Set - Mountain</td></tr><tr><td>486</td><td>ST-1401</td><td>All-Purpose Bike Stand</td></tr><tr><td>487</td><td>HY-1023-70</td><td>Hydration Pack - 70 oz.</td></tr><tr><td>488</td><td>SJ-0194-S</td><td>Short-Sleeve Classic Jersey, S</td></tr><tr><td>489</td><td>SJ-0194-M</td><td>Short-Sleeve Classic Jersey, M</td></tr><tr><td>490</td><td>SJ-0194-L</td><td>Short-Sleeve Classic Jersey, L</td></tr><tr><td>491</td><td>SJ-0194-X</td><td>Short-Sleeve Classic Jersey, XL</td></tr><tr><td>528</td><td>TT-M928</td><td>Mountain Tire Tube</td></tr><tr><td>529</td><td>TT-R982</td><td>Road Tire Tube</td></tr><tr><td>530</td><td>TT-T092</td><td>Touring Tire Tube</td></tr><tr><td>535</td><td>TI-M267</td><td>LL Mountain Tire</td></tr><tr><td>536</td><td>TI-M602</td><td>ML Mountain Tire</td></tr><tr><td>537</td><td>TI-M823</td><td>HL Mountain Tire</td></tr><tr><td>538</td><td>TI-R092</td><td>LL Road Tire</td></tr><tr><td>539</td><td>TI-R628</td><td>ML Road Tire</td></tr><tr><td>540</td><td>TI-R982</td><td>HL Road Tire</td></tr><tr><td>541</td><td>TI-T723</td><td>Touring Tire</td></tr><tr><td>560</td><td>BK-T44U-60</td><td>Touring-2000 Blue, 60</td></tr><tr><td>561</td><td>BK-T79Y-46</td><td>Touring-1000 Yellow, 46</td></tr><tr><td>562</td><td>BK-T79Y-50</td><td>Touring-1000 Yellow, 50</td></tr><tr><td>563</td><td>BK-T79Y-54</td><td>Touring-1000 Yellow, 54</td></tr><tr><td>564</td><td>BK-T79Y-60</td><td>Touring-1000 Yellow, 60</td></tr><tr><td>565</td><td>BK-T18U-54</td><td>Touring-3000 Blue, 54</td></tr><tr><td>566</td><td>BK-T18U-58</td><td>Touring-3000 Blue, 58</td></tr><tr><td>567</td><td>BK-T18U-62</td><td>Touring-3000 Blue, 62</td></tr><tr><td>568</td><td>BK-T18Y-44</td><td>Touring-3000 Yellow, 44</td></tr><tr><td>569</td><td>BK-T18Y-50</td><td>Touring-3000 Yellow, 50</td></tr><tr><td>570</td><td>BK-T18Y-54</td><td>Touring-3000 Yellow, 54</td></tr><tr><td>571</td><td>BK-T18Y-58</td><td>Touring-3000 Yellow, 58</td></tr><tr><td>572</td><td>BK-T18Y-62</td><td>Touring-3000 Yellow, 62</td></tr><tr><td>573</td><td>BK-T79U-46</td><td>Touring-1000 Blue, 46</td></tr><tr><td>574</td><td>BK-T79U-50</td><td>Touring-1000 Blue, 50</td></tr><tr><td>575</td><td>BK-T79U-54</td><td>Touring-1000 Blue, 54</td></tr><tr><td>576</td><td>BK-T79U-60</td><td>Touring-1000 Blue, 60</td></tr><tr><td>577</td><td>BK-T44U-46</td><td>Touring-2000 Blue, 46</td></tr><tr><td>578</td><td>BK-T44U-50</td><td>Touring-2000 Blue, 50</td></tr><tr><td>579</td><td>BK-T44U-54</td><td>Touring-2000 Blue, 54</td></tr><tr><td>580</td><td>BK-R79Y-40</td><td>Road-350-W Yellow, 40</td></tr><tr><td>581</td><td>BK-R79Y-42</td><td>Road-350-W Yellow, 42</td></tr><tr><td>582</td><td>BK-R79Y-44</td><td>Road-350-W Yellow, 44</td></tr><tr><td>583</td><td>BK-R79Y-48</td><td>Road-350-W Yellow, 48</td></tr><tr><td>584</td><td>BK-R19B-58</td><td>Road-750 Black, 58</td></tr><tr><td>585</td><td>BK-T18U-44</td><td>Touring-3000 Blue, 44</td></tr><tr><td>586</td><td>BK-T18U-50</td><td>Touring-3000 Blue, 50</td></tr><tr><td>587</td><td>BK-M38S-38</td><td>Mountain-400-W Silver, 38</td></tr><tr><td>588</td><td>BK-M38S-40</td><td>Mountain-400-W Silver, 40</td></tr><tr><td>589</td><td>BK-M38S-42</td><td>Mountain-400-W Silver, 42</td></tr><tr><td>590</td><td>BK-M38S-46</td><td>Mountain-400-W Silver, 46</td></tr><tr><td>591</td><td>BK-M18S-40</td><td>Mountain-500 Silver, 40</td></tr><tr><td>592</td><td>BK-M18S-42</td><td>Mountain-500 Silver, 42</td></tr><tr><td>593</td><td>BK-M18S-44</td><td>Mountain-500 Silver, 44</td></tr><tr><td>594</td><td>BK-M18S-48</td><td>Mountain-500 Silver, 48</td></tr><tr><td>595</td><td>BK-M18S-52</td><td>Mountain-500 Silver, 52</td></tr><tr><td>596</td><td>BK-M18B-40</td><td>Mountain-500 Black, 40</td></tr><tr><td>597</td><td>BK-M18B-42</td><td>Mountain-500 Black, 42</td></tr><tr><td>598</td><td>BK-M18B-44</td><td>Mountain-500 Black, 44</td></tr><tr><td>599</td><td>BK-M18B-48</td><td>Mountain-500 Black, 48</td></tr><tr><td>600</td><td>BK-M18B-52</td><td>Mountain-500 Black, 52</td></tr><tr><td>604</td><td>BK-R19B-44</td><td>Road-750 Black, 44</td></tr><tr><td>605</td><td>BK-R19B-48</td><td>Road-750 Black, 48</td></tr><tr><td>606</td><td>BK-R19B-52</td><td>Road-750 Black, 52</td></tr></table>"
                    },
                    "metadata": {}
                }
            ],
            "execution_count": 24
        },
        {
            "cell_type": "markdown",
            "source": [
                "## Northwinds2022TSQLV7\n",
                "\n",
                "Proposition: **Return the employee title responsible for each order, ordered by freight price.**"
            ],
            "metadata": {
                "azdata_cell_guid": "78652c8d-b59e-4773-adc7-05115d0f9859"
            },
            "attachments": {}
        },
        {
            "cell_type": "code",
            "source": [
                "use Northwinds2022TSQLV7\n",
                "\n",
                "select O.OrderId as orderid, \n",
                "    E.EmployeeTitle as title,\n",
                "    O.Freight as freight\n",
                "    \n",
                "from Sales.[Order] as O\n",
                "    inner join\n",
                "    HumanResources.[Employee] as E\n",
                "    on O.EmployeeId = E.EmployeeId\n",
                "\n",
                "order by freight desc"
            ],
            "metadata": {
                "azdata_cell_guid": "179bdaf5-27c6-42f0-a572-ad2bc2066c99",
                "language": "sql"
            },
            "outputs": [
                {
                    "output_type": "display_data",
                    "data": {
                        "text/html": "(830 rows affected)"
                    },
                    "metadata": {}
                },
                {
                    "output_type": "display_data",
                    "data": {
                        "text/html": "Total execution time: 00:00:00.086"
                    },
                    "metadata": {}
                },
                {
                    "output_type": "execute_result",
                    "execution_count": 29,
                    "data": {
                        "application/vnd.dataresource+json": {
                            "schema": {
                                "fields": [
                                    {
                                        "name": "orderid"
                                    },
                                    {
                                        "name": "title"
                                    },
                                    {
                                        "name": "freight"
                                    }
                                ]
                            },
                            "data": [
                                {
                                    "0": "10540",
                                    "1": "Sales Manager",
                                    "2": "1007.64"
                                },
                                {
                                    "0": "10372",
                                    "1": "Sales Manager",
                                    "2": "890.78"
                                },
                                {
                                    "0": "11030",
                                    "1": "Sales Representative",
                                    "2": "830.75"
                                },
                                {
                                    "0": "10691",
                                    "1": "Vice President, Sales",
                                    "2": "810.05"
                                },
                                {
                                    "0": "10514",
                                    "1": "Sales Manager",
                                    "2": "789.95"
                                },
                                {
                                    "0": "11017",
                                    "1": "Sales Representative",
                                    "2": "754.26"
                                },
                                {
                                    "0": "10816",
                                    "1": "Sales Representative",
                                    "2": "719.78"
                                },
                                {
                                    "0": "10479",
                                    "1": "Sales Manager",
                                    "2": "708.95"
                                },
                                {
                                    "0": "10983",
                                    "1": "Vice President, Sales",
                                    "2": "657.54"
                                },
                                {
                                    "0": "11032",
                                    "1": "Vice President, Sales",
                                    "2": "606.19"
                                },
                                {
                                    "0": "10897",
                                    "1": "Sales Manager",
                                    "2": "603.54"
                                },
                                {
                                    "0": "10912",
                                    "1": "Vice President, Sales",
                                    "2": "580.91"
                                },
                                {
                                    "0": "10612",
                                    "1": "CEO",
                                    "2": "544.08"
                                },
                                {
                                    "0": "10847",
                                    "1": "Sales Representative",
                                    "2": "487.57"
                                },
                                {
                                    "0": "10634",
                                    "1": "Sales Representative",
                                    "2": "487.38"
                                },
                                {
                                    "0": "10633",
                                    "1": "Sales Representative",
                                    "2": "477.90"
                                },
                                {
                                    "0": "10430",
                                    "1": "Sales Representative",
                                    "2": "458.78"
                                },
                                {
                                    "0": "10841",
                                    "1": "Sales Manager",
                                    "2": "424.30"
                                },
                                {
                                    "0": "10836",
                                    "1": "Sales Representative",
                                    "2": "411.88"
                                },
                                {
                                    "0": "10941",
                                    "1": "Sales Representative",
                                    "2": "400.81"
                                },
                                {
                                    "0": "10694",
                                    "1": "Sales Representative",
                                    "2": "398.36"
                                },
                                {
                                    "0": "10678",
                                    "1": "Sales Representative",
                                    "2": "388.98"
                                },
                                {
                                    "0": "10605",
                                    "1": "CEO",
                                    "2": "379.13"
                                },
                                {
                                    "0": "10424",
                                    "1": "Sales Representative",
                                    "2": "370.61"
                                },
                                {
                                    "0": "10510",
                                    "1": "Sales Representative",
                                    "2": "367.63"
                                },
                                {
                                    "0": "10658",
                                    "1": "Sales Representative",
                                    "2": "364.15"
                                },
                                {
                                    "0": "10353",
                                    "1": "Sales Representative",
                                    "2": "360.63"
                                },
                                {
                                    "0": "10979",
                                    "1": "Sales Representative",
                                    "2": "353.07"
                                },
                                {
                                    "0": "10657",
                                    "1": "Vice President, Sales",
                                    "2": "352.69"
                                },
                                {
                                    "0": "10776",
                                    "1": "CEO",
                                    "2": "351.53"
                                },
                                {
                                    "0": "10511",
                                    "1": "Sales Representative",
                                    "2": "350.64"
                                },
                                {
                                    "0": "10865",
                                    "1": "Vice President, Sales",
                                    "2": "348.14"
                                },
                                {
                                    "0": "10530",
                                    "1": "Sales Manager",
                                    "2": "339.22"
                                },
                                {
                                    "0": "10762",
                                    "1": "Sales Manager",
                                    "2": "328.74"
                                },
                                {
                                    "0": "10817",
                                    "1": "Sales Manager",
                                    "2": "306.07"
                                },
                                {
                                    "0": "10688",
                                    "1": "Sales Representative",
                                    "2": "299.09"
                                },
                                {
                                    "0": "11021",
                                    "1": "Sales Manager",
                                    "2": "297.18"
                                },
                                {
                                    "0": "10687",
                                    "1": "Sales Representative",
                                    "2": "296.43"
                                },
                                {
                                    "0": "10359",
                                    "1": "Sales Manager",
                                    "2": "288.43"
                                },
                                {
                                    "0": "10889",
                                    "1": "Sales Representative",
                                    "2": "280.61"
                                },
                                {
                                    "0": "11056",
                                    "1": "Sales Representative",
                                    "2": "278.96"
                                },
                                {
                                    "0": "10962",
                                    "1": "Sales Representative",
                                    "2": "275.79"
                                },
                                {
                                    "0": "10698",
                                    "1": "Sales Representative",
                                    "2": "272.47"
                                },
                                {
                                    "0": "11072",
                                    "1": "Sales Representative",
                                    "2": "258.64"
                                },
                                {
                                    "0": "10305",
                                    "1": "Sales Representative",
                                    "2": "257.62"
                                },
                                {
                                    "0": "10802",
                                    "1": "Sales Representative",
                                    "2": "257.26"
                                },
                                {
                                    "0": "10555",
                                    "1": "Sales Representative",
                                    "2": "252.49"
                                },
                                {
                                    "0": "10787",
                                    "1": "Vice President, Sales",
                                    "2": "249.93"
                                },
                                {
                                    "0": "10345",
                                    "1": "Vice President, Sales",
                                    "2": "249.06"
                                },
                                {
                                    "0": "10524",
                                    "1": "CEO",
                                    "2": "244.79"
                                },
                                {
                                    "0": "10742",
                                    "1": "Sales Manager",
                                    "2": "243.73"
                                },
                                {
                                    "0": "11012",
                                    "1": "CEO",
                                    "2": "242.95"
                                },
                                {
                                    "0": "10561",
                                    "1": "Vice President, Sales",
                                    "2": "242.21"
                                },
                                {
                                    "0": "10805",
                                    "1": "Vice President, Sales",
                                    "2": "237.34"
                                },
                                {
                                    "0": "10748",
                                    "1": "Sales Manager",
                                    "2": "232.55"
                                },
                                {
                                    "0": "10666",
                                    "1": "Sales Representative",
                                    "2": "232.42"
                                },
                                {
                                    "0": "10286",
                                    "1": "Sales Representative",
                                    "2": "229.24"
                                },
                                {
                                    "0": "11031",
                                    "1": "Sales Representative",
                                    "2": "227.22"
                                },
                                {
                                    "0": "10701",
                                    "1": "Sales Representative",
                                    "2": "220.31"
                                },
                                {
                                    "0": "10518",
                                    "1": "Sales Representative",
                                    "2": "218.15"
                                },
                                {
                                    "0": "10986",
                                    "1": "Sales Representative",
                                    "2": "217.86"
                                },
                                {
                                    "0": "10324",
                                    "1": "Sales Representative",
                                    "2": "214.27"
                                },
                                {
                                    "0": "10845",
                                    "1": "Sales Representative",
                                    "2": "212.98"
                                },
                                {
                                    "0": "10984",
                                    "1": "CEO",
                                    "2": "211.22"
                                },
                                {
                                    "0": "10709",
                                    "1": "CEO",
                                    "2": "210.80"
                                },
                                {
                                    "0": "10490",
                                    "1": "Sales Representative",
                                    "2": "210.19"
                                },
                                {
                                    "0": "10267",
                                    "1": "Sales Representative",
                                    "2": "208.58"
                                },
                                {
                                    "0": "10977",
                                    "1": "Sales Representative",
                                    "2": "208.50"
                                },
                                {
                                    "0": "10515",
                                    "1": "Vice President, Sales",
                                    "2": "204.47"
                                },
                                {
                                    "0": "10670",
                                    "1": "Sales Representative",
                                    "2": "203.48"
                                },
                                {
                                    "0": "11007",
                                    "1": "Sales Representative",
                                    "2": "202.24"
                                },
                                {
                                    "0": "10637",
                                    "1": "Sales Representative",
                                    "2": "201.29"
                                },
                                {
                                    "0": "10607",
                                    "1": "Sales Manager",
                                    "2": "200.24"
                                },
                                {
                                    "0": "11001",
                                    "1": "Vice President, Sales",
                                    "2": "197.30"
                                },
                                {
                                    "0": "10369",
                                    "1": "Sales Representative",
                                    "2": "195.68"
                                },
                                {
                                    "0": "10546",
                                    "1": "CEO",
                                    "2": "194.72"
                                },
                                {
                                    "0": "10588",
                                    "1": "Vice President, Sales",
                                    "2": "194.67"
                                },
                                {
                                    "0": "10981",
                                    "1": "CEO",
                                    "2": "193.37"
                                },
                                {
                                    "0": "10329",
                                    "1": "Sales Representative",
                                    "2": "191.67"
                                },
                                {
                                    "0": "10868",
                                    "1": "Sales Representative",
                                    "2": "191.27"
                                },
                                {
                                    "0": "10451",
                                    "1": "Sales Representative",
                                    "2": "189.09"
                                },
                                {
                                    "0": "10570",
                                    "1": "Sales Manager",
                                    "2": "188.99"
                                },
                                {
                                    "0": "10857",
                                    "1": "Sales Representative",
                                    "2": "188.85"
                                },
                                {
                                    "0": "10533",
                                    "1": "Sales Representative",
                                    "2": "188.04"
                                },
                                {
                                    "0": "10987",
                                    "1": "Sales Representative",
                                    "2": "185.48"
                                },
                                {
                                    "0": "10395",
                                    "1": "Sales Representative",
                                    "2": "184.41"
                                },
                                {
                                    "0": "10361",
                                    "1": "CEO",
                                    "2": "183.17"
                                },
                                {
                                    "0": "10455",
                                    "1": "Sales Representative",
                                    "2": "180.45"
                                },
                                {
                                    "0": "10641",
                                    "1": "Sales Representative",
                                    "2": "179.61"
                                },
                                {
                                    "0": "10547",
                                    "1": "Sales Manager",
                                    "2": "178.43"
                                },
                                {
                                    "0": "10650",
                                    "1": "Sales Manager",
                                    "2": "176.81"
                                },
                                {
                                    "0": "10921",
                                    "1": "CEO",
                                    "2": "176.48"
                                },
                                {
                                    "0": "10872",
                                    "1": "Sales Manager",
                                    "2": "175.32"
                                },
                                {
                                    "0": "10593",
                                    "1": "Sales Representative",
                                    "2": "174.20"
                                },
                                {
                                    "0": "10852",
                                    "1": "Sales Representative",
                                    "2": "174.05"
                                },
                                {
                                    "0": "10549",
                                    "1": "Sales Manager",
                                    "2": "171.24"
                                },
                                {
                                    "0": "10855",
                                    "1": "Sales Manager",
                                    "2": "170.97"
                                },
                                {
                                    "0": "10718",
                                    "1": "CEO",
                                    "2": "170.88"
                                },
                                {
                                    "0": "10384",
                                    "1": "Sales Manager",
                                    "2": "168.64"
                                },
                                {
                                    "0": "10298",
                                    "1": "Sales Representative",
                                    "2": "168.22"
                                },
                                {
                                    "0": "10713",
                                    "1": "CEO",
                                    "2": "167.05"
                                },
                                {
                                    "0": "10340",
                                    "1": "CEO",
                                    "2": "166.31"
                                },
                                {
                                    "0": "10823",
                                    "1": "Sales Manager",
                                    "2": "163.97"
                                },
                                {
                                    "0": "10904",
                                    "1": "Sales Manager",
                                    "2": "162.95"
                                },
                                {
                                    "0": "10895",
                                    "1": "Sales Manager",
                                    "2": "162.75"
                                },
                                {
                                    "0": "10351",
                                    "1": "CEO",
                                    "2": "162.33"
                                },
                                {
                                    "0": "10851",
                                    "1": "Sales Manager",
                                    "2": "160.55"
                                },
                                {
                                    "0": "10638",
                                    "1": "Sales Manager",
                                    "2": "158.44"
                                },
                                {
                                    "0": "10766",
                                    "1": "Sales Representative",
                                    "2": "157.55"
                                },
                                {
                                    "0": "10436",
                                    "1": "Sales Manager",
                                    "2": "156.66"
                                },
                                {
                                    "0": "10404",
                                    "1": "Vice President, Sales",
                                    "2": "155.97"
                                },
                                {
                                    "0": "10760",
                                    "1": "Sales Representative",
                                    "2": "155.64"
                                },
                                {
                                    "0": "10829",
                                    "1": "Sales Representative",
                                    "2": "154.72"
                                },
                                {
                                    "0": "10618",
                                    "1": "CEO",
                                    "2": "154.68"
                                },
                                {
                                    "0": "10703",
                                    "1": "Sales Representative",
                                    "2": "152.30"
                                },
                                {
                                    "0": "10924",
                                    "1": "Sales Manager",
                                    "2": "151.52"
                                },
                                {
                                    "0": "10316",
                                    "1": "CEO",
                                    "2": "150.15"
                                },
                                {
                                    "0": "10553",
                                    "1": "Vice President, Sales",
                                    "2": "149.49"
                                },
                                {
                                    "0": "11036",
                                    "1": "Sales Representative",
                                    "2": "149.47"
                                },
                                {
                                    "0": "10461",
                                    "1": "CEO",
                                    "2": "148.61"
                                },
                                {
                                    "0": "10255",
                                    "1": "Sales Representative",
                                    "2": "148.33"
                                },
                                {
                                    "0": "10294",
                                    "1": "Sales Representative",
                                    "2": "147.26"
                                },
                                {
                                    "0": "10458",
                                    "1": "Sales Representative",
                                    "2": "147.06"
                                },
                                {
                                    "0": "10768",
                                    "1": "Sales Manager",
                                    "2": "146.32"
                                },
                                {
                                    "0": "10263",
                                    "1": "Sales Representative",
                                    "2": "146.06"
                                },
                                {
                                    "0": "10684",
                                    "1": "Sales Manager",
                                    "2": "145.63"
                                },
                                {
                                    "0": "10764",
                                    "1": "Sales Representative",
                                    "2": "145.45"
                                },
                                {
                                    "0": "10465",
                                    "1": "CEO",
                                    "2": "145.04"
                                },
                                {
                                    "0": "10965",
                                    "1": "Sales Representative",
                                    "2": "144.38"
                                },
                                {
                                    "0": "10869",
                                    "1": "Sales Manager",
                                    "2": "143.28"
                                },
                                {
                                    "0": "10646",
                                    "1": "Sales Representative",
                                    "2": "142.33"
                                },
                                {
                                    "0": "10346",
                                    "1": "Sales Manager",
                                    "2": "142.08"
                                },
                                {
                                    "0": "11002",
                                    "1": "Sales Representative",
                                    "2": "141.16"
                                },
                                {
                                    "0": "10729",
                                    "1": "Sales Representative",
                                    "2": "141.06"
                                },
                                {
                                    "0": "10258",
                                    "1": "CEO",
                                    "2": "140.51"
                                },
                                {
                                    "0": "10452",
                                    "1": "Sales Representative",
                                    "2": "140.26"
                                },
                                {
                                    "0": "10693",
                                    "1": "Sales Manager",
                                    "2": "139.34"
                                },
                                {
                                    "0": "10626",
                                    "1": "CEO",
                                    "2": "138.69"
                                },
                                {
                                    "0": "10758",
                                    "1": "Sales Manager",
                                    "2": "138.17"
                                },
                                {
                                    "0": "10800",
                                    "1": "CEO",
                                    "2": "137.44"
                                },
                                {
                                    "0": "10419",
                                    "1": "Sales Representative",
                                    "2": "137.35"
                                },
                                {
                                    "0": "10270",
                                    "1": "CEO",
                                    "2": "136.54"
                                },
                                {
                                    "0": "11070",
                                    "1": "Vice President, Sales",
                                    "2": "136.00"
                                },
                                {
                                    "0": "10706",
                                    "1": "Sales Representative",
                                    "2": "135.63"
                                },
                                {
                                    "0": "10396",
                                    "1": "CEO",
                                    "2": "135.35"
                                },
                                {
                                    "0": "10932",
                                    "1": "Sales Representative",
                                    "2": "134.64"
                                },
                                {
                                    "0": "10360",
                                    "1": "Sales Representative",
                                    "2": "131.70"
                                },
                                {
                                    "0": "10814",
                                    "1": "Sales Manager",
                                    "2": "130.94"
                                },
                                {
                                    "0": "10751",
                                    "1": "Sales Manager",
                                    "2": "130.79"
                                },
                                {
                                    "0": "10575",
                                    "1": "Sales Manager",
                                    "2": "127.34"
                                },
                                {
                                    "0": "10795",
                                    "1": "Sales Representative",
                                    "2": "126.66"
                                },
                                {
                                    "0": "10393",
                                    "1": "CEO",
                                    "2": "126.56"
                                },
                                {
                                    "0": "10390",
                                    "1": "Sales Representative",
                                    "2": "126.38"
                                },
                                {
                                    "0": "10277",
                                    "1": "Vice President, Sales",
                                    "2": "125.77"
                                },
                                {
                                    "0": "10783",
                                    "1": "Sales Representative",
                                    "2": "124.98"
                                },
                                {
                                    "0": "10373",
                                    "1": "Sales Representative",
                                    "2": "124.12"
                                },
                                {
                                    "0": "11023",
                                    "1": "CEO",
                                    "2": "123.83"
                                },
                                {
                                    "0": "10392",
                                    "1": "Vice President, Sales",
                                    "2": "122.46"
                                },
                                {
                                    "0": "10971",
                                    "1": "Vice President, Sales",
                                    "2": "121.82"
                                },
                                {
                                    "0": "10554",
                                    "1": "Sales Representative",
                                    "2": "120.97"
                                },
                                {
                                    "0": "11055",
                                    "1": "Sales Representative",
                                    "2": "120.92"
                                },
                                {
                                    "0": "10892",
                                    "1": "Sales Representative",
                                    "2": "120.27"
                                },
                                {
                                    "0": "10990",
                                    "1": "Vice President, Sales",
                                    "2": "117.61"
                                },
                                {
                                    "0": "10747",
                                    "1": "Sales Representative",
                                    "2": "117.33"
                                },
                                {
                                    "0": "10616",
                                    "1": "CEO",
                                    "2": "116.53"
                                },
                                {
                                    "0": "10572",
                                    "1": "Sales Manager",
                                    "2": "116.43"
                                },
                                {
                                    "0": "10894",
                                    "1": "CEO",
                                    "2": "116.13"
                                },
                                {
                                    "0": "10663",
                                    "1": "Vice President, Sales",
                                    "2": "113.15"
                                },
                                {
                                    "0": "10871",
                                    "1": "Sales Representative",
                                    "2": "112.27"
                                },
                                {
                                    "0": "10660",
                                    "1": "Sales Representative",
                                    "2": "111.29"
                                },
                                {
                                    "0": "10786",
                                    "1": "Sales Representative",
                                    "2": "110.87"
                                },
                                {
                                    "0": "10343",
                                    "1": "Sales Representative",
                                    "2": "110.37"
                                },
                                {
                                    "0": "10733",
                                    "1": "CEO",
                                    "2": "110.11"
                                },
                                {
                                    "0": "10866",
                                    "1": "Sales Manager",
                                    "2": "109.11"
                                },
                                {
                                    "0": "10337",
                                    "1": "Sales Representative",
                                    "2": "108.26"
                                },
                                {
                                    "0": "10406",
                                    "1": "Sales Representative",
                                    "2": "108.04"
                                },
                                {
                                    "0": "10303",
                                    "1": "Sales Representative",
                                    "2": "107.83"
                                },
                                {
                                    "0": "10627",
                                    "1": "Sales Representative",
                                    "2": "107.46"
                                },
                                {
                                    "0": "10659",
                                    "1": "Sales Representative",
                                    "2": "105.81"
                                },
                                {
                                    "0": "10513",
                                    "1": "Sales Representative",
                                    "2": "105.65"
                                },
                                {
                                    "0": "10957",
                                    "1": "Sales Representative",
                                    "2": "105.36"
                                },
                                {
                                    "0": "10961",
                                    "1": "Sales Representative",
                                    "2": "104.47"
                                },
                                {
                                    "0": "10696",
                                    "1": "Sales Representative",
                                    "2": "102.55"
                                },
                                {
                                    "0": "10499",
                                    "1": "Sales Representative",
                                    "2": "102.02"
                                },
                                {
                                    "0": "10368",
                                    "1": "Vice President, Sales",
                                    "2": "101.95"
                                },
                                {
                                    "0": "10789",
                                    "1": "CEO",
                                    "2": "100.60"
                                },
                                {
                                    "0": "10854",
                                    "1": "Sales Manager",
                                    "2": "100.22"
                                },
                                {
                                    "0": "10421",
                                    "1": "Sales Representative",
                                    "2": "99.23"
                                },
                                {
                                    "0": "10272",
                                    "1": "Sales Representative",
                                    "2": "98.03"
                                },
                                {
                                    "0": "10623",
                                    "1": "Sales Representative",
                                    "2": "97.18"
                                },
                                {
                                    "0": "10801",
                                    "1": "Sales Representative",
                                    "2": "97.09"
                                },
                                {
                                    "0": "10595",
                                    "1": "Vice President, Sales",
                                    "2": "96.78"
                                },
                                {
                                    "0": "10557",
                                    "1": "Sales Representative",
                                    "2": "96.72"
                                },
                                {
                                    "0": "10731",
                                    "1": "Sales Representative",
                                    "2": "96.65"
                                },
                                {
                                    "0": "10686",
                                    "1": "Vice President, Sales",
                                    "2": "96.50"
                                },
                                {
                                    "0": "10773",
                                    "1": "CEO",
                                    "2": "96.43"
                                },
                                {
                                    "0": "10999",
                                    "1": "Sales Representative",
                                    "2": "96.35"
                                },
                                {
                                    "0": "10362",
                                    "1": "Sales Manager",
                                    "2": "96.04"
                                },
                                {
                                    "0": "10672",
                                    "1": "Sales Representative",
                                    "2": "95.75"
                                },
                                {
                                    "0": "10413",
                                    "1": "Sales Manager",
                                    "2": "95.66"
                                },
                                {
                                    "0": "10624",
                                    "1": "Sales Representative",
                                    "2": "94.80"
                                },
                                {
                                    "0": "10382",
                                    "1": "Sales Representative",
                                    "2": "94.77"
                                },
                                {
                                    "0": "10387",
                                    "1": "CEO",
                                    "2": "93.63"
                                },
                                {
                                    "0": "10653",
                                    "1": "CEO",
                                    "2": "93.25"
                                },
                                {
                                    "0": "10278",
                                    "1": "Sales Representative",
                                    "2": "92.69"
                                },
                                {
                                    "0": "10519",
                                    "1": "Sales Representative",
                                    "2": "91.76"
                                },
                                {
                                    "0": "10985",
                                    "1": "Vice President, Sales",
                                    "2": "91.51"
                                },
                                {
                                    "0": "10407",
                                    "1": "Vice President, Sales",
                                    "2": "91.48"
                                },
                                {
                                    "0": "10772",
                                    "1": "Sales Manager",
                                    "2": "91.28"
                                },
                                {
                                    "0": "10619",
                                    "1": "Sales Manager",
                                    "2": "91.05"
                                },
                                {
                                    "0": "10884",
                                    "1": "Sales Representative",
                                    "2": "90.97"
                                },
                                {
                                    "0": "10828",
                                    "1": "Sales Representative",
                                    "2": "90.85"
                                },
                                {
                                    "0": "10712",
                                    "1": "Sales Manager",
                                    "2": "89.93"
                                },
                                {
                                    "0": "10727",
                                    "1": "Vice President, Sales",
                                    "2": "89.90"
                                },
                                {
                                    "0": "10398",
                                    "1": "Vice President, Sales",
                                    "2": "89.16"
                                },
                                {
                                    "0": "10464",
                                    "1": "Sales Representative",
                                    "2": "89.00"
                                },
                                {
                                    "0": "10566",
                                    "1": "Sales Representative",
                                    "2": "88.40"
                                },
                                {
                                    "0": "10880",
                                    "1": "Sales Representative",
                                    "2": "88.01"
                                },
                                {
                                    "0": "10964",
                                    "1": "Sales Manager",
                                    "2": "87.38"
                                },
                                {
                                    "0": "10328",
                                    "1": "Sales Representative",
                                    "2": "87.03"
                                },
                                {
                                    "0": "10440",
                                    "1": "Sales Representative",
                                    "2": "86.53"
                                },
                                {
                                    "0": "11059",
                                    "1": "Vice President, Sales",
                                    "2": "85.80"
                                },
                                {
                                    "0": "10629",
                                    "1": "Sales Representative",
                                    "2": "85.46"
                                },
                                {
                                    "0": "10573",
                                    "1": "Sales Representative",
                                    "2": "84.84"
                                },
                                {
                                    "0": "10283",
                                    "1": "Sales Manager",
                                    "2": "84.81"
                                },
                                {
                                    "0": "11033",
                                    "1": "Sales Representative",
                                    "2": "84.74"
                                },
                                {
                                    "0": "10338",
                                    "1": "Sales Representative",
                                    "2": "84.21"
                                },
                                {
                                    "0": "10400",
                                    "1": "CEO",
                                    "2": "83.93"
                                },
                                {
                                    "0": "10474",
                                    "1": "Sales Manager",
                                    "2": "83.49"
                                },
                                {
                                    "0": "10552",
                                    "1": "Vice President, Sales",
                                    "2": "83.22"
                                },
                                {
                                    "0": "10257",
                                    "1": "Sales Representative",
                                    "2": "81.91"
                                },
                                {
                                    "0": "10740",
                                    "1": "Sales Representative",
                                    "2": "81.88"
                                },
                                {
                                    "0": "10830",
                                    "1": "Sales Representative",
                                    "2": "81.83"
                                },
                                {
                                    "0": "11068",
                                    "1": "Sales Representative",
                                    "2": "81.75"
                                },
                                {
                                    "0": "11063",
                                    "1": "Sales Manager",
                                    "2": "81.73"
                                },
                                {
                                    "0": "10611",
                                    "1": "Sales Representative",
                                    "2": "80.65"
                                },
                                {
                                    "0": "10290",
                                    "1": "Sales Representative",
                                    "2": "79.70"
                                },
                                {
                                    "0": "11008",
                                    "1": "Sales Representative",
                                    "2": "79.46"
                                },
                                {
                                    "0": "10606",
                                    "1": "Sales Representative",
                                    "2": "79.40"
                                },
                                {
                                    "0": "10750",
                                    "1": "Sales Representative",
                                    "2": "79.30"
                                },
                                {
                                    "0": "10825",
                                    "1": "CEO",
                                    "2": "79.25"
                                },
                                {
                                    "0": "10537",
                                    "1": "CEO",
                                    "2": "78.85"
                                },
                                {
                                    "0": "10667",
                                    "1": "Sales Representative",
                                    "2": "78.09"
                                },
                                {
                                    "0": "10326",
                                    "1": "Sales Representative",
                                    "2": "77.92"
                                },
                                {
                                    "0": "10893",
                                    "1": "Sales Representative",
                                    "2": "77.78"
                                },
                                {
                                    "0": "10523",
                                    "1": "Sales Representative",
                                    "2": "77.63"
                                },
                                {
                                    "0": "10285",
                                    "1": "CEO",
                                    "2": "76.83"
                                },
                                {
                                    "0": "10284",
                                    "1": "Sales Representative",
                                    "2": "76.56"
                                },
                                {
                                    "0": "10939",
                                    "1": "Vice President, Sales",
                                    "2": "76.33"
                                },
                                {
                                    "0": "10681",
                                    "1": "Sales Manager",
                                    "2": "76.13"
                                },
                                {
                                    "0": "10859",
                                    "1": "CEO",
                                    "2": "76.10"
                                },
                                {
                                    "0": "10273",
                                    "1": "Sales Manager",
                                    "2": "76.07"
                                },
                                {
                                    "0": "10580",
                                    "1": "Sales Representative",
                                    "2": "75.89"
                                },
                                {
                                    "0": "10968",
                                    "1": "CEO",
                                    "2": "74.60"
                                },
                                {
                                    "0": "10722",
                                    "1": "Sales Representative",
                                    "2": "74.58"
                                },
                                {
                                    "0": "10532",
                                    "1": "Sales Representative",
                                    "2": "74.46"
                                },
                                {
                                    "0": "10949",
                                    "1": "Vice President, Sales",
                                    "2": "74.44"
                                },
                                {
                                    "0": "11024",
                                    "1": "Sales Representative",
                                    "2": "74.36"
                                },
                                {
                                    "0": "10314",
                                    "1": "CEO",
                                    "2": "74.16"
                                },
                                {
                                    "0": "10997",
                                    "1": "Sales Representative",
                                    "2": "73.91"
                                },
                                {
                                    "0": "10433",
                                    "1": "Sales Manager",
                                    "2": "73.83"
                                },
                                {
                                    "0": "10403",
                                    "1": "Sales Representative",
                                    "2": "73.79"
                                },
                                {
                                    "0": "10756",
                                    "1": "Sales Representative",
                                    "2": "73.21"
                                },
                                {
                                    "0": "10781",
                                    "1": "Vice President, Sales",
                                    "2": "73.16"
                                },
                                {
                                    "0": "10441",
                                    "1": "Sales Manager",
                                    "2": "73.02"
                                },
                                {
                                    "0": "10558",
                                    "1": "CEO",
                                    "2": "72.97"
                                },
                                {
                                    "0": "10551",
                                    "1": "Sales Representative",
                                    "2": "72.95"
                                },
                                {
                                    "0": "10831",
                                    "1": "Sales Manager",
                                    "2": "72.19"
                                },
                                {
                                    "0": "10364",
                                    "1": "CEO",
                                    "2": "71.97"
                                },
                                {
                                    "0": "11046",
                                    "1": "Sales Representative",
                                    "2": "71.64"
                                },
                                {
                                    "0": "10833",
                                    "1": "Sales Representative",
                                    "2": "71.49"
                                },
                                {
                                    "0": "10487",
                                    "1": "Vice President, Sales",
                                    "2": "71.07"
                                },
                                {
                                    "0": "11045",
                                    "1": "Sales Representative",
                                    "2": "70.58"
                                },
                                {
                                    "0": "10417",
                                    "1": "Sales Representative",
                                    "2": "70.29"
                                },
                                {
                                    "0": "10784",
                                    "1": "Sales Representative",
                                    "2": "70.09"
                                },
                                {
                                    "0": "10835",
                                    "1": "CEO",
                                    "2": "69.53"
                                },
                                {
                                    "0": "10502",
                                    "1": "Vice President, Sales",
                                    "2": "69.32"
                                },
                                {
                                    "0": "10744",
                                    "1": "Sales Representative",
                                    "2": "69.19"
                                },
                                {
                                    "0": "10447",
                                    "1": "Sales Representative",
                                    "2": "68.66"
                                },
                                {
                                    "0": "10541",
                                    "1": "Vice President, Sales",
                                    "2": "68.65"
                                },
                                {
                                    "0": "10475",
                                    "1": "Sales Representative",
                                    "2": "68.52"
                                },
                                {
                                    "0": "10923",
                                    "1": "Sales Representative",
                                    "2": "68.26"
                                },
                                {
                                    "0": "10402",
                                    "1": "Sales Representative",
                                    "2": "67.88"
                                },
                                {
                                    "0": "11052",
                                    "1": "Sales Manager",
                                    "2": "67.26"
                                },
                                {
                                    "0": "10529",
                                    "1": "Sales Manager",
                                    "2": "66.69"
                                },
                                {
                                    "0": "10268",
                                    "1": "Sales Representative",
                                    "2": "66.29"
                                },
                                {
                                    "0": "10494",
                                    "1": "Sales Representative",
                                    "2": "65.99"
                                },
                                {
                                    "0": "10250",
                                    "1": "Sales Representative",
                                    "2": "65.83"
                                },
                                {
                                    "0": "10994",
                                    "1": "Vice President, Sales",
                                    "2": "65.53"
                                },
                                {
                                    "0": "10818",
                                    "1": "Sales Representative",
                                    "2": "65.48"
                                },
                                {
                                    "0": "10700",
                                    "1": "Sales Manager",
                                    "2": "65.10"
                                },
                                {
                                    "0": "10769",
                                    "1": "Sales Manager",
                                    "2": "65.06"
                                },
                                {
                                    "0": "11039",
                                    "1": "CEO",
                                    "2": "65.00"
                                },
                                {
                                    "0": "10325",
                                    "1": "CEO",
                                    "2": "64.86"
                                },
                                {
                                    "0": "10470",
                                    "1": "Sales Representative",
                                    "2": "64.56"
                                },
                                {
                                    "0": "10319",
                                    "1": "Sales Representative",
                                    "2": "64.50"
                                },
                                {
                                    "0": "10485",
                                    "1": "Sales Representative",
                                    "2": "64.45"
                                },
                                {
                                    "0": "10481",
                                    "1": "Sales Representative",
                                    "2": "64.33"
                                },
                                {
                                    "0": "10350",
                                    "1": "Sales Representative",
                                    "2": "64.19"
                                },
                                {
                                    "0": "10304",
                                    "1": "CEO",
                                    "2": "63.79"
                                },
                                {
                                    "0": "10916",
                                    "1": "CEO",
                                    "2": "63.77"
                                },
                                {
                                    "0": "10827",
                                    "1": "CEO",
                                    "2": "63.54"
                                },
                                {
                                    "0": "10327",
                                    "1": "Vice President, Sales",
                                    "2": "63.36"
                                },
                                {
                                    "0": "10715",
                                    "1": "Sales Manager",
                                    "2": "63.20"
                                },
                                {
                                    "0": "10492",
                                    "1": "Sales Manager",
                                    "2": "62.89"
                                },
                                {
                                    "0": "10516",
                                    "1": "Vice President, Sales",
                                    "2": "62.78"
                                },
                                {
                                    "0": "10922",
                                    "1": "Sales Manager",
                                    "2": "62.74"
                                },
                                {
                                    "0": "10587",
                                    "1": "CEO",
                                    "2": "62.52"
                                },
                                {
                                    "0": "10967",
                                    "1": "Vice President, Sales",
                                    "2": "62.22"
                                },
                                {
                                    "0": "10901",
                                    "1": "Sales Representative",
                                    "2": "62.09"
                                },
                                {
                                    "0": "10749",
                                    "1": "Sales Representative",
                                    "2": "61.53"
                                },
                                {
                                    "0": "10988",
                                    "1": "Sales Manager",
                                    "2": "61.14"
                                },
                                {
                                    "0": "10692",
                                    "1": "Sales Representative",
                                    "2": "61.02"
                                },
                                {
                                    "0": "10563",
                                    "1": "Vice President, Sales",
                                    "2": "60.43"
                                },
                                {
                                    "0": "10876",
                                    "1": "Sales Representative",
                                    "2": "60.42"
                                },
                                {
                                    "0": "10397",
                                    "1": "Sales Manager",
                                    "2": "60.26"
                                },
                                {
                                    "0": "10469",
                                    "1": "CEO",
                                    "2": "60.18"
                                },
                                {
                                    "0": "10812",
                                    "1": "Sales Manager",
                                    "2": "59.78"
                                },
                                {
                                    "0": "11050",
                                    "1": "Sales Representative",
                                    "2": "59.41"
                                },
                                {
                                    "0": "10838",
                                    "1": "Sales Manager",
                                    "2": "59.28"
                                },
                                {
                                    "0": "10717",
                                    "1": "CEO",
                                    "2": "59.25"
                                },
                                {
                                    "0": "10584",
                                    "1": "Sales Representative",
                                    "2": "59.14"
                                },
                                {
                                    "0": "10504",
                                    "1": "Sales Representative",
                                    "2": "59.13"
                                },
                                {
                                    "0": "11009",
                                    "1": "Vice President, Sales",
                                    "2": "59.11"
                                },
                                {
                                    "0": "10569",
                                    "1": "Sales Manager",
                                    "2": "58.98"
                                },
                                {
                                    "0": "10536",
                                    "1": "Sales Manager",
                                    "2": "58.88"
                                },
                                {
                                    "0": "10526",
                                    "1": "Sales Representative",
                                    "2": "58.59"
                                },
                                {
                                    "0": "10856",
                                    "1": "Sales Manager",
                                    "2": "58.43"
                                },
                                {
                                    "0": "10728",
                                    "1": "Sales Representative",
                                    "2": "58.33"
                                },
                                {
                                    "0": "10601",
                                    "1": "Sales Representative",
                                    "2": "58.30"
                                },
                                {
                                    "0": "10253",
                                    "1": "Sales Manager",
                                    "2": "58.17"
                                },
                                {
                                    "0": "10779",
                                    "1": "Sales Manager",
                                    "2": "58.13"
                                },
                                {
                                    "0": "10724",
                                    "1": "Sales Representative",
                                    "2": "57.75"
                                },
                                {
                                    "0": "10656",
                                    "1": "Sales Representative",
                                    "2": "57.15"
                                },
                                {
                                    "0": "10429",
                                    "1": "Sales Manager",
                                    "2": "56.63"
                                },
                                {
                                    "0": "10846",
                                    "1": "Vice President, Sales",
                                    "2": "56.46"
                                },
                                {
                                    "0": "10591",
                                    "1": "CEO",
                                    "2": "55.92"
                                },
                                {
                                    "0": "10265",
                                    "1": "Vice President, Sales",
                                    "2": "55.28"
                                },
                                {
                                    "0": "10654",
                                    "1": "Sales Manager",
                                    "2": "55.26"
                                },
                                {
                                    "0": "10803",
                                    "1": "Sales Representative",
                                    "2": "55.23"
                                },
                                {
                                    "0": "11000",
                                    "1": "Vice President, Sales",
                                    "2": "55.12"
                                },
                                {
                                    "0": "10260",
                                    "1": "Sales Representative",
                                    "2": "55.09"
                                },
                                {
                                    "0": "10342",
                                    "1": "Sales Representative",
                                    "2": "54.83"
                                },
                                {
                                    "0": "10842",
                                    "1": "CEO",
                                    "2": "54.42"
                                },
                                {
                                    "0": "10933",
                                    "1": "Sales Representative",
                                    "2": "54.15"
                                },
                                {
                                    "0": "10853",
                                    "1": "Sales Representative",
                                    "2": "53.83"
                                },
                                {
                                    "0": "10354",
                                    "1": "Sales Representative",
                                    "2": "53.80"
                                },
                                {
                                    "0": "10449",
                                    "1": "Sales Manager",
                                    "2": "53.30"
                                },
                                {
                                    "0": "10862",
                                    "1": "Sales Representative",
                                    "2": "53.23"
                                },
                                {
                                    "0": "10909",
                                    "1": "CEO",
                                    "2": "53.05"
                                },
                                {
                                    "0": "11053",
                                    "1": "Vice President, Sales",
                                    "2": "53.05"
                                },
                                {
                                    "0": "10944",
                                    "1": "Sales Representative",
                                    "2": "52.92"
                                },
                                {
                                    "0": "10332",
                                    "1": "Sales Manager",
                                    "2": "52.84"
                                },
                                {
                                    "0": "11027",
                                    "1": "CEO",
                                    "2": "52.52"
                                },
                                {
                                    "0": "10858",
                                    "1": "Vice President, Sales",
                                    "2": "52.51"
                                },
                                {
                                    "0": "10711",
                                    "1": "Sales Manager",
                                    "2": "52.41"
                                },
                                {
                                    "0": "10888",
                                    "1": "CEO",
                                    "2": "51.87"
                                },
                                {
                                    "0": "10719",
                                    "1": "Sales Representative",
                                    "2": "51.44"
                                },
                                {
                                    "0": "10252",
                                    "1": "Sales Representative",
                                    "2": "51.30"
                                },
                                {
                                    "0": "10622",
                                    "1": "Sales Representative",
                                    "2": "50.97"
                                },
                                {
                                    "0": "10958",
                                    "1": "Sales Representative",
                                    "2": "49.56"
                                },
                                {
                                    "0": "10850",
                                    "1": "CEO",
                                    "2": "49.19"
                                },
                                {
                                    "0": "10721",
                                    "1": "Sales Manager",
                                    "2": "48.92"
                                },
                                {
                                    "0": "10918",
                                    "1": "Sales Manager",
                                    "2": "48.83"
                                },
                                {
                                    "0": "10603",
                                    "1": "Sales Representative",
                                    "2": "48.77"
                                },
                                {
                                    "0": "10262",
                                    "1": "Sales Representative",
                                    "2": "48.29"
                                },
                                {
                                    "0": "11041",
                                    "1": "Sales Manager",
                                    "2": "48.22"
                                },
                                {
                                    "0": "10774",
                                    "1": "Sales Representative",
                                    "2": "48.20"
                                },
                                {
                                    "0": "10543",
                                    "1": "Sales Representative",
                                    "2": "48.17"
                                },
                                {
                                    "0": "10442",
                                    "1": "Sales Manager",
                                    "2": "47.94"
                                },
                                {
                                    "0": "11029",
                                    "1": "Sales Representative",
                                    "2": "47.84"
                                },
                                {
                                    "0": "10935",
                                    "1": "Sales Representative",
                                    "2": "47.59"
                                },
                                {
                                    "0": "10635",
                                    "1": "Sales Representative",
                                    "2": "47.46"
                                },
                                {
                                    "0": "10507",
                                    "1": "Sales Representative",
                                    "2": "47.45"
                                },
                                {
                                    "0": "10389",
                                    "1": "Sales Representative",
                                    "2": "47.42"
                                },
                                {
                                    "0": "10813",
                                    "1": "CEO",
                                    "2": "47.38"
                                },
                                {
                                    "0": "10309",
                                    "1": "Sales Manager",
                                    "2": "47.30"
                                },
                                {
                                    "0": "10668",
                                    "1": "CEO",
                                    "2": "47.22"
                                },
                                {
                                    "0": "11026",
                                    "1": "Sales Representative",
                                    "2": "47.09"
                                },
                                {
                                    "0": "10496",
                                    "1": "Sales Representative",
                                    "2": "46.77"
                                },
                                {
                                    "0": "10878",
                                    "1": "Sales Representative",
                                    "2": "46.69"
                                },
                                {
                                    "0": "11047",
                                    "1": "Sales Representative",
                                    "2": "46.62"
                                },
                                {
                                    "0": "10995",
                                    "1": "CEO",
                                    "2": "46.00"
                                },
                                {
                                    "0": "10735",
                                    "1": "Sales Representative",
                                    "2": "45.97"
                                },
                                {
                                    "0": "10471",
                                    "1": "Vice President, Sales",
                                    "2": "45.59"
                                },
                                {
                                    "0": "10647",
                                    "1": "Sales Representative",
                                    "2": "45.54"
                                },
                                {
                                    "0": "10808",
                                    "1": "Vice President, Sales",
                                    "2": "45.53"
                                },
                                {
                                    "0": "10697",
                                    "1": "Sales Manager",
                                    "2": "45.52"
                                },
                                {
                                    "0": "10522",
                                    "1": "Sales Representative",
                                    "2": "45.33"
                                },
                                {
                                    "0": "10600",
                                    "1": "Sales Representative",
                                    "2": "45.13"
                                },
                                {
                                    "0": "10301",
                                    "1": "Sales Representative",
                                    "2": "45.08"
                                },
                                {
                                    "0": "10379",
                                    "1": "Vice President, Sales",
                                    "2": "45.03"
                                },
                                {
                                    "0": "11004",
                                    "1": "Sales Manager",
                                    "2": "44.84"
                                },
                                {
                                    "0": "10590",
                                    "1": "Sales Representative",
                                    "2": "44.77"
                                },
                                {
                                    "0": "11066",
                                    "1": "Sales Representative",
                                    "2": "44.72"
                                },
                                {
                                    "0": "10956",
                                    "1": "Sales Representative",
                                    "2": "44.65"
                                },
                                {
                                    "0": "10598",
                                    "1": "CEO",
                                    "2": "44.42"
                                },
                                {
                                    "0": "10431",
                                    "1": "Sales Representative",
                                    "2": "44.17"
                                },
                                {
                                    "0": "10902",
                                    "1": "CEO",
                                    "2": "44.15"
                                },
                                {
                                    "0": "10420",
                                    "1": "Sales Manager",
                                    "2": "44.12"
                                },
                                {
                                    "0": "10468",
                                    "1": "Sales Manager",
                                    "2": "44.12"
                                },
                                {
                                    "0": "10736",
                                    "1": "Sales Representative",
                                    "2": "44.10"
                                },
                                {
                                    "0": "10625",
                                    "1": "Sales Manager",
                                    "2": "43.90"
                                },
                                {
                                    "0": "11020",
                                    "1": "Vice President, Sales",
                                    "2": "43.30"
                                },
                                {
                                    "0": "10832",
                                    "1": "Vice President, Sales",
                                    "2": "43.26"
                                },
                                {
                                    "0": "10765",
                                    "1": "Sales Manager",
                                    "2": "42.74"
                                },
                                {
                                    "0": "10788",
                                    "1": "CEO",
                                    "2": "42.70"
                                },
                                {
                                    "0": "10500",
                                    "1": "Sales Representative",
                                    "2": "42.68"
                                },
                                {
                                    "0": "10780",
                                    "1": "Vice President, Sales",
                                    "2": "42.13"
                                },
                                {
                                    "0": "10335",
                                    "1": "Sales Representative",
                                    "2": "42.11"
                                },
                                {
                                    "0": "10355",
                                    "1": "Sales Representative",
                                    "2": "41.95"
                                },
                                {
                                    "0": "10527",
                                    "1": "Sales Representative",
                                    "2": "41.90"
                                },
                                {
                                    "0": "10642",
                                    "1": "Sales Representative",
                                    "2": "41.89"
                                },
                                {
                                    "0": "10315",
                                    "1": "Sales Representative",
                                    "2": "41.76"
                                },
                                {
                                    "0": "10632",
                                    "1": "Sales Representative",
                                    "2": "41.38"
                                },
                                {
                                    "0": "10251",
                                    "1": "Sales Manager",
                                    "2": "41.34"
                                },
                                {
                                    "0": "10952",
                                    "1": "CEO",
                                    "2": "40.42"
                                },
                                {
                                    "0": "11034",
                                    "1": "Sales Representative",
                                    "2": "40.32"
                                },
                                {
                                    "0": "10312",
                                    "1": "Vice President, Sales",
                                    "2": "40.26"
                                },
                                {
                                    "0": "10926",
                                    "1": "Sales Representative",
                                    "2": "39.92"
                                },
                                {
                                    "0": "10448",
                                    "1": "Sales Representative",
                                    "2": "38.82"
                                },
                                {
                                    "0": "10639",
                                    "1": "Sales Representative",
                                    "2": "38.64"
                                },
                                {
                                    "0": "10991",
                                    "1": "CEO",
                                    "2": "38.51"
                                },
                                {
                                    "0": "11076",
                                    "1": "Sales Representative",
                                    "2": "38.28"
                                },
                                {
                                    "0": "10848",
                                    "1": "Sales Representative",
                                    "2": "38.24"
                                },
                                {
                                    "0": "10911",
                                    "1": "Sales Manager",
                                    "2": "38.19"
                                },
                                {
                                    "0": "10910",
                                    "1": "CEO",
                                    "2": "38.11"
                                },
                                {
                                    "0": "10877",
                                    "1": "CEO",
                                    "2": "38.06"
                                },
                                {
                                    "0": "10976",
                                    "1": "CEO",
                                    "2": "37.97"
                                },
                                {
                                    "0": "10574",
                                    "1": "Sales Representative",
                                    "2": "37.60"
                                },
                                {
                                    "0": "10820",
                                    "1": "Sales Manager",
                                    "2": "37.52"
                                },
                                {
                                    "0": "10763",
                                    "1": "Sales Manager",
                                    "2": "37.35"
                                },
                                {
                                    "0": "10356",
                                    "1": "Sales Representative",
                                    "2": "36.71"
                                },
                                {
                                    "0": "10903",
                                    "1": "Sales Manager",
                                    "2": "36.71"
                                },
                                {
                                    "0": "10821",
                                    "1": "CEO",
                                    "2": "36.68"
                                },
                                {
                                    "0": "10560",
                                    "1": "Sales Representative",
                                    "2": "36.65"
                                },
                                {
                                    "0": "10497",
                                    "1": "Sales Representative",
                                    "2": "36.21"
                                },
                                {
                                    "0": "10682",
                                    "1": "Sales Manager",
                                    "2": "36.13"
                                },
                                {
                                    "0": "10839",
                                    "1": "Sales Manager",
                                    "2": "35.43"
                                },
                                {
                                    "0": "10597",
                                    "1": "Sales Representative",
                                    "2": "35.12"
                                },
                                {
                                    "0": "10380",
                                    "1": "Sales Representative",
                                    "2": "35.03"
                                },
                                {
                                    "0": "10357",
                                    "1": "CEO",
                                    "2": "34.88"
                                },
                                {
                                    "0": "10388",
                                    "1": "Vice President, Sales",
                                    "2": "34.86"
                                },
                                {
                                    "0": "10405",
                                    "1": "CEO",
                                    "2": "34.82"
                                },
                                {
                                    "0": "10989",
                                    "1": "Vice President, Sales",
                                    "2": "34.76"
                                },
                                {
                                    "0": "10320",
                                    "1": "Sales Manager",
                                    "2": "34.57"
                                },
                                {
                                    "0": "10383",
                                    "1": "Sales Representative",
                                    "2": "34.24"
                                },
                                {
                                    "0": "10567",
                                    "1": "CEO",
                                    "2": "33.97"
                                },
                                {
                                    "0": "10929",
                                    "1": "Sales Representative",
                                    "2": "33.93"
                                },
                                {
                                    "0": "11016",
                                    "1": "Sales Representative",
                                    "2": "33.80"
                                },
                                {
                                    "0": "10685",
                                    "1": "Sales Representative",
                                    "2": "33.75"
                                },
                                {
                                    "0": "10936",
                                    "1": "Sales Manager",
                                    "2": "33.68"
                                },
                                {
                                    "0": "10797",
                                    "1": "Sales Representative",
                                    "2": "33.35"
                                },
                                {
                                    "0": "10913",
                                    "1": "Sales Representative",
                                    "2": "33.05"
                                },
                                {
                                    "0": "11013",
                                    "1": "Vice President, Sales",
                                    "2": "32.99"
                                },
                                {
                                    "0": "10908",
                                    "1": "Sales Representative",
                                    "2": "32.96"
                                },
                                {
                                    "0": "10978",
                                    "1": "Sales Representative",
                                    "2": "32.82"
                                },
                                {
                                    "0": "10890",
                                    "1": "Sales Representative",
                                    "2": "32.76"
                                },
                                {
                                    "0": "10896",
                                    "1": "Sales Representative",
                                    "2": "32.45"
                                },
                                {
                                    "0": "10248",
                                    "1": "Sales Manager",
                                    "2": "32.38"
                                },
                                {
                                    "0": "10875",
                                    "1": "Sales Representative",
                                    "2": "32.37"
                                },
                                {
                                    "0": "10630",
                                    "1": "CEO",
                                    "2": "32.35"
                                },
                                {
                                    "0": "10975",
                                    "1": "CEO",
                                    "2": "32.27"
                                },
                                {
                                    "0": "10592",
                                    "1": "Sales Manager",
                                    "2": "32.10"
                                },
                                {
                                    "0": "10517",
                                    "1": "Sales Manager",
                                    "2": "32.07"
                                },
                                {
                                    "0": "10934",
                                    "1": "Sales Manager",
                                    "2": "32.01"
                                },
                                {
                                    "0": "10938",
                                    "1": "Sales Manager",
                                    "2": "31.89"
                                },
                                {
                                    "0": "10675",
                                    "1": "Sales Manager",
                                    "2": "31.85"
                                },
                                {
                                    "0": "10937",
                                    "1": "Sales Representative",
                                    "2": "31.51"
                                },
                                {
                                    "0": "10746",
                                    "1": "CEO",
                                    "2": "31.43"
                                },
                                {
                                    "0": "10427",
                                    "1": "Sales Representative",
                                    "2": "31.29"
                                },
                                {
                                    "0": "10811",
                                    "1": "Sales Representative",
                                    "2": "31.22"
                                },
                                {
                                    "0": "11058",
                                    "1": "Sales Representative",
                                    "2": "31.14"
                                },
                                {
                                    "0": "10385",
                                    "1": "CEO",
                                    "2": "30.96"
                                },
                                {
                                    "0": "10951",
                                    "1": "Sales Representative",
                                    "2": "30.85"
                                },
                                {
                                    "0": "10799",
                                    "1": "Sales Representative",
                                    "2": "30.76"
                                },
                                {
                                    "0": "10363",
                                    "1": "Sales Representative",
                                    "2": "30.54"
                                },
                                {
                                    "0": "10486",
                                    "1": "CEO",
                                    "2": "30.53"
                                },
                                {
                                    "0": "10628",
                                    "1": "Sales Representative",
                                    "2": "30.36"
                                },
                                {
                                    "0": "10671",
                                    "1": "CEO",
                                    "2": "30.34"
                                },
                                {
                                    "0": "10394",
                                    "1": "CEO",
                                    "2": "30.34"
                                },
                                {
                                    "0": "10863",
                                    "1": "Sales Representative",
                                    "2": "30.26"
                                },
                                {
                                    "0": "11064",
                                    "1": "CEO",
                                    "2": "30.09"
                                },
                                {
                                    "0": "11042",
                                    "1": "Vice President, Sales",
                                    "2": "29.99"
                                },
                                {
                                    "0": "10599",
                                    "1": "Sales Representative",
                                    "2": "29.98"
                                },
                                {
                                    "0": "11062",
                                    "1": "Sales Representative",
                                    "2": "29.93"
                                },
                                {
                                    "0": "10409",
                                    "1": "Sales Manager",
                                    "2": "29.83"
                                },
                                {
                                    "0": "10834",
                                    "1": "CEO",
                                    "2": "29.78"
                                },
                                {
                                    "0": "10299",
                                    "1": "Sales Representative",
                                    "2": "29.76"
                                },
                                {
                                    "0": "10498",
                                    "1": "Sales Representative",
                                    "2": "29.75"
                                },
                                {
                                    "0": "10920",
                                    "1": "Sales Representative",
                                    "2": "29.61"
                                },
                                {
                                    "0": "10578",
                                    "1": "Sales Representative",
                                    "2": "29.60"
                                },
                                {
                                    "0": "11028",
                                    "1": "Vice President, Sales",
                                    "2": "29.59"
                                },
                                {
                                    "0": "11038",
                                    "1": "CEO",
                                    "2": "29.59"
                                },
                                {
                                    "0": "10643",
                                    "1": "Sales Representative",
                                    "2": "29.46"
                                },
                                {
                                    "0": "11025",
                                    "1": "Sales Representative",
                                    "2": "29.17"
                                },
                                {
                                    "0": "11010",
                                    "1": "Vice President, Sales",
                                    "2": "28.71"
                                },
                                {
                                    "0": "10790",
                                    "1": "Sales Representative",
                                    "2": "28.23"
                                },
                                {
                                    "0": "10679",
                                    "1": "Sales Representative",
                                    "2": "27.94"
                                },
                                {
                                    "0": "10534",
                                    "1": "Sales Representative",
                                    "2": "27.94"
                                },
                                {
                                    "0": "10954",
                                    "1": "Sales Manager",
                                    "2": "27.91"
                                },
                                {
                                    "0": "10608",
                                    "1": "Sales Representative",
                                    "2": "27.79"
                                },
                                {
                                    "0": "10582",
                                    "1": "Sales Manager",
                                    "2": "27.71"
                                },
                                {
                                    "0": "10399",
                                    "1": "Sales Representative",
                                    "2": "27.36"
                                },
                                {
                                    "0": "10804",
                                    "1": "Sales Representative",
                                    "2": "27.33"
                                },
                                {
                                    "0": "10946",
                                    "1": "CEO",
                                    "2": "27.20"
                                },
                                {
                                    "0": "10966",
                                    "1": "Sales Representative",
                                    "2": "27.19"
                                },
                                {
                                    "0": "10275",
                                    "1": "CEO",
                                    "2": "26.93"
                                },
                                {
                                    "0": "10341",
                                    "1": "Sales Representative",
                                    "2": "26.78"
                                },
                                {
                                    "0": "10610",
                                    "1": "Sales Representative",
                                    "2": "26.78"
                                },
                                {
                                    "0": "10680",
                                    "1": "CEO",
                                    "2": "26.61"
                                },
                                {
                                    "0": "10796",
                                    "1": "Sales Manager",
                                    "2": "26.52"
                                },
                                {
                                    "0": "10665",
                                    "1": "CEO",
                                    "2": "26.31"
                                },
                                {
                                    "0": "10906",
                                    "1": "Sales Representative",
                                    "2": "26.29"
                                },
                                {
                                    "0": "10571",
                                    "1": "Sales Representative",
                                    "2": "26.06"
                                },
                                {
                                    "0": "10279",
                                    "1": "Sales Representative",
                                    "2": "25.83"
                                },
                                {
                                    "0": "10266",
                                    "1": "Sales Manager",
                                    "2": "25.73"
                                },
                                {
                                    "0": "10577",
                                    "1": "Sales Representative",
                                    "2": "25.41"
                                },
                                {
                                    "0": "10453",
                                    "1": "CEO",
                                    "2": "25.36"
                                },
                                {
                                    "0": "10844",
                                    "1": "Sales Representative",
                                    "2": "25.22"
                                },
                                {
                                    "0": "11006",
                                    "1": "Sales Manager",
                                    "2": "25.19"
                                },
                                {
                                    "0": "10459",
                                    "1": "Sales Representative",
                                    "2": "25.09"
                                },
                                {
                                    "0": "11073",
                                    "1": "Vice President, Sales",
                                    "2": "24.95"
                                },
                                {
                                    "0": "10544",
                                    "1": "Sales Representative",
                                    "2": "24.91"
                                },
                                {
                                    "0": "10311",
                                    "1": "CEO",
                                    "2": "24.69"
                                },
                                {
                                    "0": "10423",
                                    "1": "Sales Representative",
                                    "2": "24.50"
                                },
                                {
                                    "0": "10714",
                                    "1": "Sales Manager",
                                    "2": "24.49"
                                },
                                {
                                    "0": "10669",
                                    "1": "Vice President, Sales",
                                    "2": "24.39"
                                },
                                {
                                    "0": "11048",
                                    "1": "Sales Representative",
                                    "2": "24.12"
                                },
                                {
                                    "0": "10702",
                                    "1": "Sales Representative",
                                    "2": "23.94"
                                },
                                {
                                    "0": "10792",
                                    "1": "CEO",
                                    "2": "23.79"
                                },
                                {
                                    "0": "10621",
                                    "1": "Sales Representative",
                                    "2": "23.73"
                                },
                                {
                                    "0": "10743",
                                    "1": "CEO",
                                    "2": "23.72"
                                },
                                {
                                    "0": "10953",
                                    "1": "Sales Representative",
                                    "2": "23.72"
                                },
                                {
                                    "0": "10411",
                                    "1": "Sales Representative",
                                    "2": "23.65"
                                },
                                {
                                    "0": "11014",
                                    "1": "Vice President, Sales",
                                    "2": "23.60"
                                },
                                {
                                    "0": "10640",
                                    "1": "Sales Representative",
                                    "2": "23.55"
                                },
                                {
                                    "0": "10948",
                                    "1": "Sales Manager",
                                    "2": "23.39"
                                },
                                {
                                    "0": "10344",
                                    "1": "Sales Representative",
                                    "2": "23.29"
                                },
                                {
                                    "0": "10882",
                                    "1": "Sales Representative",
                                    "2": "23.10"
                                },
                                {
                                    "0": "10254",
                                    "1": "Sales Manager",
                                    "2": "22.98"
                                },
                                {
                                    "0": "10562",
                                    "1": "CEO",
                                    "2": "22.95"
                                },
                                {
                                    "0": "10289",
                                    "1": "Sales Representative",
                                    "2": "22.77"
                                },
                                {
                                    "0": "10673",
                                    "1": "Vice President, Sales",
                                    "2": "22.76"
                                },
                                {
                                    "0": "10416",
                                    "1": "Sales Representative",
                                    "2": "22.72"
                                },
                                {
                                    "0": "10716",
                                    "1": "Sales Representative",
                                    "2": "22.57"
                                },
                                {
                                    "0": "10377",
                                    "1": "CEO",
                                    "2": "22.21"
                                },
                                {
                                    "0": "10806",
                                    "1": "Sales Manager",
                                    "2": "22.11"
                                },
                                {
                                    "0": "10365",
                                    "1": "Sales Manager",
                                    "2": "22.00"
                                },
                                {
                                    "0": "10707",
                                    "1": "Sales Representative",
                                    "2": "21.74"
                                },
                                {
                                    "0": "10723",
                                    "1": "Sales Manager",
                                    "2": "21.72"
                                },
                                {
                                    "0": "10794",
                                    "1": "Sales Representative",
                                    "2": "21.49"
                                },
                                {
                                    "0": "10414",
                                    "1": "Vice President, Sales",
                                    "2": "21.48"
                                },
                                {
                                    "0": "10506",
                                    "1": "Sales Representative",
                                    "2": "21.19"
                                },
                                {
                                    "0": "10914",
                                    "1": "Sales Representative",
                                    "2": "21.19"
                                },
                                {
                                    "0": "10293",
                                    "1": "CEO",
                                    "2": "21.18"
                                },
                                {
                                    "0": "10651",
                                    "1": "Sales Representative",
                                    "2": "20.60"
                                },
                                {
                                    "0": "10376",
                                    "1": "CEO",
                                    "2": "20.39"
                                },
                                {
                                    "0": "10891",
                                    "1": "Sales Representative",
                                    "2": "20.37"
                                },
                                {
                                    "0": "10998",
                                    "1": "Sales Representative",
                                    "2": "20.31"
                                },
                                {
                                    "0": "10775",
                                    "1": "Sales Representative",
                                    "2": "20.25"
                                },
                                {
                                    "0": "10730",
                                    "1": "Sales Manager",
                                    "2": "20.12"
                                },
                                {
                                    "0": "10375",
                                    "1": "Sales Manager",
                                    "2": "20.12"
                                },
                                {
                                    "0": "10437",
                                    "1": "Sales Representative",
                                    "2": "19.97"
                                },
                                {
                                    "0": "10919",
                                    "1": "Vice President, Sales",
                                    "2": "19.80"
                                },
                                {
                                    "0": "10927",
                                    "1": "Sales Representative",
                                    "2": "19.79"
                                },
                                {
                                    "0": "10940",
                                    "1": "Sales Representative",
                                    "2": "19.77"
                                },
                                {
                                    "0": "10819",
                                    "1": "Vice President, Sales",
                                    "2": "19.76"
                                },
                                {
                                    "0": "10358",
                                    "1": "Sales Manager",
                                    "2": "19.64"
                                },
                                {
                                    "0": "10874",
                                    "1": "Sales Manager",
                                    "2": "19.58"
                                },
                                {
                                    "0": "10860",
                                    "1": "Sales Manager",
                                    "2": "19.26"
                                },
                                {
                                    "0": "11040",
                                    "1": "Sales Representative",
                                    "2": "18.84"
                                },
                                {
                                    "0": "10426",
                                    "1": "Sales Representative",
                                    "2": "18.69"
                                },
                                {
                                    "0": "10761",
                                    "1": "Sales Manager",
                                    "2": "18.66"
                                },
                                {
                                    "0": "10576",
                                    "1": "Sales Manager",
                                    "2": "18.56"
                                },
                                {
                                    "0": "10617",
                                    "1": "Sales Representative",
                                    "2": "18.53"
                                },
                                {
                                    "0": "11074",
                                    "1": "Sales Representative",
                                    "2": "18.44"
                                },
                                {
                                    "0": "10942",
                                    "1": "Sales Representative",
                                    "2": "17.95"
                                },
                                {
                                    "0": "10434",
                                    "1": "Sales Manager",
                                    "2": "17.92"
                                },
                                {
                                    "0": "10300",
                                    "1": "Vice President, Sales",
                                    "2": "17.68"
                                },
                                {
                                    "0": "10418",
                                    "1": "Sales Representative",
                                    "2": "17.55"
                                },
                                {
                                    "0": "10661",
                                    "1": "Sales Representative",
                                    "2": "17.55"
                                },
                                {
                                    "0": "10310",
                                    "1": "Sales Representative",
                                    "2": "17.52"
                                },
                                {
                                    "0": "10521",
                                    "1": "Sales Representative",
                                    "2": "17.22"
                                },
                                {
                                    "0": "10732",
                                    "1": "Sales Manager",
                                    "2": "16.97"
                                },
                                {
                                    "0": "10491",
                                    "1": "Sales Representative",
                                    "2": "16.96"
                                },
                                {
                                    "0": "10791",
                                    "1": "Sales Representative",
                                    "2": "16.85"
                                },
                                {
                                    "0": "10503",
                                    "1": "Sales Representative",
                                    "2": "16.74"
                                },
                                {
                                    "0": "10695",
                                    "1": "Sales Representative",
                                    "2": "16.72"
                                },
                                {
                                    "0": "10755",
                                    "1": "Sales Representative",
                                    "2": "16.71"
                                },
                                {
                                    "0": "10726",
                                    "1": "Sales Representative",
                                    "2": "16.56"
                                },
                                {
                                    "0": "10473",
                                    "1": "CEO",
                                    "2": "16.37"
                                },
                                {
                                    "0": "10596",
                                    "1": "Sales Representative",
                                    "2": "16.34"
                                },
                                {
                                    "0": "10460",
                                    "1": "Sales Representative",
                                    "2": "16.27"
                                },
                                {
                                    "0": "10970",
                                    "1": "Sales Representative",
                                    "2": "16.16"
                                },
                                {
                                    "0": "10690",
                                    "1": "CEO",
                                    "2": "15.80"
                                },
                                {
                                    "0": "11069",
                                    "1": "CEO",
                                    "2": "15.67"
                                },
                                {
                                    "0": "10339",
                                    "1": "Vice President, Sales",
                                    "2": "15.66"
                                },
                                {
                                    "0": "10535",
                                    "1": "Sales Representative",
                                    "2": "15.64"
                                },
                                {
                                    "0": "10930",
                                    "1": "Sales Representative",
                                    "2": "15.55"
                                },
                                {
                                    "0": "10336",
                                    "1": "Sales Representative",
                                    "2": "15.51"
                                },
                                {
                                    "0": "10483",
                                    "1": "Sales Representative",
                                    "2": "15.28"
                                },
                                {
                                    "0": "10973",
                                    "1": "Sales Representative",
                                    "2": "15.17"
                                },
                                {
                                    "0": "10861",
                                    "1": "Sales Representative",
                                    "2": "14.93"
                                },
                                {
                                    "0": "11003",
                                    "1": "Sales Manager",
                                    "2": "14.91"
                                },
                                {
                                    "0": "10463",
                                    "1": "Sales Manager",
                                    "2": "14.78"
                                },
                                {
                                    "0": "10446",
                                    "1": "Sales Representative",
                                    "2": "14.68"
                                },
                                {
                                    "0": "10815",
                                    "1": "Vice President, Sales",
                                    "2": "14.62"
                                },
                                {
                                    "0": "10648",
                                    "1": "Sales Manager",
                                    "2": "14.25"
                                },
                                {
                                    "0": "10982",
                                    "1": "Vice President, Sales",
                                    "2": "14.01"
                                },
                                {
                                    "0": "11061",
                                    "1": "Sales Representative",
                                    "2": "14.01"
                                },
                                {
                                    "0": "10386",
                                    "1": "Sales Representative",
                                    "2": "13.99"
                                },
                                {
                                    "0": "10256",
                                    "1": "Sales Manager",
                                    "2": "13.97"
                                },
                                {
                                    "0": "10443",
                                    "1": "Sales Representative",
                                    "2": "13.95"
                                },
                                {
                                    "0": "10276",
                                    "1": "Sales Representative",
                                    "2": "13.84"
                                },
                                {
                                    "0": "10564",
                                    "1": "Sales Representative",
                                    "2": "13.75"
                                },
                                {
                                    "0": "10579",
                                    "1": "CEO",
                                    "2": "13.73"
                                },
                                {
                                    "0": "10905",
                                    "1": "Sales Representative",
                                    "2": "13.72"
                                },
                                {
                                    "0": "10931",
                                    "1": "Sales Representative",
                                    "2": "13.60"
                                },
                                {
                                    "0": "10367",
                                    "1": "Sales Representative",
                                    "2": "13.55"
                                },
                                {
                                    "0": "10689",
                                    "1": "CEO",
                                    "2": "13.42"
                                },
                                {
                                    "0": "10585",
                                    "1": "Sales Representative",
                                    "2": "13.41"
                                },
                                {
                                    "0": "10520",
                                    "1": "Sales Representative",
                                    "2": "13.37"
                                },
                                {
                                    "0": "10837",
                                    "1": "Sales Representative",
                                    "2": "13.32"
                                },
                                {
                                    "0": "10477",
                                    "1": "Sales Manager",
                                    "2": "13.02"
                                },
                                {
                                    "0": "10974",
                                    "1": "Sales Manager",
                                    "2": "12.96"
                                },
                                {
                                    "0": "11065",
                                    "1": "Sales Representative",
                                    "2": "12.91"
                                },
                                {
                                    "0": "10287",
                                    "1": "Sales Representative",
                                    "2": "12.76"
                                },
                                {
                                    "0": "10330",
                                    "1": "Sales Manager",
                                    "2": "12.75"
                                },
                                {
                                    "0": "10317",
                                    "1": "Sales Representative",
                                    "2": "12.69"
                                },
                                {
                                    "0": "10282",
                                    "1": "Sales Representative",
                                    "2": "12.69"
                                },
                                {
                                    "0": "10401",
                                    "1": "CEO",
                                    "2": "12.51"
                                },
                                {
                                    "0": "10645",
                                    "1": "Sales Representative",
                                    "2": "12.41"
                                },
                                {
                                    "0": "10539",
                                    "1": "Sales Representative",
                                    "2": "12.36"
                                },
                                {
                                    "0": "10870",
                                    "1": "Sales Manager",
                                    "2": "12.04"
                                },
                                {
                                    "0": "10759",
                                    "1": "Sales Manager",
                                    "2": "11.99"
                                },
                                {
                                    "0": "10466",
                                    "1": "Sales Representative",
                                    "2": "11.93"
                                },
                                {
                                    "0": "10545",
                                    "1": "Sales Representative",
                                    "2": "11.92"
                                },
                                {
                                    "0": "11018",
                                    "1": "Sales Representative",
                                    "2": "11.65"
                                },
                                {
                                    "0": "10249",
                                    "1": "Sales Representative",
                                    "2": "11.61"
                                },
                                {
                                    "0": "10457",
                                    "1": "Vice President, Sales",
                                    "2": "11.57"
                                },
                                {
                                    "0": "10408",
                                    "1": "Sales Representative",
                                    "2": "11.26"
                                },
                                {
                                    "0": "10771",
                                    "1": "Sales Representative",
                                    "2": "11.19"
                                },
                                {
                                    "0": "10428",
                                    "1": "Sales Representative",
                                    "2": "11.09"
                                },
                                {
                                    "0": "10739",
                                    "1": "Sales Manager",
                                    "2": "11.08"
                                },
                                {
                                    "0": "10525",
                                    "1": "CEO",
                                    "2": "11.06"
                                },
                                {
                                    "0": "11060",
                                    "1": "Vice President, Sales",
                                    "2": "10.98"
                                },
                                {
                                    "0": "10741",
                                    "1": "Sales Representative",
                                    "2": "10.96"
                                },
                                {
                                    "0": "10542",
                                    "1": "CEO",
                                    "2": "10.95"
                                },
                                {
                                    "0": "10725",
                                    "1": "Sales Representative",
                                    "2": "10.83"
                                },
                                {
                                    "0": "10493",
                                    "1": "Sales Representative",
                                    "2": "10.64"
                                },
                                {
                                    "0": "10945",
                                    "1": "Sales Representative",
                                    "2": "10.22"
                                },
                                {
                                    "0": "10331",
                                    "1": "Sales Representative",
                                    "2": "10.19"
                                },
                                {
                                    "0": "10366",
                                    "1": "Sales Representative",
                                    "2": "10.14"
                                },
                                {
                                    "0": "10556",
                                    "1": "Vice President, Sales",
                                    "2": "9.80"
                                },
                                {
                                    "0": "10720",
                                    "1": "Sales Representative",
                                    "2": "9.53"
                                },
                                {
                                    "0": "10445",
                                    "1": "Sales Manager",
                                    "2": "9.30"
                                },
                                {
                                    "0": "10843",
                                    "1": "Sales Representative",
                                    "2": "9.26"
                                },
                                {
                                    "0": "10435",
                                    "1": "Sales Representative",
                                    "2": "9.21"
                                },
                                {
                                    "0": "10907",
                                    "1": "Sales Representative",
                                    "2": "9.19"
                                },
                                {
                                    "0": "10280",
                                    "1": "Vice President, Sales",
                                    "2": "8.98"
                                },
                                {
                                    "0": "10501",
                                    "1": "Sales Representative",
                                    "2": "8.85"
                                },
                                {
                                    "0": "10993",
                                    "1": "Sales Representative",
                                    "2": "8.81"
                                },
                                {
                                    "0": "11043",
                                    "1": "Sales Manager",
                                    "2": "8.80"
                                },
                                {
                                    "0": "11044",
                                    "1": "Sales Representative",
                                    "2": "8.72"
                                },
                                {
                                    "0": "10349",
                                    "1": "Sales Representative",
                                    "2": "8.63"
                                },
                                {
                                    "0": "10334",
                                    "1": "Sales Representative",
                                    "2": "8.56"
                                },
                                {
                                    "0": "11077",
                                    "1": "CEO",
                                    "2": "8.53"
                                },
                                {
                                    "0": "10879",
                                    "1": "Sales Manager",
                                    "2": "8.50"
                                },
                                {
                                    "0": "11049",
                                    "1": "Sales Manager",
                                    "2": "8.34"
                                },
                                {
                                    "0": "10917",
                                    "1": "Sales Representative",
                                    "2": "8.29"
                                },
                                {
                                    "0": "10438",
                                    "1": "Sales Manager",
                                    "2": "8.24"
                                },
                                {
                                    "0": "10757",
                                    "1": "Sales Representative",
                                    "2": "8.19"
                                },
                                {
                                    "0": "10456",
                                    "1": "Sales Representative",
                                    "2": "8.12"
                                },
                                {
                                    "0": "10531",
                                    "1": "Sales Representative",
                                    "2": "8.12"
                                },
                                {
                                    "0": "10613",
                                    "1": "Sales Representative",
                                    "2": "8.11"
                                },
                                {
                                    "0": "10559",
                                    "1": "Sales Representative",
                                    "2": "8.05"
                                },
                                {
                                    "0": "10381",
                                    "1": "Sales Manager",
                                    "2": "7.99"
                                },
                                {
                                    "0": "11067",
                                    "1": "CEO",
                                    "2": "7.98"
                                },
                                {
                                    "0": "10425",
                                    "1": "Sales Representative",
                                    "2": "7.93"
                                },
                                {
                                    "0": "10737",
                                    "1": "Vice President, Sales",
                                    "2": "7.79"
                                },
                                {
                                    "0": "10753",
                                    "1": "Sales Manager",
                                    "2": "7.70"
                                },
                                {
                                    "0": "10306",
                                    "1": "CEO",
                                    "2": "7.56"
                                },
                                {
                                    "0": "10482",
                                    "1": "CEO",
                                    "2": "7.48"
                                },
                                {
                                    "0": "10604",
                                    "1": "CEO",
                                    "2": "7.46"
                                },
                                {
                                    "0": "10288",
                                    "1": "Sales Representative",
                                    "2": "7.45"
                                },
                                {
                                    "0": "10583",
                                    "1": "Vice President, Sales",
                                    "2": "7.28"
                                },
                                {
                                    "0": "10450",
                                    "1": "Sales Representative",
                                    "2": "7.23"
                                },
                                {
                                    "0": "10565",
                                    "1": "Sales Representative",
                                    "2": "7.15"
                                },
                                {
                                    "0": "10652",
                                    "1": "Sales Representative",
                                    "2": "7.14"
                                },
                                {
                                    "0": "10505",
                                    "1": "Sales Manager",
                                    "2": "7.13"
                                },
                                {
                                    "0": "10826",
                                    "1": "Sales Representative",
                                    "2": "7.09"
                                },
                                {
                                    "0": "10822",
                                    "1": "Sales Representative",
                                    "2": "7.00"
                                },
                                {
                                    "0": "10484",
                                    "1": "Sales Manager",
                                    "2": "6.88"
                                },
                                {
                                    "0": "10778",
                                    "1": "Sales Manager",
                                    "2": "6.79"
                                },
                                {
                                    "0": "10568",
                                    "1": "Sales Manager",
                                    "2": "6.54"
                                },
                                {
                                    "0": "10291",
                                    "1": "Sales Representative",
                                    "2": "6.40"
                                },
                                {
                                    "0": "10302",
                                    "1": "Sales Representative",
                                    "2": "6.27"
                                },
                                {
                                    "0": "11022",
                                    "1": "Sales Representative",
                                    "2": "6.27"
                                },
                                {
                                    "0": "10649",
                                    "1": "Sales Manager",
                                    "2": "6.20"
                                },
                                {
                                    "0": "11075",
                                    "1": "Sales Representative",
                                    "2": "6.19"
                                },
                                {
                                    "0": "10462",
                                    "1": "Vice President, Sales",
                                    "2": "6.17"
                                },
                                {
                                    "0": "10274",
                                    "1": "Sales Representative",
                                    "2": "6.01"
                                },
                                {
                                    "0": "10297",
                                    "1": "Sales Manager",
                                    "2": "5.74"
                                },
                                {
                                    "0": "10885",
                                    "1": "Sales Representative",
                                    "2": "5.64"
                                },
                                {
                                    "0": "10391",
                                    "1": "Sales Manager",
                                    "2": "5.45"
                                },
                                {
                                    "0": "10378",
                                    "1": "Sales Manager",
                                    "2": "5.44"
                                },
                                {
                                    "0": "10770",
                                    "1": "Sales Representative",
                                    "2": "5.32"
                                },
                                {
                                    "0": "10489",
                                    "1": "Sales Representative",
                                    "2": "5.29"
                                },
                                {
                                    "0": "10594",
                                    "1": "Sales Manager",
                                    "2": "5.24"
                                },
                                {
                                    "0": "10508",
                                    "1": "CEO",
                                    "2": "4.99"
                                },
                                {
                                    "0": "10886",
                                    "1": "CEO",
                                    "2": "4.99"
                                },
                                {
                                    "0": "10959",
                                    "1": "Sales Representative",
                                    "2": "4.98"
                                },
                                {
                                    "0": "10710",
                                    "1": "CEO",
                                    "2": "4.98"
                                },
                                {
                                    "0": "10488",
                                    "1": "Sales Representative",
                                    "2": "4.93"
                                },
                                {
                                    "0": "10467",
                                    "1": "Sales Representative",
                                    "2": "4.93"
                                },
                                {
                                    "0": "10323",
                                    "1": "Sales Representative",
                                    "2": "4.88"
                                },
                                {
                                    "0": "10538",
                                    "1": "Sales Representative",
                                    "2": "4.87"
                                },
                                {
                                    "0": "10809",
                                    "1": "Sales Representative",
                                    "2": "4.87"
                                },
                                {
                                    "0": "10478",
                                    "1": "Vice President, Sales",
                                    "2": "4.81"
                                },
                                {
                                    "0": "10704",
                                    "1": "Sales Representative",
                                    "2": "4.78"
                                },
                                {
                                    "0": "10318",
                                    "1": "Sales Representative",
                                    "2": "4.73"
                                },
                                {
                                    "0": "10495",
                                    "1": "Sales Manager",
                                    "2": "4.65"
                                },
                                {
                                    "0": "11015",
                                    "1": "Vice President, Sales",
                                    "2": "4.62"
                                },
                                {
                                    "0": "10269",
                                    "1": "Sales Manager",
                                    "2": "4.56"
                                },
                                {
                                    "0": "10271",
                                    "1": "Sales Representative",
                                    "2": "4.54"
                                },
                                {
                                    "0": "10793",
                                    "1": "Sales Manager",
                                    "2": "4.52"
                                },
                                {
                                    "0": "10589",
                                    "1": "Sales Representative",
                                    "2": "4.42"
                                },
                                {
                                    "0": "10655",
                                    "1": "CEO",
                                    "2": "4.41"
                                },
                                {
                                    "0": "10476",
                                    "1": "Sales Representative",
                                    "2": "4.41"
                                },
                                {
                                    "0": "10683",
                                    "1": "Vice President, Sales",
                                    "2": "4.40"
                                },
                                {
                                    "0": "10432",
                                    "1": "Sales Manager",
                                    "2": "4.34"
                                },
                                {
                                    "0": "10810",
                                    "1": "Vice President, Sales",
                                    "2": "4.33"
                                },
                                {
                                    "0": "10550",
                                    "1": "Sales Representative",
                                    "2": "4.32"
                                },
                                {
                                    "0": "10992",
                                    "1": "CEO",
                                    "2": "4.27"
                                },
                                {
                                    "0": "10472",
                                    "1": "Sales Representative",
                                    "2": "4.20"
                                },
                                {
                                    "0": "11057",
                                    "1": "Sales Manager",
                                    "2": "4.13"
                                },
                                {
                                    "0": "10439",
                                    "1": "Sales Representative",
                                    "2": "4.07"
                                },
                                {
                                    "0": "10677",
                                    "1": "CEO",
                                    "2": "4.03"
                                },
                                {
                                    "0": "10374",
                                    "1": "CEO",
                                    "2": "3.94"
                                },
                                {
                                    "0": "10412",
                                    "1": "Sales Representative",
                                    "2": "3.77"
                                },
                                {
                                    "0": "10264",
                                    "1": "Sales Representative",
                                    "2": "3.67"
                                },
                                {
                                    "0": "10512",
                                    "1": "Sales Representative",
                                    "2": "3.53"
                                },
                                {
                                    "0": "10705",
                                    "1": "Sales Representative",
                                    "2": "3.52"
                                },
                                {
                                    "0": "10745",
                                    "1": "Sales Representative",
                                    "2": "3.52"
                                },
                                {
                                    "0": "10915",
                                    "1": "Vice President, Sales",
                                    "2": "3.51"
                                },
                                {
                                    "0": "10444",
                                    "1": "Sales Manager",
                                    "2": "3.50"
                                },
                                {
                                    "0": "10321",
                                    "1": "Sales Manager",
                                    "2": "3.43"
                                },
                                {
                                    "0": "10528",
                                    "1": "Sales Representative",
                                    "2": "3.35"
                                },
                                {
                                    "0": "10955",
                                    "1": "Sales Representative",
                                    "2": "3.26"
                                },
                                {
                                    "0": "10947",
                                    "1": "Sales Manager",
                                    "2": "3.26"
                                },
                                {
                                    "0": "10259",
                                    "1": "Sales Representative",
                                    "2": "3.25"
                                },
                                {
                                    "0": "11037",
                                    "1": "Sales Representative",
                                    "2": "3.20"
                                },
                                {
                                    "0": "11019",
                                    "1": "Sales Representative",
                                    "2": "3.17"
                                },
                                {
                                    "0": "10347",
                                    "1": "Sales Representative",
                                    "2": "3.10"
                                },
                                {
                                    "0": "10261",
                                    "1": "Sales Representative",
                                    "2": "3.05"
                                },
                                {
                                    "0": "10864",
                                    "1": "Sales Representative",
                                    "2": "3.04"
                                },
                                {
                                    "0": "10422",
                                    "1": "Vice President, Sales",
                                    "2": "3.02"
                                },
                                {
                                    "0": "10777",
                                    "1": "Sales Representative",
                                    "2": "3.01"
                                },
                                {
                                    "0": "10581",
                                    "1": "Sales Manager",
                                    "2": "3.01"
                                },
                                {
                                    "0": "10708",
                                    "1": "Sales Representative",
                                    "2": "2.96"
                                },
                                {
                                    "0": "10281",
                                    "1": "Sales Representative",
                                    "2": "2.94"
                                },
                                {
                                    "0": "10602",
                                    "1": "Sales Representative",
                                    "2": "2.92"
                                },
                                {
                                    "0": "10738",
                                    "1": "Vice President, Sales",
                                    "2": "2.91"
                                },
                                {
                                    "0": "10881",
                                    "1": "Sales Representative",
                                    "2": "2.84"
                                },
                                {
                                    "0": "11051",
                                    "1": "Sales Representative",
                                    "2": "2.79"
                                },
                                {
                                    "0": "10454",
                                    "1": "Sales Representative",
                                    "2": "2.74"
                                },
                                {
                                    "0": "10840",
                                    "1": "Sales Representative",
                                    "2": "2.71"
                                },
                                {
                                    "0": "10963",
                                    "1": "Sales Representative",
                                    "2": "2.70"
                                },
                                {
                                    "0": "10950",
                                    "1": "CEO",
                                    "2": "2.50"
                                },
                                {
                                    "0": "10410",
                                    "1": "Sales Manager",
                                    "2": "2.40"
                                },
                                {
                                    "0": "10754",
                                    "1": "Sales Representative",
                                    "2": "2.38"
                                },
                                {
                                    "0": "10798",
                                    "1": "Vice President, Sales",
                                    "2": "2.33"
                                },
                                {
                                    "0": "10925",
                                    "1": "Sales Manager",
                                    "2": "2.27"
                                },
                                {
                                    "0": "10943",
                                    "1": "Sales Representative",
                                    "2": "2.17"
                                },
                                {
                                    "0": "10960",
                                    "1": "Sales Manager",
                                    "2": "2.08"
                                },
                                {
                                    "0": "10676",
                                    "1": "Vice President, Sales",
                                    "2": "2.01"
                                },
                                {
                                    "0": "10313",
                                    "1": "Vice President, Sales",
                                    "2": "1.96"
                                },
                                {
                                    "0": "10614",
                                    "1": "Sales Representative",
                                    "2": "1.93"
                                },
                                {
                                    "0": "10867",
                                    "1": "Sales Representative",
                                    "2": "1.93"
                                },
                                {
                                    "0": "10609",
                                    "1": "Sales Representative",
                                    "2": "1.85"
                                },
                                {
                                    "0": "10900",
                                    "1": "CEO",
                                    "2": "1.66"
                                },
                                {
                                    "0": "10734",
                                    "1": "Vice President, Sales",
                                    "2": "1.63"
                                },
                                {
                                    "0": "10308",
                                    "1": "Sales Representative",
                                    "2": "1.61"
                                },
                                {
                                    "0": "10767",
                                    "1": "Sales Representative",
                                    "2": "1.59"
                                },
                                {
                                    "0": "10785",
                                    "1": "CEO",
                                    "2": "1.51"
                                },
                                {
                                    "0": "10548",
                                    "1": "Sales Manager",
                                    "2": "1.43"
                                },
                                {
                                    "0": "10752",
                                    "1": "Vice President, Sales",
                                    "2": "1.39"
                                },
                                {
                                    "0": "10807",
                                    "1": "Sales Representative",
                                    "2": "1.36"
                                },
                                {
                                    "0": "10928",
                                    "1": "CEO",
                                    "2": "1.36"
                                },
                                {
                                    "0": "10292",
                                    "1": "CEO",
                                    "2": "1.35"
                                },
                                {
                                    "0": "10480",
                                    "1": "Sales Representative",
                                    "2": "1.35"
                                },
                                {
                                    "0": "10352",
                                    "1": "Sales Manager",
                                    "2": "1.30"
                                },
                                {
                                    "0": "10662",
                                    "1": "Sales Manager",
                                    "2": "1.28"
                                },
                                {
                                    "0": "10664",
                                    "1": "CEO",
                                    "2": "1.27"
                                },
                                {
                                    "0": "10898",
                                    "1": "Sales Representative",
                                    "2": "1.27"
                                },
                                {
                                    "0": "10980",
                                    "1": "Sales Representative",
                                    "2": "1.26"
                                },
                                {
                                    "0": "10887",
                                    "1": "Sales Representative",
                                    "2": "1.25"
                                },
                                {
                                    "0": "10824",
                                    "1": "Sales Representative",
                                    "2": "1.23"
                                },
                                {
                                    "0": "10899",
                                    "1": "Sales Manager",
                                    "2": "1.21"
                                },
                                {
                                    "0": "11011",
                                    "1": "Sales Manager",
                                    "2": "1.21"
                                },
                                {
                                    "0": "10370",
                                    "1": "Sales Representative",
                                    "2": "1.17"
                                },
                                {
                                    "0": "10295",
                                    "1": "Vice President, Sales",
                                    "2": "1.15"
                                },
                                {
                                    "0": "10636",
                                    "1": "Sales Representative",
                                    "2": "1.15"
                                },
                                {
                                    "0": "10996",
                                    "1": "Sales Representative",
                                    "2": "1.12"
                                },
                                {
                                    "0": "10782",
                                    "1": "Sales Representative",
                                    "2": "1.10"
                                },
                                {
                                    "0": "10620",
                                    "1": "Vice President, Sales",
                                    "2": "0.94"
                                },
                                {
                                    "0": "11071",
                                    "1": "CEO",
                                    "2": "0.93"
                                },
                                {
                                    "0": "10674",
                                    "1": "Sales Representative",
                                    "2": "0.90"
                                },
                                {
                                    "0": "10631",
                                    "1": "Sales Representative",
                                    "2": "0.87"
                                },
                                {
                                    "0": "10873",
                                    "1": "Sales Representative",
                                    "2": "0.82"
                                },
                                {
                                    "0": "10348",
                                    "1": "Sales Representative",
                                    "2": "0.78"
                                },
                                {
                                    "0": "10615",
                                    "1": "Vice President, Sales",
                                    "2": "0.75"
                                },
                                {
                                    "0": "11005",
                                    "1": "Vice President, Sales",
                                    "2": "0.75"
                                },
                                {
                                    "0": "10333",
                                    "1": "Sales Manager",
                                    "2": "0.59"
                                },
                                {
                                    "0": "10699",
                                    "1": "Sales Manager",
                                    "2": "0.58"
                                },
                                {
                                    "0": "10307",
                                    "1": "Vice President, Sales",
                                    "2": "0.56"
                                },
                                {
                                    "0": "10849",
                                    "1": "Sales Representative",
                                    "2": "0.56"
                                },
                                {
                                    "0": "10883",
                                    "1": "Sales Representative",
                                    "2": "0.53"
                                },
                                {
                                    "0": "10586",
                                    "1": "Sales Representative",
                                    "2": "0.48"
                                },
                                {
                                    "0": "10371",
                                    "1": "CEO",
                                    "2": "0.45"
                                },
                                {
                                    "0": "10322",
                                    "1": "Sales Representative",
                                    "2": "0.40"
                                },
                                {
                                    "0": "11054",
                                    "1": "Sales Representative",
                                    "2": "0.33"
                                },
                                {
                                    "0": "10969",
                                    "1": "CEO",
                                    "2": "0.21"
                                },
                                {
                                    "0": "10415",
                                    "1": "Sales Manager",
                                    "2": "0.20"
                                },
                                {
                                    "0": "11035",
                                    "1": "Vice President, Sales",
                                    "2": "0.17"
                                },
                                {
                                    "0": "10509",
                                    "1": "Sales Representative",
                                    "2": "0.15"
                                },
                                {
                                    "0": "10644",
                                    "1": "Sales Manager",
                                    "2": "0.14"
                                },
                                {
                                    "0": "10296",
                                    "1": "Sales Representative",
                                    "2": "0.12"
                                },
                                {
                                    "0": "10972",
                                    "1": "Sales Representative",
                                    "2": "0.02"
                                }
                            ]
                        },
                        "text/html": "<table><tr><th>orderid</th><th>title</th><th>freight</th></tr><tr><td>10540</td><td>Sales Manager</td><td>1007.64</td></tr><tr><td>10372</td><td>Sales Manager</td><td>890.78</td></tr><tr><td>11030</td><td>Sales Representative</td><td>830.75</td></tr><tr><td>10691</td><td>Vice President, Sales</td><td>810.05</td></tr><tr><td>10514</td><td>Sales Manager</td><td>789.95</td></tr><tr><td>11017</td><td>Sales Representative</td><td>754.26</td></tr><tr><td>10816</td><td>Sales Representative</td><td>719.78</td></tr><tr><td>10479</td><td>Sales Manager</td><td>708.95</td></tr><tr><td>10983</td><td>Vice President, Sales</td><td>657.54</td></tr><tr><td>11032</td><td>Vice President, Sales</td><td>606.19</td></tr><tr><td>10897</td><td>Sales Manager</td><td>603.54</td></tr><tr><td>10912</td><td>Vice President, Sales</td><td>580.91</td></tr><tr><td>10612</td><td>CEO</td><td>544.08</td></tr><tr><td>10847</td><td>Sales Representative</td><td>487.57</td></tr><tr><td>10634</td><td>Sales Representative</td><td>487.38</td></tr><tr><td>10633</td><td>Sales Representative</td><td>477.90</td></tr><tr><td>10430</td><td>Sales Representative</td><td>458.78</td></tr><tr><td>10841</td><td>Sales Manager</td><td>424.30</td></tr><tr><td>10836</td><td>Sales Representative</td><td>411.88</td></tr><tr><td>10941</td><td>Sales Representative</td><td>400.81</td></tr><tr><td>10694</td><td>Sales Representative</td><td>398.36</td></tr><tr><td>10678</td><td>Sales Representative</td><td>388.98</td></tr><tr><td>10605</td><td>CEO</td><td>379.13</td></tr><tr><td>10424</td><td>Sales Representative</td><td>370.61</td></tr><tr><td>10510</td><td>Sales Representative</td><td>367.63</td></tr><tr><td>10658</td><td>Sales Representative</td><td>364.15</td></tr><tr><td>10353</td><td>Sales Representative</td><td>360.63</td></tr><tr><td>10979</td><td>Sales Representative</td><td>353.07</td></tr><tr><td>10657</td><td>Vice President, Sales</td><td>352.69</td></tr><tr><td>10776</td><td>CEO</td><td>351.53</td></tr><tr><td>10511</td><td>Sales Representative</td><td>350.64</td></tr><tr><td>10865</td><td>Vice President, Sales</td><td>348.14</td></tr><tr><td>10530</td><td>Sales Manager</td><td>339.22</td></tr><tr><td>10762</td><td>Sales Manager</td><td>328.74</td></tr><tr><td>10817</td><td>Sales Manager</td><td>306.07</td></tr><tr><td>10688</td><td>Sales Representative</td><td>299.09</td></tr><tr><td>11021</td><td>Sales Manager</td><td>297.18</td></tr><tr><td>10687</td><td>Sales Representative</td><td>296.43</td></tr><tr><td>10359</td><td>Sales Manager</td><td>288.43</td></tr><tr><td>10889</td><td>Sales Representative</td><td>280.61</td></tr><tr><td>11056</td><td>Sales Representative</td><td>278.96</td></tr><tr><td>10962</td><td>Sales Representative</td><td>275.79</td></tr><tr><td>10698</td><td>Sales Representative</td><td>272.47</td></tr><tr><td>11072</td><td>Sales Representative</td><td>258.64</td></tr><tr><td>10305</td><td>Sales Representative</td><td>257.62</td></tr><tr><td>10802</td><td>Sales Representative</td><td>257.26</td></tr><tr><td>10555</td><td>Sales Representative</td><td>252.49</td></tr><tr><td>10787</td><td>Vice President, Sales</td><td>249.93</td></tr><tr><td>10345</td><td>Vice President, Sales</td><td>249.06</td></tr><tr><td>10524</td><td>CEO</td><td>244.79</td></tr><tr><td>10742</td><td>Sales Manager</td><td>243.73</td></tr><tr><td>11012</td><td>CEO</td><td>242.95</td></tr><tr><td>10561</td><td>Vice President, Sales</td><td>242.21</td></tr><tr><td>10805</td><td>Vice President, Sales</td><td>237.34</td></tr><tr><td>10748</td><td>Sales Manager</td><td>232.55</td></tr><tr><td>10666</td><td>Sales Representative</td><td>232.42</td></tr><tr><td>10286</td><td>Sales Representative</td><td>229.24</td></tr><tr><td>11031</td><td>Sales Representative</td><td>227.22</td></tr><tr><td>10701</td><td>Sales Representative</td><td>220.31</td></tr><tr><td>10518</td><td>Sales Representative</td><td>218.15</td></tr><tr><td>10986</td><td>Sales Representative</td><td>217.86</td></tr><tr><td>10324</td><td>Sales Representative</td><td>214.27</td></tr><tr><td>10845</td><td>Sales Representative</td><td>212.98</td></tr><tr><td>10984</td><td>CEO</td><td>211.22</td></tr><tr><td>10709</td><td>CEO</td><td>210.80</td></tr><tr><td>10490</td><td>Sales Representative</td><td>210.19</td></tr><tr><td>10267</td><td>Sales Representative</td><td>208.58</td></tr><tr><td>10977</td><td>Sales Representative</td><td>208.50</td></tr><tr><td>10515</td><td>Vice President, Sales</td><td>204.47</td></tr><tr><td>10670</td><td>Sales Representative</td><td>203.48</td></tr><tr><td>11007</td><td>Sales Representative</td><td>202.24</td></tr><tr><td>10637</td><td>Sales Representative</td><td>201.29</td></tr><tr><td>10607</td><td>Sales Manager</td><td>200.24</td></tr><tr><td>11001</td><td>Vice President, Sales</td><td>197.30</td></tr><tr><td>10369</td><td>Sales Representative</td><td>195.68</td></tr><tr><td>10546</td><td>CEO</td><td>194.72</td></tr><tr><td>10588</td><td>Vice President, Sales</td><td>194.67</td></tr><tr><td>10981</td><td>CEO</td><td>193.37</td></tr><tr><td>10329</td><td>Sales Representative</td><td>191.67</td></tr><tr><td>10868</td><td>Sales Representative</td><td>191.27</td></tr><tr><td>10451</td><td>Sales Representative</td><td>189.09</td></tr><tr><td>10570</td><td>Sales Manager</td><td>188.99</td></tr><tr><td>10857</td><td>Sales Representative</td><td>188.85</td></tr><tr><td>10533</td><td>Sales Representative</td><td>188.04</td></tr><tr><td>10987</td><td>Sales Representative</td><td>185.48</td></tr><tr><td>10395</td><td>Sales Representative</td><td>184.41</td></tr><tr><td>10361</td><td>CEO</td><td>183.17</td></tr><tr><td>10455</td><td>Sales Representative</td><td>180.45</td></tr><tr><td>10641</td><td>Sales Representative</td><td>179.61</td></tr><tr><td>10547</td><td>Sales Manager</td><td>178.43</td></tr><tr><td>10650</td><td>Sales Manager</td><td>176.81</td></tr><tr><td>10921</td><td>CEO</td><td>176.48</td></tr><tr><td>10872</td><td>Sales Manager</td><td>175.32</td></tr><tr><td>10593</td><td>Sales Representative</td><td>174.20</td></tr><tr><td>10852</td><td>Sales Representative</td><td>174.05</td></tr><tr><td>10549</td><td>Sales Manager</td><td>171.24</td></tr><tr><td>10855</td><td>Sales Manager</td><td>170.97</td></tr><tr><td>10718</td><td>CEO</td><td>170.88</td></tr><tr><td>10384</td><td>Sales Manager</td><td>168.64</td></tr><tr><td>10298</td><td>Sales Representative</td><td>168.22</td></tr><tr><td>10713</td><td>CEO</td><td>167.05</td></tr><tr><td>10340</td><td>CEO</td><td>166.31</td></tr><tr><td>10823</td><td>Sales Manager</td><td>163.97</td></tr><tr><td>10904</td><td>Sales Manager</td><td>162.95</td></tr><tr><td>10895</td><td>Sales Manager</td><td>162.75</td></tr><tr><td>10351</td><td>CEO</td><td>162.33</td></tr><tr><td>10851</td><td>Sales Manager</td><td>160.55</td></tr><tr><td>10638</td><td>Sales Manager</td><td>158.44</td></tr><tr><td>10766</td><td>Sales Representative</td><td>157.55</td></tr><tr><td>10436</td><td>Sales Manager</td><td>156.66</td></tr><tr><td>10404</td><td>Vice President, Sales</td><td>155.97</td></tr><tr><td>10760</td><td>Sales Representative</td><td>155.64</td></tr><tr><td>10829</td><td>Sales Representative</td><td>154.72</td></tr><tr><td>10618</td><td>CEO</td><td>154.68</td></tr><tr><td>10703</td><td>Sales Representative</td><td>152.30</td></tr><tr><td>10924</td><td>Sales Manager</td><td>151.52</td></tr><tr><td>10316</td><td>CEO</td><td>150.15</td></tr><tr><td>10553</td><td>Vice President, Sales</td><td>149.49</td></tr><tr><td>11036</td><td>Sales Representative</td><td>149.47</td></tr><tr><td>10461</td><td>CEO</td><td>148.61</td></tr><tr><td>10255</td><td>Sales Representative</td><td>148.33</td></tr><tr><td>10294</td><td>Sales Representative</td><td>147.26</td></tr><tr><td>10458</td><td>Sales Representative</td><td>147.06</td></tr><tr><td>10768</td><td>Sales Manager</td><td>146.32</td></tr><tr><td>10263</td><td>Sales Representative</td><td>146.06</td></tr><tr><td>10684</td><td>Sales Manager</td><td>145.63</td></tr><tr><td>10764</td><td>Sales Representative</td><td>145.45</td></tr><tr><td>10465</td><td>CEO</td><td>145.04</td></tr><tr><td>10965</td><td>Sales Representative</td><td>144.38</td></tr><tr><td>10869</td><td>Sales Manager</td><td>143.28</td></tr><tr><td>10646</td><td>Sales Representative</td><td>142.33</td></tr><tr><td>10346</td><td>Sales Manager</td><td>142.08</td></tr><tr><td>11002</td><td>Sales Representative</td><td>141.16</td></tr><tr><td>10729</td><td>Sales Representative</td><td>141.06</td></tr><tr><td>10258</td><td>CEO</td><td>140.51</td></tr><tr><td>10452</td><td>Sales Representative</td><td>140.26</td></tr><tr><td>10693</td><td>Sales Manager</td><td>139.34</td></tr><tr><td>10626</td><td>CEO</td><td>138.69</td></tr><tr><td>10758</td><td>Sales Manager</td><td>138.17</td></tr><tr><td>10800</td><td>CEO</td><td>137.44</td></tr><tr><td>10419</td><td>Sales Representative</td><td>137.35</td></tr><tr><td>10270</td><td>CEO</td><td>136.54</td></tr><tr><td>11070</td><td>Vice President, Sales</td><td>136.00</td></tr><tr><td>10706</td><td>Sales Representative</td><td>135.63</td></tr><tr><td>10396</td><td>CEO</td><td>135.35</td></tr><tr><td>10932</td><td>Sales Representative</td><td>134.64</td></tr><tr><td>10360</td><td>Sales Representative</td><td>131.70</td></tr><tr><td>10814</td><td>Sales Manager</td><td>130.94</td></tr><tr><td>10751</td><td>Sales Manager</td><td>130.79</td></tr><tr><td>10575</td><td>Sales Manager</td><td>127.34</td></tr><tr><td>10795</td><td>Sales Representative</td><td>126.66</td></tr><tr><td>10393</td><td>CEO</td><td>126.56</td></tr><tr><td>10390</td><td>Sales Representative</td><td>126.38</td></tr><tr><td>10277</td><td>Vice President, Sales</td><td>125.77</td></tr><tr><td>10783</td><td>Sales Representative</td><td>124.98</td></tr><tr><td>10373</td><td>Sales Representative</td><td>124.12</td></tr><tr><td>11023</td><td>CEO</td><td>123.83</td></tr><tr><td>10392</td><td>Vice President, Sales</td><td>122.46</td></tr><tr><td>10971</td><td>Vice President, Sales</td><td>121.82</td></tr><tr><td>10554</td><td>Sales Representative</td><td>120.97</td></tr><tr><td>11055</td><td>Sales Representative</td><td>120.92</td></tr><tr><td>10892</td><td>Sales Representative</td><td>120.27</td></tr><tr><td>10990</td><td>Vice President, Sales</td><td>117.61</td></tr><tr><td>10747</td><td>Sales Representative</td><td>117.33</td></tr><tr><td>10616</td><td>CEO</td><td>116.53</td></tr><tr><td>10572</td><td>Sales Manager</td><td>116.43</td></tr><tr><td>10894</td><td>CEO</td><td>116.13</td></tr><tr><td>10663</td><td>Vice President, Sales</td><td>113.15</td></tr><tr><td>10871</td><td>Sales Representative</td><td>112.27</td></tr><tr><td>10660</td><td>Sales Representative</td><td>111.29</td></tr><tr><td>10786</td><td>Sales Representative</td><td>110.87</td></tr><tr><td>10343</td><td>Sales Representative</td><td>110.37</td></tr><tr><td>10733</td><td>CEO</td><td>110.11</td></tr><tr><td>10866</td><td>Sales Manager</td><td>109.11</td></tr><tr><td>10337</td><td>Sales Representative</td><td>108.26</td></tr><tr><td>10406</td><td>Sales Representative</td><td>108.04</td></tr><tr><td>10303</td><td>Sales Representative</td><td>107.83</td></tr><tr><td>10627</td><td>Sales Representative</td><td>107.46</td></tr><tr><td>10659</td><td>Sales Representative</td><td>105.81</td></tr><tr><td>10513</td><td>Sales Representative</td><td>105.65</td></tr><tr><td>10957</td><td>Sales Representative</td><td>105.36</td></tr><tr><td>10961</td><td>Sales Representative</td><td>104.47</td></tr><tr><td>10696</td><td>Sales Representative</td><td>102.55</td></tr><tr><td>10499</td><td>Sales Representative</td><td>102.02</td></tr><tr><td>10368</td><td>Vice President, Sales</td><td>101.95</td></tr><tr><td>10789</td><td>CEO</td><td>100.60</td></tr><tr><td>10854</td><td>Sales Manager</td><td>100.22</td></tr><tr><td>10421</td><td>Sales Representative</td><td>99.23</td></tr><tr><td>10272</td><td>Sales Representative</td><td>98.03</td></tr><tr><td>10623</td><td>Sales Representative</td><td>97.18</td></tr><tr><td>10801</td><td>Sales Representative</td><td>97.09</td></tr><tr><td>10595</td><td>Vice President, Sales</td><td>96.78</td></tr><tr><td>10557</td><td>Sales Representative</td><td>96.72</td></tr><tr><td>10731</td><td>Sales Representative</td><td>96.65</td></tr><tr><td>10686</td><td>Vice President, Sales</td><td>96.50</td></tr><tr><td>10773</td><td>CEO</td><td>96.43</td></tr><tr><td>10999</td><td>Sales Representative</td><td>96.35</td></tr><tr><td>10362</td><td>Sales Manager</td><td>96.04</td></tr><tr><td>10672</td><td>Sales Representative</td><td>95.75</td></tr><tr><td>10413</td><td>Sales Manager</td><td>95.66</td></tr><tr><td>10624</td><td>Sales Representative</td><td>94.80</td></tr><tr><td>10382</td><td>Sales Representative</td><td>94.77</td></tr><tr><td>10387</td><td>CEO</td><td>93.63</td></tr><tr><td>10653</td><td>CEO</td><td>93.25</td></tr><tr><td>10278</td><td>Sales Representative</td><td>92.69</td></tr><tr><td>10519</td><td>Sales Representative</td><td>91.76</td></tr><tr><td>10985</td><td>Vice President, Sales</td><td>91.51</td></tr><tr><td>10407</td><td>Vice President, Sales</td><td>91.48</td></tr><tr><td>10772</td><td>Sales Manager</td><td>91.28</td></tr><tr><td>10619</td><td>Sales Manager</td><td>91.05</td></tr><tr><td>10884</td><td>Sales Representative</td><td>90.97</td></tr><tr><td>10828</td><td>Sales Representative</td><td>90.85</td></tr><tr><td>10712</td><td>Sales Manager</td><td>89.93</td></tr><tr><td>10727</td><td>Vice President, Sales</td><td>89.90</td></tr><tr><td>10398</td><td>Vice President, Sales</td><td>89.16</td></tr><tr><td>10464</td><td>Sales Representative</td><td>89.00</td></tr><tr><td>10566</td><td>Sales Representative</td><td>88.40</td></tr><tr><td>10880</td><td>Sales Representative</td><td>88.01</td></tr><tr><td>10964</td><td>Sales Manager</td><td>87.38</td></tr><tr><td>10328</td><td>Sales Representative</td><td>87.03</td></tr><tr><td>10440</td><td>Sales Representative</td><td>86.53</td></tr><tr><td>11059</td><td>Vice President, Sales</td><td>85.80</td></tr><tr><td>10629</td><td>Sales Representative</td><td>85.46</td></tr><tr><td>10573</td><td>Sales Representative</td><td>84.84</td></tr><tr><td>10283</td><td>Sales Manager</td><td>84.81</td></tr><tr><td>11033</td><td>Sales Representative</td><td>84.74</td></tr><tr><td>10338</td><td>Sales Representative</td><td>84.21</td></tr><tr><td>10400</td><td>CEO</td><td>83.93</td></tr><tr><td>10474</td><td>Sales Manager</td><td>83.49</td></tr><tr><td>10552</td><td>Vice President, Sales</td><td>83.22</td></tr><tr><td>10257</td><td>Sales Representative</td><td>81.91</td></tr><tr><td>10740</td><td>Sales Representative</td><td>81.88</td></tr><tr><td>10830</td><td>Sales Representative</td><td>81.83</td></tr><tr><td>11068</td><td>Sales Representative</td><td>81.75</td></tr><tr><td>11063</td><td>Sales Manager</td><td>81.73</td></tr><tr><td>10611</td><td>Sales Representative</td><td>80.65</td></tr><tr><td>10290</td><td>Sales Representative</td><td>79.70</td></tr><tr><td>11008</td><td>Sales Representative</td><td>79.46</td></tr><tr><td>10606</td><td>Sales Representative</td><td>79.40</td></tr><tr><td>10750</td><td>Sales Representative</td><td>79.30</td></tr><tr><td>10825</td><td>CEO</td><td>79.25</td></tr><tr><td>10537</td><td>CEO</td><td>78.85</td></tr><tr><td>10667</td><td>Sales Representative</td><td>78.09</td></tr><tr><td>10326</td><td>Sales Representative</td><td>77.92</td></tr><tr><td>10893</td><td>Sales Representative</td><td>77.78</td></tr><tr><td>10523</td><td>Sales Representative</td><td>77.63</td></tr><tr><td>10285</td><td>CEO</td><td>76.83</td></tr><tr><td>10284</td><td>Sales Representative</td><td>76.56</td></tr><tr><td>10939</td><td>Vice President, Sales</td><td>76.33</td></tr><tr><td>10681</td><td>Sales Manager</td><td>76.13</td></tr><tr><td>10859</td><td>CEO</td><td>76.10</td></tr><tr><td>10273</td><td>Sales Manager</td><td>76.07</td></tr><tr><td>10580</td><td>Sales Representative</td><td>75.89</td></tr><tr><td>10968</td><td>CEO</td><td>74.60</td></tr><tr><td>10722</td><td>Sales Representative</td><td>74.58</td></tr><tr><td>10532</td><td>Sales Representative</td><td>74.46</td></tr><tr><td>10949</td><td>Vice President, Sales</td><td>74.44</td></tr><tr><td>11024</td><td>Sales Representative</td><td>74.36</td></tr><tr><td>10314</td><td>CEO</td><td>74.16</td></tr><tr><td>10997</td><td>Sales Representative</td><td>73.91</td></tr><tr><td>10433</td><td>Sales Manager</td><td>73.83</td></tr><tr><td>10403</td><td>Sales Representative</td><td>73.79</td></tr><tr><td>10756</td><td>Sales Representative</td><td>73.21</td></tr><tr><td>10781</td><td>Vice President, Sales</td><td>73.16</td></tr><tr><td>10441</td><td>Sales Manager</td><td>73.02</td></tr><tr><td>10558</td><td>CEO</td><td>72.97</td></tr><tr><td>10551</td><td>Sales Representative</td><td>72.95</td></tr><tr><td>10831</td><td>Sales Manager</td><td>72.19</td></tr><tr><td>10364</td><td>CEO</td><td>71.97</td></tr><tr><td>11046</td><td>Sales Representative</td><td>71.64</td></tr><tr><td>10833</td><td>Sales Representative</td><td>71.49</td></tr><tr><td>10487</td><td>Vice President, Sales</td><td>71.07</td></tr><tr><td>11045</td><td>Sales Representative</td><td>70.58</td></tr><tr><td>10417</td><td>Sales Representative</td><td>70.29</td></tr><tr><td>10784</td><td>Sales Representative</td><td>70.09</td></tr><tr><td>10835</td><td>CEO</td><td>69.53</td></tr><tr><td>10502</td><td>Vice President, Sales</td><td>69.32</td></tr><tr><td>10744</td><td>Sales Representative</td><td>69.19</td></tr><tr><td>10447</td><td>Sales Representative</td><td>68.66</td></tr><tr><td>10541</td><td>Vice President, Sales</td><td>68.65</td></tr><tr><td>10475</td><td>Sales Representative</td><td>68.52</td></tr><tr><td>10923</td><td>Sales Representative</td><td>68.26</td></tr><tr><td>10402</td><td>Sales Representative</td><td>67.88</td></tr><tr><td>11052</td><td>Sales Manager</td><td>67.26</td></tr><tr><td>10529</td><td>Sales Manager</td><td>66.69</td></tr><tr><td>10268</td><td>Sales Representative</td><td>66.29</td></tr><tr><td>10494</td><td>Sales Representative</td><td>65.99</td></tr><tr><td>10250</td><td>Sales Representative</td><td>65.83</td></tr><tr><td>10994</td><td>Vice President, Sales</td><td>65.53</td></tr><tr><td>10818</td><td>Sales Representative</td><td>65.48</td></tr><tr><td>10700</td><td>Sales Manager</td><td>65.10</td></tr><tr><td>10769</td><td>Sales Manager</td><td>65.06</td></tr><tr><td>11039</td><td>CEO</td><td>65.00</td></tr><tr><td>10325</td><td>CEO</td><td>64.86</td></tr><tr><td>10470</td><td>Sales Representative</td><td>64.56</td></tr><tr><td>10319</td><td>Sales Representative</td><td>64.50</td></tr><tr><td>10485</td><td>Sales Representative</td><td>64.45</td></tr><tr><td>10481</td><td>Sales Representative</td><td>64.33</td></tr><tr><td>10350</td><td>Sales Representative</td><td>64.19</td></tr><tr><td>10304</td><td>CEO</td><td>63.79</td></tr><tr><td>10916</td><td>CEO</td><td>63.77</td></tr><tr><td>10827</td><td>CEO</td><td>63.54</td></tr><tr><td>10327</td><td>Vice President, Sales</td><td>63.36</td></tr><tr><td>10715</td><td>Sales Manager</td><td>63.20</td></tr><tr><td>10492</td><td>Sales Manager</td><td>62.89</td></tr><tr><td>10516</td><td>Vice President, Sales</td><td>62.78</td></tr><tr><td>10922</td><td>Sales Manager</td><td>62.74</td></tr><tr><td>10587</td><td>CEO</td><td>62.52</td></tr><tr><td>10967</td><td>Vice President, Sales</td><td>62.22</td></tr><tr><td>10901</td><td>Sales Representative</td><td>62.09</td></tr><tr><td>10749</td><td>Sales Representative</td><td>61.53</td></tr><tr><td>10988</td><td>Sales Manager</td><td>61.14</td></tr><tr><td>10692</td><td>Sales Representative</td><td>61.02</td></tr><tr><td>10563</td><td>Vice President, Sales</td><td>60.43</td></tr><tr><td>10876</td><td>Sales Representative</td><td>60.42</td></tr><tr><td>10397</td><td>Sales Manager</td><td>60.26</td></tr><tr><td>10469</td><td>CEO</td><td>60.18</td></tr><tr><td>10812</td><td>Sales Manager</td><td>59.78</td></tr><tr><td>11050</td><td>Sales Representative</td><td>59.41</td></tr><tr><td>10838</td><td>Sales Manager</td><td>59.28</td></tr><tr><td>10717</td><td>CEO</td><td>59.25</td></tr><tr><td>10584</td><td>Sales Representative</td><td>59.14</td></tr><tr><td>10504</td><td>Sales Representative</td><td>59.13</td></tr><tr><td>11009</td><td>Vice President, Sales</td><td>59.11</td></tr><tr><td>10569</td><td>Sales Manager</td><td>58.98</td></tr><tr><td>10536</td><td>Sales Manager</td><td>58.88</td></tr><tr><td>10526</td><td>Sales Representative</td><td>58.59</td></tr><tr><td>10856</td><td>Sales Manager</td><td>58.43</td></tr><tr><td>10728</td><td>Sales Representative</td><td>58.33</td></tr><tr><td>10601</td><td>Sales Representative</td><td>58.30</td></tr><tr><td>10253</td><td>Sales Manager</td><td>58.17</td></tr><tr><td>10779</td><td>Sales Manager</td><td>58.13</td></tr><tr><td>10724</td><td>Sales Representative</td><td>57.75</td></tr><tr><td>10656</td><td>Sales Representative</td><td>57.15</td></tr><tr><td>10429</td><td>Sales Manager</td><td>56.63</td></tr><tr><td>10846</td><td>Vice President, Sales</td><td>56.46</td></tr><tr><td>10591</td><td>CEO</td><td>55.92</td></tr><tr><td>10265</td><td>Vice President, Sales</td><td>55.28</td></tr><tr><td>10654</td><td>Sales Manager</td><td>55.26</td></tr><tr><td>10803</td><td>Sales Representative</td><td>55.23</td></tr><tr><td>11000</td><td>Vice President, Sales</td><td>55.12</td></tr><tr><td>10260</td><td>Sales Representative</td><td>55.09</td></tr><tr><td>10342</td><td>Sales Representative</td><td>54.83</td></tr><tr><td>10842</td><td>CEO</td><td>54.42</td></tr><tr><td>10933</td><td>Sales Representative</td><td>54.15</td></tr><tr><td>10853</td><td>Sales Representative</td><td>53.83</td></tr><tr><td>10354</td><td>Sales Representative</td><td>53.80</td></tr><tr><td>10449</td><td>Sales Manager</td><td>53.30</td></tr><tr><td>10862</td><td>Sales Representative</td><td>53.23</td></tr><tr><td>10909</td><td>CEO</td><td>53.05</td></tr><tr><td>11053</td><td>Vice President, Sales</td><td>53.05</td></tr><tr><td>10944</td><td>Sales Representative</td><td>52.92</td></tr><tr><td>10332</td><td>Sales Manager</td><td>52.84</td></tr><tr><td>11027</td><td>CEO</td><td>52.52</td></tr><tr><td>10858</td><td>Vice President, Sales</td><td>52.51</td></tr><tr><td>10711</td><td>Sales Manager</td><td>52.41</td></tr><tr><td>10888</td><td>CEO</td><td>51.87</td></tr><tr><td>10719</td><td>Sales Representative</td><td>51.44</td></tr><tr><td>10252</td><td>Sales Representative</td><td>51.30</td></tr><tr><td>10622</td><td>Sales Representative</td><td>50.97</td></tr><tr><td>10958</td><td>Sales Representative</td><td>49.56</td></tr><tr><td>10850</td><td>CEO</td><td>49.19</td></tr><tr><td>10721</td><td>Sales Manager</td><td>48.92</td></tr><tr><td>10918</td><td>Sales Manager</td><td>48.83</td></tr><tr><td>10603</td><td>Sales Representative</td><td>48.77</td></tr><tr><td>10262</td><td>Sales Representative</td><td>48.29</td></tr><tr><td>11041</td><td>Sales Manager</td><td>48.22</td></tr><tr><td>10774</td><td>Sales Representative</td><td>48.20</td></tr><tr><td>10543</td><td>Sales Representative</td><td>48.17</td></tr><tr><td>10442</td><td>Sales Manager</td><td>47.94</td></tr><tr><td>11029</td><td>Sales Representative</td><td>47.84</td></tr><tr><td>10935</td><td>Sales Representative</td><td>47.59</td></tr><tr><td>10635</td><td>Sales Representative</td><td>47.46</td></tr><tr><td>10507</td><td>Sales Representative</td><td>47.45</td></tr><tr><td>10389</td><td>Sales Representative</td><td>47.42</td></tr><tr><td>10813</td><td>CEO</td><td>47.38</td></tr><tr><td>10309</td><td>Sales Manager</td><td>47.30</td></tr><tr><td>10668</td><td>CEO</td><td>47.22</td></tr><tr><td>11026</td><td>Sales Representative</td><td>47.09</td></tr><tr><td>10496</td><td>Sales Representative</td><td>46.77</td></tr><tr><td>10878</td><td>Sales Representative</td><td>46.69</td></tr><tr><td>11047</td><td>Sales Representative</td><td>46.62</td></tr><tr><td>10995</td><td>CEO</td><td>46.00</td></tr><tr><td>10735</td><td>Sales Representative</td><td>45.97</td></tr><tr><td>10471</td><td>Vice President, Sales</td><td>45.59</td></tr><tr><td>10647</td><td>Sales Representative</td><td>45.54</td></tr><tr><td>10808</td><td>Vice President, Sales</td><td>45.53</td></tr><tr><td>10697</td><td>Sales Manager</td><td>45.52</td></tr><tr><td>10522</td><td>Sales Representative</td><td>45.33</td></tr><tr><td>10600</td><td>Sales Representative</td><td>45.13</td></tr><tr><td>10301</td><td>Sales Representative</td><td>45.08</td></tr><tr><td>10379</td><td>Vice President, Sales</td><td>45.03</td></tr><tr><td>11004</td><td>Sales Manager</td><td>44.84</td></tr><tr><td>10590</td><td>Sales Representative</td><td>44.77</td></tr><tr><td>11066</td><td>Sales Representative</td><td>44.72</td></tr><tr><td>10956</td><td>Sales Representative</td><td>44.65</td></tr><tr><td>10598</td><td>CEO</td><td>44.42</td></tr><tr><td>10431</td><td>Sales Representative</td><td>44.17</td></tr><tr><td>10902</td><td>CEO</td><td>44.15</td></tr><tr><td>10420</td><td>Sales Manager</td><td>44.12</td></tr><tr><td>10468</td><td>Sales Manager</td><td>44.12</td></tr><tr><td>10736</td><td>Sales Representative</td><td>44.10</td></tr><tr><td>10625</td><td>Sales Manager</td><td>43.90</td></tr><tr><td>11020</td><td>Vice President, Sales</td><td>43.30</td></tr><tr><td>10832</td><td>Vice President, Sales</td><td>43.26</td></tr><tr><td>10765</td><td>Sales Manager</td><td>42.74</td></tr><tr><td>10788</td><td>CEO</td><td>42.70</td></tr><tr><td>10500</td><td>Sales Representative</td><td>42.68</td></tr><tr><td>10780</td><td>Vice President, Sales</td><td>42.13</td></tr><tr><td>10335</td><td>Sales Representative</td><td>42.11</td></tr><tr><td>10355</td><td>Sales Representative</td><td>41.95</td></tr><tr><td>10527</td><td>Sales Representative</td><td>41.90</td></tr><tr><td>10642</td><td>Sales Representative</td><td>41.89</td></tr><tr><td>10315</td><td>Sales Representative</td><td>41.76</td></tr><tr><td>10632</td><td>Sales Representative</td><td>41.38</td></tr><tr><td>10251</td><td>Sales Manager</td><td>41.34</td></tr><tr><td>10952</td><td>CEO</td><td>40.42</td></tr><tr><td>11034</td><td>Sales Representative</td><td>40.32</td></tr><tr><td>10312</td><td>Vice President, Sales</td><td>40.26</td></tr><tr><td>10926</td><td>Sales Representative</td><td>39.92</td></tr><tr><td>10448</td><td>Sales Representative</td><td>38.82</td></tr><tr><td>10639</td><td>Sales Representative</td><td>38.64</td></tr><tr><td>10991</td><td>CEO</td><td>38.51</td></tr><tr><td>11076</td><td>Sales Representative</td><td>38.28</td></tr><tr><td>10848</td><td>Sales Representative</td><td>38.24</td></tr><tr><td>10911</td><td>Sales Manager</td><td>38.19</td></tr><tr><td>10910</td><td>CEO</td><td>38.11</td></tr><tr><td>10877</td><td>CEO</td><td>38.06</td></tr><tr><td>10976</td><td>CEO</td><td>37.97</td></tr><tr><td>10574</td><td>Sales Representative</td><td>37.60</td></tr><tr><td>10820</td><td>Sales Manager</td><td>37.52</td></tr><tr><td>10763</td><td>Sales Manager</td><td>37.35</td></tr><tr><td>10356</td><td>Sales Representative</td><td>36.71</td></tr><tr><td>10903</td><td>Sales Manager</td><td>36.71</td></tr><tr><td>10821</td><td>CEO</td><td>36.68</td></tr><tr><td>10560</td><td>Sales Representative</td><td>36.65</td></tr><tr><td>10497</td><td>Sales Representative</td><td>36.21</td></tr><tr><td>10682</td><td>Sales Manager</td><td>36.13</td></tr><tr><td>10839</td><td>Sales Manager</td><td>35.43</td></tr><tr><td>10597</td><td>Sales Representative</td><td>35.12</td></tr><tr><td>10380</td><td>Sales Representative</td><td>35.03</td></tr><tr><td>10357</td><td>CEO</td><td>34.88</td></tr><tr><td>10388</td><td>Vice President, Sales</td><td>34.86</td></tr><tr><td>10405</td><td>CEO</td><td>34.82</td></tr><tr><td>10989</td><td>Vice President, Sales</td><td>34.76</td></tr><tr><td>10320</td><td>Sales Manager</td><td>34.57</td></tr><tr><td>10383</td><td>Sales Representative</td><td>34.24</td></tr><tr><td>10567</td><td>CEO</td><td>33.97</td></tr><tr><td>10929</td><td>Sales Representative</td><td>33.93</td></tr><tr><td>11016</td><td>Sales Representative</td><td>33.80</td></tr><tr><td>10685</td><td>Sales Representative</td><td>33.75</td></tr><tr><td>10936</td><td>Sales Manager</td><td>33.68</td></tr><tr><td>10797</td><td>Sales Representative</td><td>33.35</td></tr><tr><td>10913</td><td>Sales Representative</td><td>33.05</td></tr><tr><td>11013</td><td>Vice President, Sales</td><td>32.99</td></tr><tr><td>10908</td><td>Sales Representative</td><td>32.96</td></tr><tr><td>10978</td><td>Sales Representative</td><td>32.82</td></tr><tr><td>10890</td><td>Sales Representative</td><td>32.76</td></tr><tr><td>10896</td><td>Sales Representative</td><td>32.45</td></tr><tr><td>10248</td><td>Sales Manager</td><td>32.38</td></tr><tr><td>10875</td><td>Sales Representative</td><td>32.37</td></tr><tr><td>10630</td><td>CEO</td><td>32.35</td></tr><tr><td>10975</td><td>CEO</td><td>32.27</td></tr><tr><td>10592</td><td>Sales Manager</td><td>32.10</td></tr><tr><td>10517</td><td>Sales Manager</td><td>32.07</td></tr><tr><td>10934</td><td>Sales Manager</td><td>32.01</td></tr><tr><td>10938</td><td>Sales Manager</td><td>31.89</td></tr><tr><td>10675</td><td>Sales Manager</td><td>31.85</td></tr><tr><td>10937</td><td>Sales Representative</td><td>31.51</td></tr><tr><td>10746</td><td>CEO</td><td>31.43</td></tr><tr><td>10427</td><td>Sales Representative</td><td>31.29</td></tr><tr><td>10811</td><td>Sales Representative</td><td>31.22</td></tr><tr><td>11058</td><td>Sales Representative</td><td>31.14</td></tr><tr><td>10385</td><td>CEO</td><td>30.96</td></tr><tr><td>10951</td><td>Sales Representative</td><td>30.85</td></tr><tr><td>10799</td><td>Sales Representative</td><td>30.76</td></tr><tr><td>10363</td><td>Sales Representative</td><td>30.54</td></tr><tr><td>10486</td><td>CEO</td><td>30.53</td></tr><tr><td>10628</td><td>Sales Representative</td><td>30.36</td></tr><tr><td>10671</td><td>CEO</td><td>30.34</td></tr><tr><td>10394</td><td>CEO</td><td>30.34</td></tr><tr><td>10863</td><td>Sales Representative</td><td>30.26</td></tr><tr><td>11064</td><td>CEO</td><td>30.09</td></tr><tr><td>11042</td><td>Vice President, Sales</td><td>29.99</td></tr><tr><td>10599</td><td>Sales Representative</td><td>29.98</td></tr><tr><td>11062</td><td>Sales Representative</td><td>29.93</td></tr><tr><td>10409</td><td>Sales Manager</td><td>29.83</td></tr><tr><td>10834</td><td>CEO</td><td>29.78</td></tr><tr><td>10299</td><td>Sales Representative</td><td>29.76</td></tr><tr><td>10498</td><td>Sales Representative</td><td>29.75</td></tr><tr><td>10920</td><td>Sales Representative</td><td>29.61</td></tr><tr><td>10578</td><td>Sales Representative</td><td>29.60</td></tr><tr><td>11028</td><td>Vice President, Sales</td><td>29.59</td></tr><tr><td>11038</td><td>CEO</td><td>29.59</td></tr><tr><td>10643</td><td>Sales Representative</td><td>29.46</td></tr><tr><td>11025</td><td>Sales Representative</td><td>29.17</td></tr><tr><td>11010</td><td>Vice President, Sales</td><td>28.71</td></tr><tr><td>10790</td><td>Sales Representative</td><td>28.23</td></tr><tr><td>10679</td><td>Sales Representative</td><td>27.94</td></tr><tr><td>10534</td><td>Sales Representative</td><td>27.94</td></tr><tr><td>10954</td><td>Sales Manager</td><td>27.91</td></tr><tr><td>10608</td><td>Sales Representative</td><td>27.79</td></tr><tr><td>10582</td><td>Sales Manager</td><td>27.71</td></tr><tr><td>10399</td><td>Sales Representative</td><td>27.36</td></tr><tr><td>10804</td><td>Sales Representative</td><td>27.33</td></tr><tr><td>10946</td><td>CEO</td><td>27.20</td></tr><tr><td>10966</td><td>Sales Representative</td><td>27.19</td></tr><tr><td>10275</td><td>CEO</td><td>26.93</td></tr><tr><td>10341</td><td>Sales Representative</td><td>26.78</td></tr><tr><td>10610</td><td>Sales Representative</td><td>26.78</td></tr><tr><td>10680</td><td>CEO</td><td>26.61</td></tr><tr><td>10796</td><td>Sales Manager</td><td>26.52</td></tr><tr><td>10665</td><td>CEO</td><td>26.31</td></tr><tr><td>10906</td><td>Sales Representative</td><td>26.29</td></tr><tr><td>10571</td><td>Sales Representative</td><td>26.06</td></tr><tr><td>10279</td><td>Sales Representative</td><td>25.83</td></tr><tr><td>10266</td><td>Sales Manager</td><td>25.73</td></tr><tr><td>10577</td><td>Sales Representative</td><td>25.41</td></tr><tr><td>10453</td><td>CEO</td><td>25.36</td></tr><tr><td>10844</td><td>Sales Representative</td><td>25.22</td></tr><tr><td>11006</td><td>Sales Manager</td><td>25.19</td></tr><tr><td>10459</td><td>Sales Representative</td><td>25.09</td></tr><tr><td>11073</td><td>Vice President, Sales</td><td>24.95</td></tr><tr><td>10544</td><td>Sales Representative</td><td>24.91</td></tr><tr><td>10311</td><td>CEO</td><td>24.69</td></tr><tr><td>10423</td><td>Sales Representative</td><td>24.50</td></tr><tr><td>10714</td><td>Sales Manager</td><td>24.49</td></tr><tr><td>10669</td><td>Vice President, Sales</td><td>24.39</td></tr><tr><td>11048</td><td>Sales Representative</td><td>24.12</td></tr><tr><td>10702</td><td>Sales Representative</td><td>23.94</td></tr><tr><td>10792</td><td>CEO</td><td>23.79</td></tr><tr><td>10621</td><td>Sales Representative</td><td>23.73</td></tr><tr><td>10743</td><td>CEO</td><td>23.72</td></tr><tr><td>10953</td><td>Sales Representative</td><td>23.72</td></tr><tr><td>10411</td><td>Sales Representative</td><td>23.65</td></tr><tr><td>11014</td><td>Vice President, Sales</td><td>23.60</td></tr><tr><td>10640</td><td>Sales Representative</td><td>23.55</td></tr><tr><td>10948</td><td>Sales Manager</td><td>23.39</td></tr><tr><td>10344</td><td>Sales Representative</td><td>23.29</td></tr><tr><td>10882</td><td>Sales Representative</td><td>23.10</td></tr><tr><td>10254</td><td>Sales Manager</td><td>22.98</td></tr><tr><td>10562</td><td>CEO</td><td>22.95</td></tr><tr><td>10289</td><td>Sales Representative</td><td>22.77</td></tr><tr><td>10673</td><td>Vice President, Sales</td><td>22.76</td></tr><tr><td>10416</td><td>Sales Representative</td><td>22.72</td></tr><tr><td>10716</td><td>Sales Representative</td><td>22.57</td></tr><tr><td>10377</td><td>CEO</td><td>22.21</td></tr><tr><td>10806</td><td>Sales Manager</td><td>22.11</td></tr><tr><td>10365</td><td>Sales Manager</td><td>22.00</td></tr><tr><td>10707</td><td>Sales Representative</td><td>21.74</td></tr><tr><td>10723</td><td>Sales Manager</td><td>21.72</td></tr><tr><td>10794</td><td>Sales Representative</td><td>21.49</td></tr><tr><td>10414</td><td>Vice President, Sales</td><td>21.48</td></tr><tr><td>10506</td><td>Sales Representative</td><td>21.19</td></tr><tr><td>10914</td><td>Sales Representative</td><td>21.19</td></tr><tr><td>10293</td><td>CEO</td><td>21.18</td></tr><tr><td>10651</td><td>Sales Representative</td><td>20.60</td></tr><tr><td>10376</td><td>CEO</td><td>20.39</td></tr><tr><td>10891</td><td>Sales Representative</td><td>20.37</td></tr><tr><td>10998</td><td>Sales Representative</td><td>20.31</td></tr><tr><td>10775</td><td>Sales Representative</td><td>20.25</td></tr><tr><td>10730</td><td>Sales Manager</td><td>20.12</td></tr><tr><td>10375</td><td>Sales Manager</td><td>20.12</td></tr><tr><td>10437</td><td>Sales Representative</td><td>19.97</td></tr><tr><td>10919</td><td>Vice President, Sales</td><td>19.80</td></tr><tr><td>10927</td><td>Sales Representative</td><td>19.79</td></tr><tr><td>10940</td><td>Sales Representative</td><td>19.77</td></tr><tr><td>10819</td><td>Vice President, Sales</td><td>19.76</td></tr><tr><td>10358</td><td>Sales Manager</td><td>19.64</td></tr><tr><td>10874</td><td>Sales Manager</td><td>19.58</td></tr><tr><td>10860</td><td>Sales Manager</td><td>19.26</td></tr><tr><td>11040</td><td>Sales Representative</td><td>18.84</td></tr><tr><td>10426</td><td>Sales Representative</td><td>18.69</td></tr><tr><td>10761</td><td>Sales Manager</td><td>18.66</td></tr><tr><td>10576</td><td>Sales Manager</td><td>18.56</td></tr><tr><td>10617</td><td>Sales Representative</td><td>18.53</td></tr><tr><td>11074</td><td>Sales Representative</td><td>18.44</td></tr><tr><td>10942</td><td>Sales Representative</td><td>17.95</td></tr><tr><td>10434</td><td>Sales Manager</td><td>17.92</td></tr><tr><td>10300</td><td>Vice President, Sales</td><td>17.68</td></tr><tr><td>10418</td><td>Sales Representative</td><td>17.55</td></tr><tr><td>10661</td><td>Sales Representative</td><td>17.55</td></tr><tr><td>10310</td><td>Sales Representative</td><td>17.52</td></tr><tr><td>10521</td><td>Sales Representative</td><td>17.22</td></tr><tr><td>10732</td><td>Sales Manager</td><td>16.97</td></tr><tr><td>10491</td><td>Sales Representative</td><td>16.96</td></tr><tr><td>10791</td><td>Sales Representative</td><td>16.85</td></tr><tr><td>10503</td><td>Sales Representative</td><td>16.74</td></tr><tr><td>10695</td><td>Sales Representative</td><td>16.72</td></tr><tr><td>10755</td><td>Sales Representative</td><td>16.71</td></tr><tr><td>10726</td><td>Sales Representative</td><td>16.56</td></tr><tr><td>10473</td><td>CEO</td><td>16.37</td></tr><tr><td>10596</td><td>Sales Representative</td><td>16.34</td></tr><tr><td>10460</td><td>Sales Representative</td><td>16.27</td></tr><tr><td>10970</td><td>Sales Representative</td><td>16.16</td></tr><tr><td>10690</td><td>CEO</td><td>15.80</td></tr><tr><td>11069</td><td>CEO</td><td>15.67</td></tr><tr><td>10339</td><td>Vice President, Sales</td><td>15.66</td></tr><tr><td>10535</td><td>Sales Representative</td><td>15.64</td></tr><tr><td>10930</td><td>Sales Representative</td><td>15.55</td></tr><tr><td>10336</td><td>Sales Representative</td><td>15.51</td></tr><tr><td>10483</td><td>Sales Representative</td><td>15.28</td></tr><tr><td>10973</td><td>Sales Representative</td><td>15.17</td></tr><tr><td>10861</td><td>Sales Representative</td><td>14.93</td></tr><tr><td>11003</td><td>Sales Manager</td><td>14.91</td></tr><tr><td>10463</td><td>Sales Manager</td><td>14.78</td></tr><tr><td>10446</td><td>Sales Representative</td><td>14.68</td></tr><tr><td>10815</td><td>Vice President, Sales</td><td>14.62</td></tr><tr><td>10648</td><td>Sales Manager</td><td>14.25</td></tr><tr><td>10982</td><td>Vice President, Sales</td><td>14.01</td></tr><tr><td>11061</td><td>Sales Representative</td><td>14.01</td></tr><tr><td>10386</td><td>Sales Representative</td><td>13.99</td></tr><tr><td>10256</td><td>Sales Manager</td><td>13.97</td></tr><tr><td>10443</td><td>Sales Representative</td><td>13.95</td></tr><tr><td>10276</td><td>Sales Representative</td><td>13.84</td></tr><tr><td>10564</td><td>Sales Representative</td><td>13.75</td></tr><tr><td>10579</td><td>CEO</td><td>13.73</td></tr><tr><td>10905</td><td>Sales Representative</td><td>13.72</td></tr><tr><td>10931</td><td>Sales Representative</td><td>13.60</td></tr><tr><td>10367</td><td>Sales Representative</td><td>13.55</td></tr><tr><td>10689</td><td>CEO</td><td>13.42</td></tr><tr><td>10585</td><td>Sales Representative</td><td>13.41</td></tr><tr><td>10520</td><td>Sales Representative</td><td>13.37</td></tr><tr><td>10837</td><td>Sales Representative</td><td>13.32</td></tr><tr><td>10477</td><td>Sales Manager</td><td>13.02</td></tr><tr><td>10974</td><td>Sales Manager</td><td>12.96</td></tr><tr><td>11065</td><td>Sales Representative</td><td>12.91</td></tr><tr><td>10287</td><td>Sales Representative</td><td>12.76</td></tr><tr><td>10330</td><td>Sales Manager</td><td>12.75</td></tr><tr><td>10317</td><td>Sales Representative</td><td>12.69</td></tr><tr><td>10282</td><td>Sales Representative</td><td>12.69</td></tr><tr><td>10401</td><td>CEO</td><td>12.51</td></tr><tr><td>10645</td><td>Sales Representative</td><td>12.41</td></tr><tr><td>10539</td><td>Sales Representative</td><td>12.36</td></tr><tr><td>10870</td><td>Sales Manager</td><td>12.04</td></tr><tr><td>10759</td><td>Sales Manager</td><td>11.99</td></tr><tr><td>10466</td><td>Sales Representative</td><td>11.93</td></tr><tr><td>10545</td><td>Sales Representative</td><td>11.92</td></tr><tr><td>11018</td><td>Sales Representative</td><td>11.65</td></tr><tr><td>10249</td><td>Sales Representative</td><td>11.61</td></tr><tr><td>10457</td><td>Vice President, Sales</td><td>11.57</td></tr><tr><td>10408</td><td>Sales Representative</td><td>11.26</td></tr><tr><td>10771</td><td>Sales Representative</td><td>11.19</td></tr><tr><td>10428</td><td>Sales Representative</td><td>11.09</td></tr><tr><td>10739</td><td>Sales Manager</td><td>11.08</td></tr><tr><td>10525</td><td>CEO</td><td>11.06</td></tr><tr><td>11060</td><td>Vice President, Sales</td><td>10.98</td></tr><tr><td>10741</td><td>Sales Representative</td><td>10.96</td></tr><tr><td>10542</td><td>CEO</td><td>10.95</td></tr><tr><td>10725</td><td>Sales Representative</td><td>10.83</td></tr><tr><td>10493</td><td>Sales Representative</td><td>10.64</td></tr><tr><td>10945</td><td>Sales Representative</td><td>10.22</td></tr><tr><td>10331</td><td>Sales Representative</td><td>10.19</td></tr><tr><td>10366</td><td>Sales Representative</td><td>10.14</td></tr><tr><td>10556</td><td>Vice President, Sales</td><td>9.80</td></tr><tr><td>10720</td><td>Sales Representative</td><td>9.53</td></tr><tr><td>10445</td><td>Sales Manager</td><td>9.30</td></tr><tr><td>10843</td><td>Sales Representative</td><td>9.26</td></tr><tr><td>10435</td><td>Sales Representative</td><td>9.21</td></tr><tr><td>10907</td><td>Sales Representative</td><td>9.19</td></tr><tr><td>10280</td><td>Vice President, Sales</td><td>8.98</td></tr><tr><td>10501</td><td>Sales Representative</td><td>8.85</td></tr><tr><td>10993</td><td>Sales Representative</td><td>8.81</td></tr><tr><td>11043</td><td>Sales Manager</td><td>8.80</td></tr><tr><td>11044</td><td>Sales Representative</td><td>8.72</td></tr><tr><td>10349</td><td>Sales Representative</td><td>8.63</td></tr><tr><td>10334</td><td>Sales Representative</td><td>8.56</td></tr><tr><td>11077</td><td>CEO</td><td>8.53</td></tr><tr><td>10879</td><td>Sales Manager</td><td>8.50</td></tr><tr><td>11049</td><td>Sales Manager</td><td>8.34</td></tr><tr><td>10917</td><td>Sales Representative</td><td>8.29</td></tr><tr><td>10438</td><td>Sales Manager</td><td>8.24</td></tr><tr><td>10757</td><td>Sales Representative</td><td>8.19</td></tr><tr><td>10456</td><td>Sales Representative</td><td>8.12</td></tr><tr><td>10531</td><td>Sales Representative</td><td>8.12</td></tr><tr><td>10613</td><td>Sales Representative</td><td>8.11</td></tr><tr><td>10559</td><td>Sales Representative</td><td>8.05</td></tr><tr><td>10381</td><td>Sales Manager</td><td>7.99</td></tr><tr><td>11067</td><td>CEO</td><td>7.98</td></tr><tr><td>10425</td><td>Sales Representative</td><td>7.93</td></tr><tr><td>10737</td><td>Vice President, Sales</td><td>7.79</td></tr><tr><td>10753</td><td>Sales Manager</td><td>7.70</td></tr><tr><td>10306</td><td>CEO</td><td>7.56</td></tr><tr><td>10482</td><td>CEO</td><td>7.48</td></tr><tr><td>10604</td><td>CEO</td><td>7.46</td></tr><tr><td>10288</td><td>Sales Representative</td><td>7.45</td></tr><tr><td>10583</td><td>Vice President, Sales</td><td>7.28</td></tr><tr><td>10450</td><td>Sales Representative</td><td>7.23</td></tr><tr><td>10565</td><td>Sales Representative</td><td>7.15</td></tr><tr><td>10652</td><td>Sales Representative</td><td>7.14</td></tr><tr><td>10505</td><td>Sales Manager</td><td>7.13</td></tr><tr><td>10826</td><td>Sales Representative</td><td>7.09</td></tr><tr><td>10822</td><td>Sales Representative</td><td>7.00</td></tr><tr><td>10484</td><td>Sales Manager</td><td>6.88</td></tr><tr><td>10778</td><td>Sales Manager</td><td>6.79</td></tr><tr><td>10568</td><td>Sales Manager</td><td>6.54</td></tr><tr><td>10291</td><td>Sales Representative</td><td>6.40</td></tr><tr><td>10302</td><td>Sales Representative</td><td>6.27</td></tr><tr><td>11022</td><td>Sales Representative</td><td>6.27</td></tr><tr><td>10649</td><td>Sales Manager</td><td>6.20</td></tr><tr><td>11075</td><td>Sales Representative</td><td>6.19</td></tr><tr><td>10462</td><td>Vice President, Sales</td><td>6.17</td></tr><tr><td>10274</td><td>Sales Representative</td><td>6.01</td></tr><tr><td>10297</td><td>Sales Manager</td><td>5.74</td></tr><tr><td>10885</td><td>Sales Representative</td><td>5.64</td></tr><tr><td>10391</td><td>Sales Manager</td><td>5.45</td></tr><tr><td>10378</td><td>Sales Manager</td><td>5.44</td></tr><tr><td>10770</td><td>Sales Representative</td><td>5.32</td></tr><tr><td>10489</td><td>Sales Representative</td><td>5.29</td></tr><tr><td>10594</td><td>Sales Manager</td><td>5.24</td></tr><tr><td>10508</td><td>CEO</td><td>4.99</td></tr><tr><td>10886</td><td>CEO</td><td>4.99</td></tr><tr><td>10959</td><td>Sales Representative</td><td>4.98</td></tr><tr><td>10710</td><td>CEO</td><td>4.98</td></tr><tr><td>10488</td><td>Sales Representative</td><td>4.93</td></tr><tr><td>10467</td><td>Sales Representative</td><td>4.93</td></tr><tr><td>10323</td><td>Sales Representative</td><td>4.88</td></tr><tr><td>10538</td><td>Sales Representative</td><td>4.87</td></tr><tr><td>10809</td><td>Sales Representative</td><td>4.87</td></tr><tr><td>10478</td><td>Vice President, Sales</td><td>4.81</td></tr><tr><td>10704</td><td>Sales Representative</td><td>4.78</td></tr><tr><td>10318</td><td>Sales Representative</td><td>4.73</td></tr><tr><td>10495</td><td>Sales Manager</td><td>4.65</td></tr><tr><td>11015</td><td>Vice President, Sales</td><td>4.62</td></tr><tr><td>10269</td><td>Sales Manager</td><td>4.56</td></tr><tr><td>10271</td><td>Sales Representative</td><td>4.54</td></tr><tr><td>10793</td><td>Sales Manager</td><td>4.52</td></tr><tr><td>10589</td><td>Sales Representative</td><td>4.42</td></tr><tr><td>10655</td><td>CEO</td><td>4.41</td></tr><tr><td>10476</td><td>Sales Representative</td><td>4.41</td></tr><tr><td>10683</td><td>Vice President, Sales</td><td>4.40</td></tr><tr><td>10432</td><td>Sales Manager</td><td>4.34</td></tr><tr><td>10810</td><td>Vice President, Sales</td><td>4.33</td></tr><tr><td>10550</td><td>Sales Representative</td><td>4.32</td></tr><tr><td>10992</td><td>CEO</td><td>4.27</td></tr><tr><td>10472</td><td>Sales Representative</td><td>4.20</td></tr><tr><td>11057</td><td>Sales Manager</td><td>4.13</td></tr><tr><td>10439</td><td>Sales Representative</td><td>4.07</td></tr><tr><td>10677</td><td>CEO</td><td>4.03</td></tr><tr><td>10374</td><td>CEO</td><td>3.94</td></tr><tr><td>10412</td><td>Sales Representative</td><td>3.77</td></tr><tr><td>10264</td><td>Sales Representative</td><td>3.67</td></tr><tr><td>10512</td><td>Sales Representative</td><td>3.53</td></tr><tr><td>10705</td><td>Sales Representative</td><td>3.52</td></tr><tr><td>10745</td><td>Sales Representative</td><td>3.52</td></tr><tr><td>10915</td><td>Vice President, Sales</td><td>3.51</td></tr><tr><td>10444</td><td>Sales Manager</td><td>3.50</td></tr><tr><td>10321</td><td>Sales Manager</td><td>3.43</td></tr><tr><td>10528</td><td>Sales Representative</td><td>3.35</td></tr><tr><td>10955</td><td>Sales Representative</td><td>3.26</td></tr><tr><td>10947</td><td>Sales Manager</td><td>3.26</td></tr><tr><td>10259</td><td>Sales Representative</td><td>3.25</td></tr><tr><td>11037</td><td>Sales Representative</td><td>3.20</td></tr><tr><td>11019</td><td>Sales Representative</td><td>3.17</td></tr><tr><td>10347</td><td>Sales Representative</td><td>3.10</td></tr><tr><td>10261</td><td>Sales Representative</td><td>3.05</td></tr><tr><td>10864</td><td>Sales Representative</td><td>3.04</td></tr><tr><td>10422</td><td>Vice President, Sales</td><td>3.02</td></tr><tr><td>10777</td><td>Sales Representative</td><td>3.01</td></tr><tr><td>10581</td><td>Sales Manager</td><td>3.01</td></tr><tr><td>10708</td><td>Sales Representative</td><td>2.96</td></tr><tr><td>10281</td><td>Sales Representative</td><td>2.94</td></tr><tr><td>10602</td><td>Sales Representative</td><td>2.92</td></tr><tr><td>10738</td><td>Vice President, Sales</td><td>2.91</td></tr><tr><td>10881</td><td>Sales Representative</td><td>2.84</td></tr><tr><td>11051</td><td>Sales Representative</td><td>2.79</td></tr><tr><td>10454</td><td>Sales Representative</td><td>2.74</td></tr><tr><td>10840</td><td>Sales Representative</td><td>2.71</td></tr><tr><td>10963</td><td>Sales Representative</td><td>2.70</td></tr><tr><td>10950</td><td>CEO</td><td>2.50</td></tr><tr><td>10410</td><td>Sales Manager</td><td>2.40</td></tr><tr><td>10754</td><td>Sales Representative</td><td>2.38</td></tr><tr><td>10798</td><td>Vice President, Sales</td><td>2.33</td></tr><tr><td>10925</td><td>Sales Manager</td><td>2.27</td></tr><tr><td>10943</td><td>Sales Representative</td><td>2.17</td></tr><tr><td>10960</td><td>Sales Manager</td><td>2.08</td></tr><tr><td>10676</td><td>Vice President, Sales</td><td>2.01</td></tr><tr><td>10313</td><td>Vice President, Sales</td><td>1.96</td></tr><tr><td>10614</td><td>Sales Representative</td><td>1.93</td></tr><tr><td>10867</td><td>Sales Representative</td><td>1.93</td></tr><tr><td>10609</td><td>Sales Representative</td><td>1.85</td></tr><tr><td>10900</td><td>CEO</td><td>1.66</td></tr><tr><td>10734</td><td>Vice President, Sales</td><td>1.63</td></tr><tr><td>10308</td><td>Sales Representative</td><td>1.61</td></tr><tr><td>10767</td><td>Sales Representative</td><td>1.59</td></tr><tr><td>10785</td><td>CEO</td><td>1.51</td></tr><tr><td>10548</td><td>Sales Manager</td><td>1.43</td></tr><tr><td>10752</td><td>Vice President, Sales</td><td>1.39</td></tr><tr><td>10807</td><td>Sales Representative</td><td>1.36</td></tr><tr><td>10928</td><td>CEO</td><td>1.36</td></tr><tr><td>10292</td><td>CEO</td><td>1.35</td></tr><tr><td>10480</td><td>Sales Representative</td><td>1.35</td></tr><tr><td>10352</td><td>Sales Manager</td><td>1.30</td></tr><tr><td>10662</td><td>Sales Manager</td><td>1.28</td></tr><tr><td>10664</td><td>CEO</td><td>1.27</td></tr><tr><td>10898</td><td>Sales Representative</td><td>1.27</td></tr><tr><td>10980</td><td>Sales Representative</td><td>1.26</td></tr><tr><td>10887</td><td>Sales Representative</td><td>1.25</td></tr><tr><td>10824</td><td>Sales Representative</td><td>1.23</td></tr><tr><td>10899</td><td>Sales Manager</td><td>1.21</td></tr><tr><td>11011</td><td>Sales Manager</td><td>1.21</td></tr><tr><td>10370</td><td>Sales Representative</td><td>1.17</td></tr><tr><td>10295</td><td>Vice President, Sales</td><td>1.15</td></tr><tr><td>10636</td><td>Sales Representative</td><td>1.15</td></tr><tr><td>10996</td><td>Sales Representative</td><td>1.12</td></tr><tr><td>10782</td><td>Sales Representative</td><td>1.10</td></tr><tr><td>10620</td><td>Vice President, Sales</td><td>0.94</td></tr><tr><td>11071</td><td>CEO</td><td>0.93</td></tr><tr><td>10674</td><td>Sales Representative</td><td>0.90</td></tr><tr><td>10631</td><td>Sales Representative</td><td>0.87</td></tr><tr><td>10873</td><td>Sales Representative</td><td>0.82</td></tr><tr><td>10348</td><td>Sales Representative</td><td>0.78</td></tr><tr><td>10615</td><td>Vice President, Sales</td><td>0.75</td></tr><tr><td>11005</td><td>Vice President, Sales</td><td>0.75</td></tr><tr><td>10333</td><td>Sales Manager</td><td>0.59</td></tr><tr><td>10699</td><td>Sales Manager</td><td>0.58</td></tr><tr><td>10307</td><td>Vice President, Sales</td><td>0.56</td></tr><tr><td>10849</td><td>Sales Representative</td><td>0.56</td></tr><tr><td>10883</td><td>Sales Representative</td><td>0.53</td></tr><tr><td>10586</td><td>Sales Representative</td><td>0.48</td></tr><tr><td>10371</td><td>CEO</td><td>0.45</td></tr><tr><td>10322</td><td>Sales Representative</td><td>0.40</td></tr><tr><td>11054</td><td>Sales Representative</td><td>0.33</td></tr><tr><td>10969</td><td>CEO</td><td>0.21</td></tr><tr><td>10415</td><td>Sales Manager</td><td>0.20</td></tr><tr><td>11035</td><td>Vice President, Sales</td><td>0.17</td></tr><tr><td>10509</td><td>Sales Representative</td><td>0.15</td></tr><tr><td>10644</td><td>Sales Manager</td><td>0.14</td></tr><tr><td>10296</td><td>Sales Representative</td><td>0.12</td></tr><tr><td>10972</td><td>Sales Representative</td><td>0.02</td></tr></table>"
                    },
                    "metadata": {}
                }
            ],
            "execution_count": 29
        },
        {
            "cell_type": "markdown",
            "source": [
                "## WideWorldImporters\n",
                "\n",
                "Proposition: **Return 10 products in stock with the largest sale margin.**"
            ],
            "metadata": {
                "azdata_cell_guid": "8fb914e0-146d-4b05-93c0-360cb3346157"
            },
            "attachments": {}
        },
        {
            "cell_type": "code",
            "source": [
                "use WideWorldImporters\n",
                "\n",
                "select top 10 StockItemId as itemid,\n",
                "    StockItemName as itemname,\n",
                "    RecommendedRetailPrice - UnitPrice as margin\n",
                "from Warehouse.StockItems\n",
                "order by margin desc"
            ],
            "metadata": {
                "azdata_cell_guid": "5190957b-82ed-4979-b708-60aaa6e69cf9",
                "language": "sql"
            },
            "outputs": [
                {
                    "output_type": "display_data",
                    "data": {
                        "text/html": "(10 rows affected)"
                    },
                    "metadata": {}
                },
                {
                    "output_type": "display_data",
                    "data": {
                        "text/html": "Total execution time: 00:00:00.029"
                    },
                    "metadata": {}
                },
                {
                    "output_type": "execute_result",
                    "execution_count": 36,
                    "data": {
                        "application/vnd.dataresource+json": {
                            "schema": {
                                "fields": [
                                    {
                                        "name": "itemid"
                                    },
                                    {
                                        "name": "itemname"
                                    },
                                    {
                                        "name": "margin"
                                    }
                                ]
                            },
                            "data": [
                                {
                                    "0": "215",
                                    "1": "Air cushion machine (Blue)",
                                    "2": "940.01"
                                },
                                {
                                    "0": "75",
                                    "1": "Ride on big wheel monster truck (Black) 1/12 scale",
                                    "2": "170.78"
                                },
                                {
                                    "0": "73",
                                    "1": "Ride on vintage American toy coupe (Red) 1/12 scale",
                                    "2": "141.08"
                                },
                                {
                                    "0": "74",
                                    "1": "Ride on vintage American toy coupe (Black) 1/12 scale",
                                    "2": "141.08"
                                },
                                {
                                    "0": "8",
                                    "1": "USB food flash drive - dim sum 10 drive variety pack",
                                    "2": "118.80"
                                },
                                {
                                    "0": "15",
                                    "1": "USB food flash drive - dessert 10 drive variety pack",
                                    "2": "118.80"
                                },
                                {
                                    "0": "174",
                                    "1": "Bubblewrap dispenser (Black) 1.5m",
                                    "2": "118.80"
                                },
                                {
                                    "0": "175",
                                    "1": "Bubblewrap dispenser (Blue) 1.5m",
                                    "2": "118.80"
                                },
                                {
                                    "0": "176",
                                    "1": "Bubblewrap dispenser (Red) 1.5m",
                                    "2": "118.80"
                                },
                                {
                                    "0": "67",
                                    "1": "Ride on toy sedan car (Black) 1/12 scale",
                                    "2": "113.85"
                                }
                            ]
                        },
                        "text/html": "<table><tr><th>itemid</th><th>itemname</th><th>margin</th></tr><tr><td>215</td><td>Air cushion machine (Blue)</td><td>940.01</td></tr><tr><td>75</td><td>Ride on big wheel monster truck (Black) 1/12 scale</td><td>170.78</td></tr><tr><td>73</td><td>Ride on vintage American toy coupe (Red) 1/12 scale</td><td>141.08</td></tr><tr><td>74</td><td>Ride on vintage American toy coupe (Black) 1/12 scale</td><td>141.08</td></tr><tr><td>8</td><td>USB food flash drive - dim sum 10 drive variety pack</td><td>118.80</td></tr><tr><td>15</td><td>USB food flash drive - dessert 10 drive variety pack</td><td>118.80</td></tr><tr><td>174</td><td>Bubblewrap dispenser (Black) 1.5m</td><td>118.80</td></tr><tr><td>175</td><td>Bubblewrap dispenser (Blue) 1.5m</td><td>118.80</td></tr><tr><td>176</td><td>Bubblewrap dispenser (Red) 1.5m</td><td>118.80</td></tr><tr><td>67</td><td>Ride on toy sedan car (Black) 1/12 scale</td><td>113.85</td></tr></table>"
                    },
                    "metadata": {}
                }
            ],
            "execution_count": 36
        },
        {
            "cell_type": "markdown",
            "source": [
                "## PrestigeCarsOriginal\n",
                "\n",
                "Proposition: **Return the total sales price for each make of cars sold in 2018.**"
            ],
            "metadata": {
                "azdata_cell_guid": "0af72b73-a46d-48e8-8c42-ad978830b171"
            },
            "attachments": {}
        },
        {
            "cell_type": "code",
            "source": [
                "use PrestigeCarsOriginal\n",
                "\n",
                "select MakeName as makename,\n",
                "    ModelName as modelname,\n",
                "    SUM(SalePrice) as totalsaleprice,\n",
                "    COUNT(ModelName) as qtysold\n",
                "from DataTransfer.[Sales2018]\n",
                "group by makename, modelname\n",
                "order by totalsaleprice desc"
            ],
            "metadata": {
                "azdata_cell_guid": "5a46ce26-dbc8-4338-b8e1-82f0656ece28",
                "language": "sql"
            },
            "outputs": [
                {
                    "output_type": "display_data",
                    "data": {
                        "text/html": "(61 rows affected)"
                    },
                    "metadata": {}
                },
                {
                    "output_type": "display_data",
                    "data": {
                        "text/html": "Total execution time: 00:00:00.024"
                    },
                    "metadata": {}
                },
                {
                    "output_type": "execute_result",
                    "metadata": {},
                    "execution_count": 13,
                    "data": {
                        "application/vnd.dataresource+json": {
                            "schema": {
                                "fields": [
                                    {
                                        "name": "makename"
                                    },
                                    {
                                        "name": "modelname"
                                    },
                                    {
                                        "name": "totalsaleprice"
                                    },
                                    {
                                        "name": "qtysold"
                                    }
                                ]
                            },
                            "data": [
                                {
                                    "0": "Bugatti",
                                    "1": "57C",
                                    "2": "1055000.00",
                                    "3": "3"
                                },
                                {
                                    "0": "Ferrari",
                                    "1": "F50",
                                    "2": "505000.00",
                                    "3": "2"
                                },
                                {
                                    "0": "Aston Martin",
                                    "1": "DB9",
                                    "2": "452900.00",
                                    "3": "7"
                                },
                                {
                                    "0": "Aston Martin",
                                    "1": "Virage",
                                    "2": "396000.00",
                                    "3": "5"
                                },
                                {
                                    "0": "Aston Martin",
                                    "1": "DB6",
                                    "2": "341515.00",
                                    "3": "5"
                                },
                                {
                                    "0": "Ferrari",
                                    "1": "Dino",
                                    "2": "318500.00",
                                    "3": "2"
                                },
                                {
                                    "0": "Ferrari",
                                    "1": "F40",
                                    "2": "269500.00",
                                    "3": "1"
                                },
                                {
                                    "0": "Ferrari",
                                    "1": "360",
                                    "2": "263500.00",
                                    "3": "2"
                                },
                                {
                                    "0": "Lamborghini",
                                    "1": "Diabolo",
                                    "2": "255000.00",
                                    "3": "1"
                                },
                                {
                                    "0": "Aston Martin",
                                    "1": "DB2",
                                    "2": "254490.00",
                                    "3": "4"
                                },
                                {
                                    "0": "Ferrari",
                                    "1": "Daytona",
                                    "2": "244500.00",
                                    "3": "2"
                                },
                                {
                                    "0": "Mercedes",
                                    "1": "280SL",
                                    "2": "192340.00",
                                    "3": "4"
                                },
                                {
                                    "0": "Bentley",
                                    "1": "Brooklands",
                                    "2": "189500.00",
                                    "3": "1"
                                },
                                {
                                    "0": "Bentley",
                                    "1": "Continental",
                                    "2": "189000.00",
                                    "3": "2"
                                },
                                {
                                    "0": "Rolls Royce",
                                    "1": "Phantom",
                                    "2": "182500.00",
                                    "3": "1"
                                },
                                {
                                    "0": "Bentley",
                                    "1": "Mulsanne",
                                    "2": "156450.00",
                                    "3": "2"
                                },
                                {
                                    "0": "Aston Martin",
                                    "1": "DB4",
                                    "2": "156300.00",
                                    "3": "3"
                                },
                                {
                                    "0": "Ferrari",
                                    "1": "Mondial",
                                    "2": "155000.00",
                                    "3": "1"
                                },
                                {
                                    "0": "Jaguar",
                                    "1": "XK120",
                                    "2": "149050.00",
                                    "3": "3"
                                },
                                {
                                    "0": "Lamborghini",
                                    "1": "400GT",
                                    "2": "145000.00",
                                    "3": "1"
                                },
                                {
                                    "0": "Bentley",
                                    "1": "Flying Spur",
                                    "2": "129450.00",
                                    "3": "2"
                                },
                                {
                                    "0": "Rolls Royce",
                                    "1": "Silver Seraph",
                                    "2": "120000.00",
                                    "3": "1"
                                },
                                {
                                    "0": "Aston Martin",
                                    "1": "Vanquish",
                                    "2": "114590.00",
                                    "3": "2"
                                },
                                {
                                    "0": "Jaguar",
                                    "1": "Mark X",
                                    "2": "111000.00",
                                    "3": "2"
                                },
                                {
                                    "0": "Aston Martin",
                                    "1": "Vantage",
                                    "2": "102500.00",
                                    "3": "1"
                                },
                                {
                                    "0": "Rolls Royce",
                                    "1": "Ghost",
                                    "2": "98950.00",
                                    "3": "1"
                                },
                                {
                                    "0": "Porsche",
                                    "1": "959",
                                    "2": "89500.00",
                                    "3": "1"
                                },
                                {
                                    "0": "Noble",
                                    "1": "M600",
                                    "2": "71900.00",
                                    "3": "2"
                                },
                                {
                                    "0": "Aston Martin",
                                    "1": "DB5",
                                    "2": "69500.00",
                                    "3": "1"
                                },
                                {
                                    "0": "Alfa Romeo",
                                    "1": "Giulietta",
                                    "2": "64190.00",
                                    "3": "5"
                                },
                                {
                                    "0": "Lagonda",
                                    "1": "V12",
                                    "2": "61500.00",
                                    "3": "1"
                                },
                                {
                                    "0": "Jaguar",
                                    "1": "Mark V",
                                    "2": "59450.00",
                                    "3": "2"
                                },
                                {
                                    "0": "Mercedes",
                                    "1": "350SL",
                                    "2": "57100.00",
                                    "3": "2"
                                },
                                {
                                    "0": "Jaguar",
                                    "1": "XK150",
                                    "2": "56000.00",
                                    "3": "2"
                                },
                                {
                                    "0": "Triumph",
                                    "1": "TR5",
                                    "2": "42470.00",
                                    "3": "4"
                                },
                                {
                                    "0": "Delahaye",
                                    "1": "145",
                                    "2": "39500.00",
                                    "3": "1"
                                },
                                {
                                    "0": "Triumph",
                                    "1": "TR4",
                                    "2": "32030.00",
                                    "3": "4"
                                },
                                {
                                    "0": "Mercedes",
                                    "1": "500SL",
                                    "2": "30500.00",
                                    "3": "1"
                                },
                                {
                                    "0": "Delahaye",
                                    "1": "135",
                                    "2": "25500.00",
                                    "3": "1"
                                },
                                {
                                    "0": "Citroen",
                                    "1": "Traaction Avant",
                                    "2": "25000.00",
                                    "3": "1"
                                },
                                {
                                    "0": "Austin",
                                    "1": "Cambridge",
                                    "2": "22500.00",
                                    "3": "1"
                                },
                                {
                                    "0": "BMW",
                                    "1": "Alpina",
                                    "2": "21500.00",
                                    "3": "1"
                                },
                                {
                                    "0": "Morgan",
                                    "1": "Plus 4",
                                    "2": "18500.00",
                                    "3": "1"
                                },
                                {
                                    "0": "Jaguar",
                                    "1": "XJ12",
                                    "2": "17850.00",
                                    "3": "1"
                                },
                                {
                                    "0": "Porsche",
                                    "1": "928",
                                    "2": "15950.00",
                                    "3": "1"
                                },
                                {
                                    "0": "Mercedes",
                                    "1": "250SL",
                                    "2": "12950.00",
                                    "3": "1"
                                },
                                {
                                    "0": "Delahaye",
                                    "1": "175",
                                    "2": "12500.00",
                                    "3": "1"
                                },
                                {
                                    "0": "Alfa Romeo",
                                    "1": "1750",
                                    "2": "9950.00",
                                    "3": "1"
                                },
                                {
                                    "0": "Triumph",
                                    "1": "TR7",
                                    "2": "9890.00",
                                    "3": "1"
                                },
                                {
                                    "0": "Porsche",
                                    "1": "944",
                                    "2": "9800.00",
                                    "3": "1"
                                },
                                {
                                    "0": "Austin",
                                    "1": "Princess",
                                    "2": "9650.00",
                                    "3": "3"
                                },
                                {
                                    "0": "Peugeot",
                                    "1": "404",
                                    "2": "7095.00",
                                    "3": "4"
                                },
                                {
                                    "0": "Alfa Romeo",
                                    "1": "Giulia",
                                    "2": "6950.00",
                                    "3": "1"
                                },
                                {
                                    "0": "Citroen",
                                    "1": "Rosalie",
                                    "2": "6850.00",
                                    "3": "2"
                                },
                                {
                                    "0": "Alfa Romeo",
                                    "1": "Spider",
                                    "2": "5950.00",
                                    "3": "1"
                                },
                                {
                                    "0": "Noble",
                                    "1": "M14",
                                    "2": "5500.00",
                                    "3": "1"
                                },
                                {
                                    "0": "Trabant",
                                    "1": "600",
                                    "2": "4790.00",
                                    "3": "3"
                                },
                                {
                                    "0": "Trabant",
                                    "1": "500",
                                    "2": "3650.00",
                                    "3": "2"
                                },
                                {
                                    "0": "Peugeot",
                                    "1": "203",
                                    "2": "1950.00",
                                    "3": "1"
                                },
                                {
                                    "0": "Peugeot",
                                    "1": "205",
                                    "2": "950.00",
                                    "3": "1"
                                },
                                {
                                    "0": "Reliant",
                                    "1": "Robin",
                                    "2": "950.00",
                                    "3": "1"
                                }
                            ]
                        },
                        "text/html": [
                            "<table>",
                            "<tr><th>makename</th><th>modelname</th><th>totalsaleprice</th><th>qtysold</th></tr>",
                            "<tr><td>Bugatti</td><td>57C</td><td>1055000.00</td><td>3</td></tr>",
                            "<tr><td>Ferrari</td><td>F50</td><td>505000.00</td><td>2</td></tr>",
                            "<tr><td>Aston Martin</td><td>DB9</td><td>452900.00</td><td>7</td></tr>",
                            "<tr><td>Aston Martin</td><td>Virage</td><td>396000.00</td><td>5</td></tr>",
                            "<tr><td>Aston Martin</td><td>DB6</td><td>341515.00</td><td>5</td></tr>",
                            "<tr><td>Ferrari</td><td>Dino</td><td>318500.00</td><td>2</td></tr>",
                            "<tr><td>Ferrari</td><td>F40</td><td>269500.00</td><td>1</td></tr>",
                            "<tr><td>Ferrari</td><td>360</td><td>263500.00</td><td>2</td></tr>",
                            "<tr><td>Lamborghini</td><td>Diabolo</td><td>255000.00</td><td>1</td></tr>",
                            "<tr><td>Aston Martin</td><td>DB2</td><td>254490.00</td><td>4</td></tr>",
                            "<tr><td>Ferrari</td><td>Daytona</td><td>244500.00</td><td>2</td></tr>",
                            "<tr><td>Mercedes</td><td>280SL</td><td>192340.00</td><td>4</td></tr>",
                            "<tr><td>Bentley</td><td>Brooklands</td><td>189500.00</td><td>1</td></tr>",
                            "<tr><td>Bentley</td><td>Continental</td><td>189000.00</td><td>2</td></tr>",
                            "<tr><td>Rolls Royce</td><td>Phantom</td><td>182500.00</td><td>1</td></tr>",
                            "<tr><td>Bentley</td><td>Mulsanne</td><td>156450.00</td><td>2</td></tr>",
                            "<tr><td>Aston Martin</td><td>DB4</td><td>156300.00</td><td>3</td></tr>",
                            "<tr><td>Ferrari</td><td>Mondial</td><td>155000.00</td><td>1</td></tr>",
                            "<tr><td>Jaguar</td><td>XK120</td><td>149050.00</td><td>3</td></tr>",
                            "<tr><td>Lamborghini</td><td>400GT</td><td>145000.00</td><td>1</td></tr>",
                            "<tr><td>Bentley</td><td>Flying Spur</td><td>129450.00</td><td>2</td></tr>",
                            "<tr><td>Rolls Royce</td><td>Silver Seraph</td><td>120000.00</td><td>1</td></tr>",
                            "<tr><td>Aston Martin</td><td>Vanquish</td><td>114590.00</td><td>2</td></tr>",
                            "<tr><td>Jaguar</td><td>Mark X</td><td>111000.00</td><td>2</td></tr>",
                            "<tr><td>Aston Martin</td><td>Vantage</td><td>102500.00</td><td>1</td></tr>",
                            "<tr><td>Rolls Royce</td><td>Ghost</td><td>98950.00</td><td>1</td></tr>",
                            "<tr><td>Porsche</td><td>959</td><td>89500.00</td><td>1</td></tr>",
                            "<tr><td>Noble</td><td>M600</td><td>71900.00</td><td>2</td></tr>",
                            "<tr><td>Aston Martin</td><td>DB5</td><td>69500.00</td><td>1</td></tr>",
                            "<tr><td>Alfa Romeo</td><td>Giulietta</td><td>64190.00</td><td>5</td></tr>",
                            "<tr><td>Lagonda</td><td>V12</td><td>61500.00</td><td>1</td></tr>",
                            "<tr><td>Jaguar</td><td>Mark V</td><td>59450.00</td><td>2</td></tr>",
                            "<tr><td>Mercedes</td><td>350SL</td><td>57100.00</td><td>2</td></tr>",
                            "<tr><td>Jaguar</td><td>XK150</td><td>56000.00</td><td>2</td></tr>",
                            "<tr><td>Triumph</td><td>TR5</td><td>42470.00</td><td>4</td></tr>",
                            "<tr><td>Delahaye</td><td>145</td><td>39500.00</td><td>1</td></tr>",
                            "<tr><td>Triumph</td><td>TR4</td><td>32030.00</td><td>4</td></tr>",
                            "<tr><td>Mercedes</td><td>500SL</td><td>30500.00</td><td>1</td></tr>",
                            "<tr><td>Delahaye</td><td>135</td><td>25500.00</td><td>1</td></tr>",
                            "<tr><td>Citroen</td><td>Traaction Avant</td><td>25000.00</td><td>1</td></tr>",
                            "<tr><td>Austin</td><td>Cambridge</td><td>22500.00</td><td>1</td></tr>",
                            "<tr><td>BMW</td><td>Alpina</td><td>21500.00</td><td>1</td></tr>",
                            "<tr><td>Morgan</td><td>Plus 4</td><td>18500.00</td><td>1</td></tr>",
                            "<tr><td>Jaguar</td><td>XJ12</td><td>17850.00</td><td>1</td></tr>",
                            "<tr><td>Porsche</td><td>928</td><td>15950.00</td><td>1</td></tr>",
                            "<tr><td>Mercedes</td><td>250SL</td><td>12950.00</td><td>1</td></tr>",
                            "<tr><td>Delahaye</td><td>175</td><td>12500.00</td><td>1</td></tr>",
                            "<tr><td>Alfa Romeo</td><td>1750</td><td>9950.00</td><td>1</td></tr>",
                            "<tr><td>Triumph</td><td>TR7</td><td>9890.00</td><td>1</td></tr>",
                            "<tr><td>Porsche</td><td>944</td><td>9800.00</td><td>1</td></tr>",
                            "<tr><td>Austin</td><td>Princess</td><td>9650.00</td><td>3</td></tr>",
                            "<tr><td>Peugeot</td><td>404</td><td>7095.00</td><td>4</td></tr>",
                            "<tr><td>Alfa Romeo</td><td>Giulia</td><td>6950.00</td><td>1</td></tr>",
                            "<tr><td>Citroen</td><td>Rosalie</td><td>6850.00</td><td>2</td></tr>",
                            "<tr><td>Alfa Romeo</td><td>Spider</td><td>5950.00</td><td>1</td></tr>",
                            "<tr><td>Noble</td><td>M14</td><td>5500.00</td><td>1</td></tr>",
                            "<tr><td>Trabant</td><td>600</td><td>4790.00</td><td>3</td></tr>",
                            "<tr><td>Trabant</td><td>500</td><td>3650.00</td><td>2</td></tr>",
                            "<tr><td>Peugeot</td><td>203</td><td>1950.00</td><td>1</td></tr>",
                            "<tr><td>Peugeot</td><td>205</td><td>950.00</td><td>1</td></tr>",
                            "<tr><td>Reliant</td><td>Robin</td><td>950.00</td><td>1</td></tr>",
                            "</table>"
                        ]
                    }
                }
            ],
            "execution_count": 13
        }
    ]
}