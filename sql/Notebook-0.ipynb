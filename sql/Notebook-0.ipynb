{
    "metadata": {
        "kernelspec": {
            "name": "SQL",
            "display_name": "SQL",
            "language": "sql"
        },
        "language_info": {
            "name": "sql",
            "version": ""
        }
    },
    "nbformat_minor": 2,
    "nbformat": 4,
    "cells": [
        {
            "cell_type": "markdown",
            "source": [
                "SIMPLE QUERIES -----------------------------"
            ],
            "metadata": {
                "azdata_cell_guid": "0b795e22-f536-4d0f-b4b4-8764ad901a9d"
            }
        },
        {
            "cell_type": "markdown",
            "source": [
                "01 // Return the 100 fastest fully completed work orders."
            ],
            "metadata": {
                "azdata_cell_guid": "03562195-766a-4b3b-b370-7e71c7ed1631"
            }
        },
        {
            "cell_type": "markdown",
            "source": [
                "Database // AdventureWorks2017"
            ],
            "metadata": {
                "azdata_cell_guid": "a907f0f5-6f2a-4810-9604-d69a969726ae"
            }
        },
        {
            "cell_type": "code",
            "source": [
                "use AdventureWorks2017\n",
                "select top 100\n",
                "    WorkOrderID as workorderid,\n",
                "    datediff(day, StartDate, EndDate) as dayselapsed\n",
                "from Production.[WorkOrder]\n",
                "where OrderQty = StockedQty\n",
                "order by daysElapsed asc,\n",
                "         workorderid asc\n",
                "\n",
                "-- 02 // Return the alternate key and product name of \n",
                "--       unique products sold in internet sales.\n",
                "-- Database // AdventureWorksDW2017\n",
                "\n",
                "use AdventureWorksDW2017\n",
                "select distinct\n",
                "    I.ProductKey as productkey,\n",
                "    P.ProductAlternateKey as alternatekey,\n",
                "    P.EnglishProductName as productname\n",
                "from dbo.[FactInternetSales] as I\n",
                "    inner join dbo.[DimProduct] as P\n",
                "        on I.ProductKey = P.ProductKey\n",
                "order by productkey asc\n",
                "\n",
                "-- 03 // Return the employee title responsible\n",
                "--       for each order, ordered by freight price.\n",
                "-- Database // NorthWinds2022TSQLV7\n",
                "\n",
                "use Northwinds2022TSQLV7;\n",
                "\n",
                "select O.OrderId as orderid,\n",
                "       E.EmployeeTitle as title,\n",
                "       O.Freight as freight\n",
                "from Sales.[Order] as O\n",
                "    inner join HumanResources.[Employee] as E\n",
                "        on O.EmployeeId = E.EmployeeId\n",
                "order by freight desc\n",
                "\n",
                "-- for json path, root('OrderEmployeeTitle'), include_null_values\n",
                "\n",
                "-- 04 // Return the 10 products in stock\n",
                "--       with the largest sale margin.\n",
                "-- Database // WideWorldImporters\n",
                "\n",
                "use WideWorldImporters\n",
                "select top 10\n",
                "    StockItemId as itemid,\n",
                "    StockItemName as itemname,\n",
                "    RecommendedRetailPrice - UnitPrice as margin\n",
                "from Warehouse.StockItems\n",
                "order by margin desc\n",
                "\n",
                "-- 05 // Return the total sales price\n",
                "--       for each make of cars sold in 2018.\n",
                "-- Database // PrestigeCarsOriginal\n",
                "\n",
                "use PrestigeCarsOriginal\n",
                "select MakeName as makename,\n",
                "       ModelName as modelname,\n",
                "       SUM(SalePrice) as totalsaleprice,\n",
                "       COUNT(ModelName) as qtysold\n",
                "from DataTransfer.[Sales2018]\n",
                "group by makename,\n",
                "         modelname\n",
                "order by totalsaleprice desc\n",
                "-- for json path, root('MakeTotalSalesPrice'), include_null_values\n",
                "\n",
                "-- 05 CORRECTED // Return the total sales price\n",
                "--       for each make of cars sold in 2018.\n",
                "-- Database // PrestigeCarsOriginal\n",
                "\n",
                "use PrestigeCarsOriginal\n",
                "select MakeName as makename,\n",
                "       SUM(SalePrice) as totalsaleprice\n",
                "from DataTransfer.[Sales2018]\n",
                "group by makename\n",
                "order by totalsaleprice desc\n",
                "for json path, root('MakeTotalSalesPrice'), include_null_values\n",
                "\n",
                "\n",
                "-- MEDIUM QUERIES -----------------------------\n",
                "\n",
                "\n",
                "-- 01 // Return all scrapped product names with the reason they were scrapped\n",
                "-- Database // AdventureWorks2017\n",
                "-- Tables // WorkOrder, ScrapReason, Product\n",
                "\n",
                "use AdventureWorks2017;\n",
                "with Scrapped\n",
                "as (select ScrappedQty as qty,\n",
                "           ScrapReasonID as reasonid,\n",
                "           ProductID as productid\n",
                "    from Production.[WorkOrder]\n",
                "    where ScrappedQty > 0\n",
                "   ),\n",
                "     ScrappedProducts\n",
                "as (select S.productid,\n",
                "           P.[Name] as productname,\n",
                "           S.qty,\n",
                "           S.reasonid\n",
                "    from Scrapped as S\n",
                "        inner join Production.[Product] as P\n",
                "            on S.productid = P.ProductID\n",
                "   )\n",
                "select productname,\n",
                "       productid,\n",
                "       qty,\n",
                "       SR.[Name] as reason\n",
                "from ScrappedProducts as SP\n",
                "    inner join Production.[ScrapReason] as SR\n",
                "        on SP.reasonid = SR.ScrapReasonID\n",
                "order by qty desc\n",
                "for json path, root('ScrappedProductReasons'), include_null_values\n",
                "\n",
                "-- 01 CORRECTED // Return all scraped products with the reason they were scrapped\n",
                "-- Database // AdventureWorks2017\n",
                "-- Tables // WorkOrder, ScrapReason, Product\n",
                "\n",
                "use AdventureWorks2017;\n",
                "with ScrappedProducts\n",
                "as (select P.[Name] as productname,\n",
                "           O.ProductID as productid,\n",
                "           O.ScrapReasonID as reasonid,\n",
                "           O.ScrappedQty as qty\n",
                "    from Production.[WorkOrder] as O\n",
                "        inner join Production.[Product] as P\n",
                "            on O.ProductID = P.ProductID\n",
                "               AND O.ScrappedQty > 0\n",
                "   )\n",
                "select productname,\n",
                "       productid,\n",
                "       qty,\n",
                "       SR.[Name] as reason\n",
                "from ScrappedProducts as SP\n",
                "    inner join Production.[ScrapReason] as SR\n",
                "        on SP.reasonid = SR.ScrapReasonID\n",
                "order by qty desc\n",
                "for json path, root('ScrappedProductReasons'), include_null_values\n",
                "\n",
                "-- 02 // Return the highest total orders for each store (not including online orders)\n",
                "-- Database // AdventureWorks2017\n",
                "-- Tables // SalesOrderHeader, Customer\n",
                "\n",
                "use AdventureWorks2017;\n",
                "with StoreCustomerOrder\n",
                "as (select distinct\n",
                "        SalesOrderID as orderid,\n",
                "        CustomerID as custid,\n",
                "        TotalDue as total\n",
                "    from Sales.[SalesOrderHeader]\n",
                "    where OnlineOrderFlag = 0\n",
                "   ),\n",
                "     StoreCustomerOrderDetail\n",
                "as (select C.StoreID as storeid,\n",
                "           orderid,\n",
                "           custid,\n",
                "           total\n",
                "    from StoreCustomerOrder as CO\n",
                "        inner join Sales.[Customer] as C\n",
                "            on CO.custid = C.CustomerID\n",
                "   )\n",
                "select storeid,\n",
                "       max(total) as maxtotal\n",
                "from StoreCustomerOrderDetail as OD\n",
                "group by storeid\n",
                "order by maxtotal desc\n",
                "\n",
                "-- 03 // Get the average income for customers in each city\n",
                "-- Database // AdventureWorksDW2017\n",
                "-- Tables // DimCustomer, DimGeography\n",
                "\n",
                "use AdventureWorksDW2017;\n",
                "\n",
                "with CustomerDetail\n",
                "as (select C.CustomerKey as custid,\n",
                "           concat(C.FirstName, ' ', C.LastName) as custname,\n",
                "           C.YearlyIncome as income,\n",
                "           G.City as city\n",
                "    from dbo.[DimCustomer] as C\n",
                "        inner join dbo.[DimGeography] as G\n",
                "            on C.GeographyKey = G.GeographyKey\n",
                "   )\n",
                "select city,\n",
                "       avg(income) as avgincome\n",
                "from CustomerDetail\n",
                "group by city\n",
                "order by avgincome asc\n",
                "\n",
                "-- 04 // Get the total internet sales amongst all sales territories with the region\n",
                "-- Database // AdventureWorksDW2017\n",
                "-- Tables // FactInternetSales, DimSalesTerritory\n",
                "\n",
                "use AdventureWorksDW2017;\n",
                "\n",
                "with TotalSales\n",
                "as (select sum(SalesAmount) as totalamount,\n",
                "           SalesTerritoryKey as territorykey\n",
                "    from dbo.[FactInternetSales]\n",
                "    group by SalesTerritoryKey\n",
                "   )\n",
                "select T.SalesTerritoryRegion as region,\n",
                "       totalamount\n",
                "from TotalSales as S\n",
                "    inner join dbo.[DimSalesTerritory] as T\n",
                "        on S.territorykey = T.SalesTerritoryKey\n",
                "\n",
                "-- 05 // Get the total price (including discount) for each individual order going to the UK\n",
                "-- Database // NorthWinds2020TSQL7\n",
                "-- Tables // Order, OrderDetail\n",
                "\n",
                "use Northwinds2022TSQLV7;\n",
                "\n",
                "with UKOrder\n",
                "as (select OrderId as orderid\n",
                "    from Sales.[Order]\n",
                "    where ShipToCountry like 'UK'\n",
                "   ),\n",
                "     UKProductTotal\n",
                "as (select O.orderid,\n",
                "           (1 - OD.DiscountPercentage) * (OD.UnitPrice * OD.Quantity) as producttotal,\n",
                "           OD.ProductId as productid\n",
                "    from UKOrder as O\n",
                "        inner join Sales.OrderDetail as OD\n",
                "            on O.orderid = OD.OrderId\n",
                "   )\n",
                "select orderid,\n",
                "       cast(sum(producttotal) as money) as total\n",
                "from UKProductTotal\n",
                "group by orderid\n",
                "order by total desc\n",
                "\n",
                "-- 06 // Get the cheapest (in-production / not discontinued) product sold by each supplier\n",
                "--    // and it's description\n",
                "-- Database // NorthWinds2020TSQL7\n",
                "-- Tables // Product, Category, Supplier \n",
                "\n",
                "use Northwinds2022TSQLV7;\n",
                "\n",
                "--table of each suppliers cheapeast price\n",
                "with Cheapest\n",
                "as (select min(P.UnitPrice) as price,\n",
                "           S.SupplierId as supplierid\n",
                "    from Production.[Product] as P\n",
                "        inner join Production.[Supplier] as S\n",
                "            on P.SupplierId = S.SupplierId\n",
                "               and P.Discontinued = 0\n",
                "    group by S.SupplierId\n",
                "   ),\n",
                "     --adding product name and category id to table from above\n",
                "     CheapestCategory\n",
                "as (select P.ProductName as productname,\n",
                "           price,\n",
                "           C.supplierid,\n",
                "           P.CategoryId as categoryid\n",
                "    from Cheapest as C\n",
                "        inner join Production.[Product] as P\n",
                "            on C.price = P.UnitPrice\n",
                "               and C.supplierid = P.SupplierId\n",
                "   )\n",
                "--adding description to table from above\n",
                "select supplierid,\n",
                "       productname,\n",
                "       price,\n",
                "       C.[Description] as productdesrc\n",
                "from CheapestCategory as CC\n",
                "    inner join Production.[Category] as C\n",
                "        on CC.categoryid = C.CategoryId\n",
                "order by supplierid asc\n",
                "\n",
                "-- 07 // Get the total amount of customer invoices each month\n",
                "-- Database // WideWorldImporters\n",
                "-- Tables // CustomerTransactions, TransactionTypes\n",
                "\n",
                "use WideWorldImporters;\n",
                "\n",
                "with Invoices\n",
                "as (select CT.CustomerID as custid,\n",
                "           CT.TransactionAmount as amount,\n",
                "           month(CT.TransactionDate) as transactionmonth\n",
                "    from Sales.[CustomerTransactions] as CT\n",
                "        inner join [Application].[TransactionTypes] as TT\n",
                "            on CT.TransactionTypeID = TT.TransactionTypeID\n",
                "               and TT.TransactionTypeName = 'Customer Invoice'\n",
                "   )\n",
                "select transactionmonth,\n",
                "       sum(amount) as totalinvoice\n",
                "from Invoices\n",
                "group by transactionmonth\n",
                "order by transactionmonth\n",
                "\n",
                "-- 08 // Rank each stock item by percentage of total stock \n",
                "-- Database // WideworldImportersDW\n",
                "-- Tables // Stock Holding, Stock Item\n",
                "\n",
                "use WideWorldImportersDW;\n",
                "\n",
                "with ItemQty\n",
                "as (select SI.[Stock Item Key] as itemkey,\n",
                "           SI.[Stock Item] as itemname,\n",
                "           SH.[Quantity On Hand] as qty\n",
                "    from Dimension.[Stock Item] as SI\n",
                "        inner join Fact.[Stock Holding] as SH\n",
                "            on SI.[Stock Item Key] = SH.[Stock Item Key]\n",
                "   )\n",
                "select itemkey,\n",
                "       itemname,\n",
                "       qty,\n",
                "       concat(round(   100 * qty / cast(\n",
                "                                   (\n",
                "                                       select sum([Quantity On Hand]) from Fact.[Stock Holding]\n",
                "                                   ) as float),\n",
                "                       3\n",
                "                   ),\n",
                "              '%'\n",
                "             ) as total\n",
                "from ItemQty\n",
                "order by total desc\n",
                "\n",
                "\n",
                "-- COMPLEX QUERIES -----------------------------\n",
                "\n",
                "\n",
                "-- 01 // Return the sales person responsible for the most expensive order in each state\n",
                "-- Database // WideworldImportersDW\n",
                "-- Tables // Employee, City, Order\n",
                "\n",
                "use WideWorldImportersDW;\n",
                "\n",
                "drop function if exists Dimension.stateMaxTotal"
            ],
            "metadata": {
                "azdata_cell_guid": "0ca11190-b500-4439-a162-cbaa12a2f809",
                "language": "sql"
            },
            "outputs": [],
            "execution_count": null
        },
        {
            "cell_type": "code",
            "source": [
                "create function Dimension.stateMaxTotal (@state as varchar(50))\n",
                "returns TABLE\n",
                "as return\n",
                "select distinct\n",
                "    C.[State Province] as stateprovince,\n",
                "    max(O.[Total Including Tax]) as maxtotal\n",
                "from Fact.[Order] as O\n",
                "    inner join Dimension.City as C\n",
                "        on O.[City Key] = C.[City Key]\n",
                "           and C.[State Province] = @state\n",
                "group by C.[State Province]"
            ],
            "metadata": {
                "azdata_cell_guid": "8a1d80ab-8297-445c-a6a5-63308f51779a",
                "language": "sql"
            },
            "outputs": [],
            "execution_count": null
        },
        {
            "cell_type": "code",
            "source": [
                "with StateOrders\n",
                "as (select [Order Key] as orderkey,\n",
                "           C.[State Province] as stateprovince,\n",
                "           O.[Total Including Tax] as total\n",
                "    from Fact.[Order] as O\n",
                "        inner join Dimension.City as C\n",
                "            on O.[City Key] = C.[City Key]\n",
                "   )\n",
                "select *\n",
                "from StateOrders\n",
                "\n",
                "-- 02 // Return the states of customers who have placed an order\n",
                "-- Database // WideworldImporters\n",
                "-- Tables // Customers, State, City, Order\n",
                "\n",
                "use WideWorldImporters;\n",
                "\n",
                "drop view if exists Sales.OrderCustomers"
            ],
            "metadata": {
                "azdata_cell_guid": "df599a4c-0be2-4784-8753-7b25ab998fb7",
                "language": "sql"
            },
            "outputs": [],
            "execution_count": null
        },
        {
            "cell_type": "code",
            "source": [
                "create view Sales.OrderCustomers\n",
                "as\n",
                "select C.CustomerID as custid\n",
                "from Sales.Customers as C\n",
                "where C.CustomerID in (\n",
                "                          select O.CustomerID\n",
                "                          from Sales.[Orders] as O\n",
                "                              inner join Sales.Customers as C\n",
                "                                  on O.CustomerID = C.[CustomerID]\n",
                "                      )"
            ],
            "metadata": {
                "azdata_cell_guid": "04b71c69-8938-47af-8f84-bda588b7b3f5",
                "language": "sql"
            },
            "outputs": [],
            "execution_count": null
        },
        {
            "cell_type": "code",
            "source": [
                "drop function if exists [Application].GetState"
            ],
            "metadata": {
                "azdata_cell_guid": "e9c097eb-edc0-42b8-a4d6-bc1a2c6a9e5b",
                "language": "sql"
            },
            "outputs": [],
            "execution_count": null
        },
        {
            "cell_type": "code",
            "source": [
                "create function [Application].GetState (@custid as int)\n",
                "returns TABLE\n",
                "as return\n",
                "select S.StateProvinceName as [state]\n",
                "from Sales.Customers as C\n",
                "    inner join [Application].Cities as CC\n",
                "        on C.PostalCityID = CC.CityID\n",
                "           AND C.CustomerID = @custid\n",
                "    inner join [Application].StateProvinces as S\n",
                "        on CC.StateProvinceID = S.StateProvinceID"
            ],
            "metadata": {
                "azdata_cell_guid": "aca876e4-1e6a-4039-8fba-6ad4928e8f62",
                "language": "sql"
            },
            "outputs": [],
            "execution_count": null
        },
        {
            "cell_type": "code",
            "source": [
                "select *\n",
                "from Sales.OrderCustomers as OC\n",
                "    cross apply [Application].[GetState](OC.custid)\n",
                "\n",
                "\n",
                "-- 03 // Return the primary contacts full name and phone number \n",
                "--       for suppliers who had more than 5 transactions over $100000\n",
                "-- Database // WideworldImporters\n",
                "-- Tables // SupplierTransaction, Suppliers, People\n",
                "\n",
                "use WideWorldImporters;\n",
                "\n",
                "drop view if exists Sales.FiveTransactions"
            ],
            "metadata": {
                "azdata_cell_guid": "4c038957-e5c2-4ac0-b618-89217aea3ce6",
                "language": "sql"
            },
            "outputs": [],
            "execution_count": null
        },
        {
            "cell_type": "code",
            "source": [
                "create view Sales.FiveTransactions\n",
                "as\n",
                "select SupplierID as supplierid,\n",
                "       count(SupplierTransactionID) as transactions\n",
                "from Purchasing.SupplierTransactions as ST\n",
                "where TransactionAmount > 10000\n",
                "group by SupplierID"
            ],
            "metadata": {
                "azdata_cell_guid": "cc7ae59b-1d7d-48a2-80a0-3ee057576886",
                "language": "sql"
            },
            "outputs": [],
            "execution_count": null
        },
        {
            "cell_type": "code",
            "source": [
                "select T.supplierid,\n",
                "       P.FullName as contact,\n",
                "       P.PhoneNumber as phone\n",
                "from Sales.FiveTransactions as T\n",
                "    left outer join Purchasing.Suppliers as S\n",
                "        on T.supplierid = S.SupplierID\n",
                "    left outer join [Application].People as P\n",
                "        on S.PrimaryContactPersonID = P.PersonID\n",
                "\n",
                "-- 04 // Return each customers 3 most recent recieved payments\n",
                "-- Database // WideworldImportersDW\n",
                "-- Tables // TransactionType, Transaction, Customer\n",
                "\n",
                "use WideWorldImportersDW\n",
                "\n",
                "drop function if exists Dimension.Get3RecentRecievedPayments"
            ],
            "metadata": {
                "azdata_cell_guid": "c305fe3f-4138-43ef-b193-d900a544997d",
                "language": "sql"
            },
            "outputs": [],
            "execution_count": null
        },
        {
            "cell_type": "code",
            "source": [
                "create function Dimension.Get3RecentRecievedPayments (@custid as int)\n",
                "returns TABLE\n",
                "as return\n",
                "select top 3\n",
                "    T.[Transaction Key] as transactionkey,\n",
                "    T.[Customer Key] as custkey,\n",
                "    T.[Date Key] as [date]\n",
                "from Fact.[Transaction] as T\n",
                "where T.[Customer Key] = @custid\n",
                "      and T.[Transaction Type Key] IN (\n",
                "                                          select TT.[Transaction Type Key]\n",
                "                                          from Dimension.[Transaction Type] as TT\n",
                "                                          where TT.[Transaction Type] = N'Customer Payment Received'\n",
                "                                      )\n",
                "order by T.[Date Key] desc"
            ],
            "metadata": {
                "azdata_cell_guid": "63d5824f-671c-46f7-9b91-300c58cc3256",
                "language": "sql"
            },
            "outputs": [],
            "execution_count": null
        },
        {
            "cell_type": "code",
            "source": [
                "select C.Customer as [name],\n",
                "       D.[date],\n",
                "       D.transactionkey\n",
                "from Dimension.Customer as C\n",
                "    cross apply Dimension.Get3RecentRecievedPayments(C.[Customer Key]) as D\n",
                "\n",
                "-- 04 CORRECTED // Return each customers 3 most recent recieved payments\n",
                "-- Database // WideworldImportersDW\n",
                "-- Tables // TransactionType, Transaction, Customer\n",
                "\n",
                "use WideWorldImportersDW\n",
                "\n",
                "drop function if exists Dimension.Get3RecentRecievedPayments"
            ],
            "metadata": {
                "azdata_cell_guid": "b138bb8a-cb41-46df-b46d-1f79b53d4219",
                "language": "sql"
            },
            "outputs": [],
            "execution_count": null
        },
        {
            "cell_type": "code",
            "source": [
                "create function Dimension.Get3RecentRecievedPayments (@custid as int)\n",
                "returns TABLE\n",
                "as return\n",
                "select top 3\n",
                "    T.[Transaction Key] as transactionkey,\n",
                "    TT.[Transaction Type] as [type],\n",
                "    T.[Customer Key] as custkey,\n",
                "    T.[Date Key] as [date]\n",
                "from Fact.[Transaction] as T\n",
                "    inner join Dimension.[Transaction Type] as TT\n",
                "        on T.[Customer Key] = @custid\n",
                "           and T.[Transaction Type Key] = TT.[Transaction Type Key]\n",
                "           and TT.[Transaction Type] = N'Customer Payment Received'\n",
                "order by T.[Date Key] desc"
            ],
            "metadata": {
                "azdata_cell_guid": "937347e1-3e62-4036-b032-78294fef6a30",
                "language": "sql"
            },
            "outputs": [],
            "execution_count": null
        },
        {
            "cell_type": "code",
            "source": [
                "select C.Customer as [name],\n",
                "       D.[date],\n",
                "       D.transactionkey,\n",
                "       D.[type]\n",
                "from Dimension.Customer as C\n",
                "    cross apply Dimension.Get3RecentRecievedPayments(C.[Customer Key]) as D\n",
                "for json path, root('3RecentRecivedPayments'), include_null_values\n",
                "\n",
                "\n",
                "-- 05 // Rank the orders for Northwest cities by number of cars\n",
                "--       owned by the customer, using yearly income as a tiebreaker\n",
                "-- Database // AdventureWorksDW2017\n",
                "-- Tables // DimCustomer, FactInternetSales, DimSalesTerritory\n",
                "\n",
                "use AdventureWorksDW2017\n",
                "\n",
                "drop function if exists dbo.GetCarsAndIncome"
            ],
            "metadata": {
                "azdata_cell_guid": "be3e4769-ac02-4ee0-92e8-1724e14061a7",
                "language": "sql"
            },
            "outputs": [],
            "execution_count": null
        },
        {
            "cell_type": "code",
            "source": [
                "create function dbo.GetCarsAndIncome (@custid as int)\n",
                "returns TABLE\n",
                "as return\n",
                "select concat(FirstName, ' ', LastName) as [name],\n",
                "       CustomerKey as custkey,\n",
                "       YearlyIncome as yrincome,\n",
                "       NumberCarsOwned as numcars\n",
                "from dbo.DimCustomer as C\n",
                "where CustomerKey = @custid"
            ],
            "metadata": {
                "azdata_cell_guid": "f7275380-2342-4f0f-bb2c-ccd70d484fe2",
                "language": "sql"
            },
            "outputs": [],
            "execution_count": null
        },
        {
            "cell_type": "code",
            "source": [
                "drop view if exists dbo.NorthwestInternetSales"
            ],
            "metadata": {
                "azdata_cell_guid": "f924479d-c7a2-4e45-8904-6143d837880c",
                "language": "sql"
            },
            "outputs": [],
            "execution_count": null
        },
        {
            "cell_type": "code",
            "source": [
                "create view dbo.NorthwestInternetSales\n",
                "as\n",
                "select distinct\n",
                "    CustomerKey as custkey,\n",
                "    SalesOrderNumber as salesordernum,\n",
                "    SalesTerritoryKey as territorykey\n",
                "from dbo.FactInternetSales\n",
                "where SalesTerritoryKey =\n",
                "(\n",
                "    select T.SalesTerritoryKey\n",
                "    from dbo.DimSalesTerritory as T\n",
                "    where T.SalesTerritoryRegion = N'Northwest'\n",
                ")"
            ],
            "metadata": {
                "azdata_cell_guid": "a24ef9ca-a24c-451b-aaa8-8a2d71cf3688",
                "language": "sql"
            },
            "outputs": [],
            "execution_count": null
        },
        {
            "cell_type": "code",
            "source": [
                "select CI.[name],\n",
                "       NW.custkey,\n",
                "       NW.salesordernum,\n",
                "       CI.numcars,\n",
                "       CI.yrincome,\n",
                "       row_number() over (order by numcars desc, yrincome desc) as [rank]\n",
                "from dbo.NorthwestInternetSales as NW\n",
                "    cross apply dbo.GetCarsAndIncome(NW.custkey) as CI\n",
                "for json path, root('NorthWestInternetSalesCars'), include_null_values\n",
                "\n",
                "-- 06 // Assuming every applicable order used available discounts, \n",
                "--       find the price of the orders after the discount\n",
                "-- Database // WideWorldImporters\n",
                "-- Tables // StockItemStockGroups, OrderLines, Orders, SpecialDeals\n",
                "\n",
                "use WideWorldImporters;\n",
                "\n",
                "drop function if exists dbo.getStockGroups"
            ],
            "metadata": {
                "azdata_cell_guid": "86220638-b87e-4af5-9361-708c763a3f8b",
                "language": "sql"
            },
            "outputs": [],
            "execution_count": null
        },
        {
            "cell_type": "code",
            "source": [
                "create function dbo.getStockGroups (@stockid as int)\n",
                "returns table\n",
                "as return\n",
                "select distinct\n",
                "    StockGroupID as stockgroupid\n",
                "from Warehouse.StockItemStockGroups\n",
                "where StockItemID in (\n",
                "                         select StockGroupID = @stockid\n",
                "                     )"
            ],
            "metadata": {
                "azdata_cell_guid": "3ca7f8e2-b843-4f0b-998c-623040751b22",
                "language": "sql"
            },
            "outputs": [],
            "execution_count": null
        },
        {
            "cell_type": "code",
            "source": [
                "drop view if exists dbo.OrdersDuringSpecial"
            ],
            "metadata": {
                "azdata_cell_guid": "03684be7-5c1f-4d9c-833a-9b8a28f1958e",
                "language": "sql"
            },
            "outputs": [],
            "execution_count": null
        },
        {
            "cell_type": "code",
            "source": [
                "create view OrdersDuringSpecial\n",
                "as\n",
                "select distinct\n",
                "    OL.OrderID as orderid,\n",
                "    OL.StockItemID as stockitemid,\n",
                "    OL.Quantity * OL.UnitPrice as total\n",
                "from Sales.OrderLines as OL\n",
                "where OL.OrderID in (\n",
                "                        select O.OrderID\n",
                "                        from Sales.Orders as O\n",
                "                            inner join Sales.SpecialDeals as S\n",
                "                                on O.OrderDate >= S.StartDate\n",
                "                                   and O.OrderDate <= S.EndDate\n",
                "                    )"
            ],
            "metadata": {
                "azdata_cell_guid": "215dd4c8-a778-4446-ba9d-02e60fa2bc99",
                "language": "sql"
            },
            "outputs": [],
            "execution_count": null
        },
        {
            "cell_type": "code",
            "source": [
                "select O.orderid,\n",
                "       O.total,\n",
                "       SD.DiscountPercentage as discount,\n",
                "       (1 - (SD.DiscountPercentage / 100)) * O.total as discounttotal,\n",
                "       SD.SpecialDealID as discountid,\n",
                "       SG.stockgroupid\n",
                "from dbo.OrdersDuringSpecial as O\n",
                "    cross apply dbo.getStockGroups(stockitemid) as SG\n",
                "    cross apply Sales.SpecialDeals as SD\n",
                "where SG.stockgroupid in (\n",
                "                             select StockGroupID from Sales.SpecialDeals\n",
                "                         )\n",
                "order by total desc"
            ],
            "metadata": {
                "azdata_cell_guid": "121d8fae-a0f1-4436-a697-e91a11959460",
                "language": "sql"
            },
            "outputs": [],
            "execution_count": null
        },
        {
            "cell_type": "markdown",
            "source": [
                "07 //"
            ],
            "metadata": {
                "azdata_cell_guid": "95485254-0f1b-4995-8897-6a527fa5b8e2"
            }
        },
        {
            "cell_type": "markdown",
            "source": [
                "Database //"
            ],
            "metadata": {
                "azdata_cell_guid": "b051830c-effa-45f0-928c-f69793e6efbf"
            }
        },
        {
            "cell_type": "markdown",
            "source": [
                "Tables //"
            ],
            "metadata": {
                "azdata_cell_guid": "d6e91128-621e-479c-b968-435be0a964e5"
            }
        }
    ]
}